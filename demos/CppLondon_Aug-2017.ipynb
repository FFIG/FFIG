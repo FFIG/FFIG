{
 "cells": [
  {
   "cell_type": "markdown",
   "metadata": {
    "slideshow": {
     "slide_type": "slide"
    }
   },
   "source": [
    "# FFIG - A foreign function interface generator for `C++`"
   ]
  },
  {
   "cell_type": "markdown",
   "metadata": {},
   "source": [
    "I want to write `C++` code and call it from Python without doing any extra work.\n",
    "\n",
    "---"
   ]
  },
  {
   "cell_type": "markdown",
   "metadata": {},
   "source": [
    "### For Project Managers\n",
    "A language like Python can be written to resemble executable pseudo-code and is a great langauge for defining high-level acceptance criteria. \n",
    "\n",
    "Developer engagement is easy when requirements are code.\n",
    "\n",
    "---"
   ]
  },
  {
   "cell_type": "markdown",
   "metadata": {},
   "source": [
    "### For Clients \n",
    "It's easy to put together interactive demos with Python. Jupyter notebook allows one to display graphs, images, videos and tabulated data. \n",
    "\n",
    "The ability to change demos on the fly in response to client queries is seriously impressive.\n",
    "\n",
    "---"
   ]
  },
  {
   "cell_type": "markdown",
   "metadata": {},
   "source": [
    "### For Developers\n",
    "I can break the edit-compile-link-test cycle with an interpreted scripting language. \n",
    "\n",
    "Once the design is right I can drive it into `C++`.\n",
    "\n",
    "---"
   ]
  },
  {
   "cell_type": "markdown",
   "metadata": {},
   "source": [
    "### Calling `C++` from Python\n",
    "\n",
    "* Write some `C++` code.\n",
    "* Define a `C-API` for binary compatibility.\n",
    "* Solving problems with ownership.\n",
    "* Define classes and functions that use a Foreign Function Interface to communicate with `C`.\n",
    "\n",
    "---"
   ]
  },
  {
   "cell_type": "markdown",
   "metadata": {},
   "source": [
    "### Code-generation\n",
    "\n",
    "* Parse `C++` code.\n",
    "* Transform parsed source code into a easy-to use form.\n",
    "* Define a template that transforms parsed source code into `C`\n",
    "* Define a template that transforms parsed source code into classes, functions and FFI calls.\n",
    "\n",
    "---"
   ]
  },
  {
   "cell_type": "code",
   "execution_count": null,
   "metadata": {},
   "outputs": [],
   "source": [
    "%%file Tree.hpp\n",
    "#ifndef FFIG_DEMOS_TREE_H\n",
    "#define FFIG_DEMOS_TREE_H\n",
    "\n",
    "#include <memory>\n",
    "\n",
    "class Tree {\n",
    "  std::unique_ptr<Tree> left_;\n",
    "  std::unique_ptr<Tree> right_;\n",
    "  int data_ = 0;    \n",
    " \n",
    " public:\n",
    "  Tree(int children) {\n",
    "    if(children <=0) return; \n",
    "    left_ = std::make_unique<Tree>(children-1);\n",
    "    right_ = std::make_unique<Tree>(children-1);\n",
    "  } \n",
    "    \n",
    "  Tree* left() { return left_.get(); }\n",
    "  \n",
    "  Tree* right() { return right_.get(); }\n",
    "    \n",
    "  int data() const { return data_; }\n",
    "  \n",
    "  void set_data(int x) { data_ = x; }\n",
    "};\n",
    "\n",
    "#endif // FFIG_DEMOS_TREE_H"
   ]
  },
  {
   "cell_type": "markdown",
   "metadata": {},
   "source": [
    "Let's compile this to ensure we've not made any mistakes."
   ]
  },
  {
   "cell_type": "code",
   "execution_count": null,
   "metadata": {
    "collapsed": true
   },
   "outputs": [],
   "source": [
    "%%sh\n",
    "clang++ -std=c++14 -fsyntax-only Tree.hpp"
   ]
  },
  {
   "cell_type": "markdown",
   "metadata": {},
   "source": [
    "---"
   ]
  },
  {
   "cell_type": "markdown",
   "metadata": {},
   "source": [
    "## Defining a C-API\n",
    "\n",
    "We want a `C-API` so that we have a well-defined and portable binary interface. \n",
    "\n",
    "We'll have to re-model our code as C does not support classes.\n",
    "\n",
    "Free functions with an extra leading argument for `this` should suffice."
   ]
  },
  {
   "cell_type": "code",
   "execution_count": null,
   "metadata": {},
   "outputs": [],
   "source": [
    "%%file Tree_c.h\n",
    "#ifndef FFIG_DEMOS_TREE_C_H\n",
    "#define FFIG_DEMOS_TREE_C_H\n",
    "\n",
    "#define C_API extern \"C\" __attribute__((visibility(\"default\")))\n",
    "\n",
    "struct CTree_t;\n",
    "typedef CTree_t* CTree;\n",
    "\n",
    "C_API CTree Tree_create(int children);\n",
    "\n",
    "C_API void Tree_dispose(CTree t);\n",
    "\n",
    "C_API CTree Tree_left(CTree t);\n",
    "\n",
    "C_API CTree Tree_right(CTree t);\n",
    "\n",
    "C_API int Tree_data(CTree t);\n",
    "\n",
    "C_API void Tree_set_data(CTree t, int x);\n",
    "\n",
    "#endif // FFIG_DEMOS_TREE_C_H"
   ]
  },
  {
   "cell_type": "code",
   "execution_count": null,
   "metadata": {},
   "outputs": [],
   "source": [
    "%%file Tree_c.cpp\n",
    "\n",
    "#include \"Tree_c.h\"\n",
    "#include \"Tree.hpp\"\n",
    "\n",
    "CTree Tree_create(int children) {\n",
    "  auto tree = std::make_unique<Tree>(children);\n",
    "  return reinterpret_cast<CTree>(tree.release());\n",
    "}\n",
    "\n",
    "void Tree_dispose(CTree t) {\n",
    "  auto* tree = reinterpret_cast<Tree*>(t);\n",
    "  delete tree;\n",
    "}\n",
    "\n",
    "CTree Tree_left(CTree t) {\n",
    "  auto* tree = reinterpret_cast<Tree*>(t);\n",
    "  return reinterpret_cast<CTree>(tree->left());\n",
    "}\n",
    "\n",
    "CTree Tree_right(CTree t) {\n",
    "  auto* tree = reinterpret_cast<Tree*>(t);\n",
    "  return reinterpret_cast<CTree>(tree->right());\n",
    "}\n",
    "\n",
    "int Tree_data(CTree t) {\n",
    "  auto* tree = reinterpret_cast<Tree*>(t);\n",
    "  return tree->data();\n",
    "}\n",
    "\n",
    "void Tree_set_data(CTree t, int x) {\n",
    "  auto* tree = reinterpret_cast<Tree*>(t);\n",
    "  tree->set_data(x);\n",
    "}"
   ]
  },
  {
   "cell_type": "markdown",
   "metadata": {},
   "source": [
    "We can build this to create a shared library with our `C-API` symbols exposed."
   ]
  },
  {
   "cell_type": "code",
   "execution_count": null,
   "metadata": {},
   "outputs": [],
   "source": [
    "%%file CMakeLists.txt\n",
    "\n",
    "cmake_minimum_required(VERSION 3.0)\n",
    "set(CMAKE_CXX_STANDARD 14)\n",
    "add_compile_options(-fvisibility=hidden)\n",
    "add_library(Tree_c SHARED Tree_c.cpp)"
   ]
  },
  {
   "cell_type": "code",
   "execution_count": null,
   "metadata": {},
   "outputs": [],
   "source": [
    "%%sh\n",
    "rm -rf CMakeFiles/\n",
    "rm CMakeCache.txt || echo\n",
    "\n",
    "cmake . -GNinja\n",
    "cmake --build .\n",
    "strip -x libTree_c.dylib"
   ]
  },
  {
   "cell_type": "code",
   "execution_count": null,
   "metadata": {},
   "outputs": [],
   "source": [
    "%%sh\n",
    "nm -U libTree_c.dylib"
   ]
  },
  {
   "cell_type": "markdown",
   "metadata": {},
   "source": [
    "## Python interop"
   ]
  },
  {
   "cell_type": "markdown",
   "metadata": {},
   "source": [
    "We can use Python's `ctypes` module to interact with the `C` shared-library."
   ]
  },
  {
   "cell_type": "code",
   "execution_count": null,
   "metadata": {
    "collapsed": true
   },
   "outputs": [],
   "source": [
    "import ctypes\n",
    "ctypes.c_object_p = ctypes.POINTER(ctypes.c_void_p)\n",
    "\n",
    "tree_lib = ctypes.cdll.LoadLibrary(\"libTree_c.dylib\")"
   ]
  },
  {
   "cell_type": "markdown",
   "metadata": {},
   "source": [
    "We need to tell ctypes about the arguments and return types of the functions.\n",
    "\n",
    "By default ctypes assumes functions take no arguments and return an integer."
   ]
  },
  {
   "cell_type": "code",
   "execution_count": null,
   "metadata": {
    "collapsed": true
   },
   "outputs": [],
   "source": [
    "tree_lib.Tree_create.argtypes = [ctypes.c_int]\n",
    "tree_lib.Tree_create.restype = ctypes.c_object_p\n",
    "\n",
    "tree_lib.Tree_dispose.argtypes = [ctypes.c_object_p]\n",
    "tree_lib.Tree_dispose.restype = None\n",
    "\n",
    "tree_lib.Tree_left.argtypes = [ctypes.c_object_p]\n",
    "tree_lib.Tree_left.restype = ctypes.c_object_p\n",
    "\n",
    "tree_lib.Tree_right.argtypes = [ctypes.c_object_p]\n",
    "tree_lib.Tree_right.restype = ctypes.c_object_p\n",
    "\n",
    "tree_lib.Tree_data.argtypes = [ctypes.c_object_p]\n",
    "tree_lib.Tree_data.restype = ctypes.c_int\n",
    "\n",
    "tree_lib.Tree_set_data.argtypes = [ctypes.c_object_p, ctypes.c_int]\n",
    "tree_lib.Tree_set_data.restype = None"
   ]
  },
  {
   "cell_type": "markdown",
   "metadata": {},
   "source": [
    "We'll leave the string-related methods for now, interop there is not so easy.\n",
    "\n",
    "Let's see what we can do with the fledgling Python API."
   ]
  },
  {
   "cell_type": "code",
   "execution_count": null,
   "metadata": {
    "collapsed": true
   },
   "outputs": [],
   "source": [
    "root = tree_lib.Tree_create(2)"
   ]
  },
  {
   "cell_type": "code",
   "execution_count": null,
   "metadata": {},
   "outputs": [],
   "source": [
    "tree_lib.Tree_data(root)"
   ]
  },
  {
   "cell_type": "code",
   "execution_count": null,
   "metadata": {},
   "outputs": [],
   "source": [
    "tree_lib.Tree_set_data(root, 42)\n",
    "tree_lib.Tree_data(root)"
   ]
  },
  {
   "cell_type": "code",
   "execution_count": null,
   "metadata": {
    "collapsed": true
   },
   "outputs": [],
   "source": [
    "tree_lib.Tree_dispose(root)"
   ]
  },
  {
   "cell_type": "markdown",
   "metadata": {},
   "source": [
    "So far, so not-very-Pythonic.\n",
    "\n",
    "We want classes!"
   ]
  },
  {
   "cell_type": "code",
   "execution_count": null,
   "metadata": {
    "collapsed": true
   },
   "outputs": [],
   "source": [
    "class Tree(object):\n",
    "    \n",
    "    def __init__(self, children=None, _p=None):\n",
    "        if _p:\n",
    "            self._ptr = _p\n",
    "            self._owner = False\n",
    "        else:\n",
    "            self._ptr = tree_lib.Tree_create(children)\n",
    "            self._owner = True\n",
    "        \n",
    "    def __del__(self):\n",
    "        if self._owner:\n",
    "            tree_lib.Tree_dispose(self._ptr)\n",
    "     \n",
    "    def __repr__(self):\n",
    "        return \"<Tree data:{}>\".format(self.data)\n",
    "    \n",
    "    @property\n",
    "    def left(self):\n",
    "        p = tree_lib.Tree_left(self._ptr)\n",
    "        if not p: \n",
    "            return None\n",
    "        return Tree(_p=p)\n",
    "    \n",
    "    @property\n",
    "    def right(self):\n",
    "        p = tree_lib.Tree_right(self._ptr)\n",
    "        if not p: \n",
    "            return None\n",
    "        \n",
    "        return Tree(_p=p)\n",
    "    \n",
    "    @property\n",
    "    def data(self):\n",
    "        return tree_lib.Tree_data(self._ptr)\n",
    "    \n",
    "    @data.setter\n",
    "    def data(self, x):\n",
    "        tree_lib.Tree_set_data(self._ptr, x)"
   ]
  },
  {
   "cell_type": "code",
   "execution_count": null,
   "metadata": {},
   "outputs": [],
   "source": [
    "t = Tree(2)\n",
    "t"
   ]
  },
  {
   "cell_type": "code",
   "execution_count": null,
   "metadata": {},
   "outputs": [],
   "source": [
    "t.data = 42\n",
    "t"
   ]
  },
  {
   "cell_type": "code",
   "execution_count": null,
   "metadata": {},
   "outputs": [],
   "source": [
    "t.left"
   ]
  },
  {
   "cell_type": "code",
   "execution_count": null,
   "metadata": {
    "collapsed": true
   },
   "outputs": [],
   "source": [
    "t.left.data = 6"
   ]
  },
  {
   "cell_type": "code",
   "execution_count": null,
   "metadata": {},
   "outputs": [],
   "source": [
    "t.left"
   ]
  },
  {
   "cell_type": "markdown",
   "metadata": {},
   "source": [
    "This looks good but we our crude attempts at memory management will fail if we start working with temporaries."
   ]
  },
  {
   "cell_type": "code",
   "execution_count": null,
   "metadata": {
    "collapsed": true
   },
   "outputs": [],
   "source": [
    "# This kills the kernel\n",
    "# left = Tree(3).left.left\n",
    "# left.data"
   ]
  },
  {
   "cell_type": "markdown",
   "metadata": {},
   "source": [
    "Our Python classes don't know enough about the underlying C++ to do the memory management. \n",
    "\n",
    "Our C-API implementation needs a re-think."
   ]
  },
  {
   "cell_type": "markdown",
   "metadata": {},
   "source": [
    "## Defining a C-API (Again)"
   ]
  },
  {
   "cell_type": "markdown",
   "metadata": {},
   "source": [
    "We can imbue the pointers passed across the API boundary with object lifetime detail"
   ]
  },
  {
   "cell_type": "markdown",
   "metadata": {},
   "source": [
    "### The aliasing constructor of `std::shared_ptr`"
   ]
  },
  {
   "cell_type": "markdown",
   "metadata": {},
   "source": [
    "We can use the aliasing constructor of shared_ptr to keep objects alive while any subobject is exposed across the API boundary."
   ]
  },
  {
   "cell_type": "raw",
   "metadata": {},
   "source": [
    "template <class T>\n",
    "class shared_ptr {\n",
    "\n",
    "  shared_ptr(const shared_ptr<U>& parent, T* child);\n",
    "\n",
    "};"
   ]
  },
  {
   "cell_type": "markdown",
   "metadata": {},
   "source": [
    "---"
   ]
  },
  {
   "cell_type": "code",
   "execution_count": null,
   "metadata": {},
   "outputs": [],
   "source": [
    "%%file Tree_2_c.cpp\n",
    "\n",
    "#include <memory>\n",
    "#include \"Tree_c.h\"\n",
    "#include \"Tree.hpp\"\n",
    "\n",
    "using Tree_ptr = std::shared_ptr<Tree>*;\n",
    "\n",
    "CTree Tree_create(int children) {\n",
    "  auto tree = std::make_unique<Tree>(children);\n",
    "  Tree_ptr p = new std::shared_ptr<Tree>(tree.release());\n",
    "  return reinterpret_cast<CTree>(p);\n",
    "}\n",
    "\n",
    "void Tree_dispose(CTree t) {\n",
    "  delete reinterpret_cast<Tree_ptr>(t);\n",
    "}\n",
    "\n",
    "CTree Tree_left(CTree t) {\n",
    "  const auto& tree = *reinterpret_cast<Tree_ptr>(t);\n",
    "  auto left = tree->left();\n",
    "  if(!left) \n",
    "    return nullptr;\n",
    "    \n",
    "  Tree_ptr p = new std::shared_ptr<Tree>(tree, left);\n",
    "  return reinterpret_cast<CTree>(p);\n",
    "}\n",
    "\n",
    "CTree Tree_right(CTree t) {\n",
    "  const auto& tree = *reinterpret_cast<Tree_ptr>(t);\n",
    "  auto right = tree->left();\n",
    "  if(!right) \n",
    "    return nullptr;\n",
    "    \n",
    "  Tree_ptr p = new std::shared_ptr<Tree>(tree, right);\n",
    "  return reinterpret_cast<CTree>(p);\n",
    "}\n",
    "\n",
    "int Tree_data(CTree t) {\n",
    "  const auto& tree = *reinterpret_cast<Tree_ptr>(t);\n",
    "  return tree->data();\n",
    "}\n",
    "\n",
    "void Tree_set_data(CTree t, int x) {\n",
    "  const auto& tree = *reinterpret_cast<Tree_ptr>(t);\n",
    "  tree->set_data(x);\n",
    "}"
   ]
  },
  {
   "cell_type": "code",
   "execution_count": null,
   "metadata": {},
   "outputs": [],
   "source": [
    "%%file CMakeLists.txt\n",
    "\n",
    "cmake_minimum_required(VERSION 3.0)\n",
    "set(CMAKE_CXX_STANDARD 14)\n",
    "add_compile_options(-fvisibility=hidden)\n",
    "add_library(Tree_2_c SHARED Tree_2_c.cpp)"
   ]
  },
  {
   "cell_type": "code",
   "execution_count": null,
   "metadata": {},
   "outputs": [],
   "source": [
    "%%sh\n",
    "rm -rf CMakeFiles/\n",
    "rm CMakeCache.txt\n",
    "\n",
    "cmake . -GNinja\n",
    "cmake --build .\n",
    "strip -x libTree_2_c.dylib"
   ]
  },
  {
   "cell_type": "markdown",
   "metadata": {},
   "source": [
    "## A Safer Python API"
   ]
  },
  {
   "cell_type": "code",
   "execution_count": null,
   "metadata": {
    "collapsed": true
   },
   "outputs": [],
   "source": [
    "import ctypes\n",
    "ctypes.c_object_p = ctypes.POINTER(ctypes.c_void_p)\n",
    "\n",
    "tree_lib2 = ctypes.cdll.LoadLibrary(\"libTree_2_c.dylib\")"
   ]
  },
  {
   "cell_type": "code",
   "execution_count": null,
   "metadata": {
    "collapsed": true
   },
   "outputs": [],
   "source": [
    "tree_lib2.Tree_create.argtypes = [ctypes.c_int]\n",
    "tree_lib2.Tree_create.restype = ctypes.c_object_p\n",
    "\n",
    "tree_lib2.Tree_dispose.argtypes = [ctypes.c_object_p]\n",
    "tree_lib2.Tree_dispose.restype = None\n",
    "\n",
    "tree_lib2.Tree_left.argtypes = [ctypes.c_object_p]\n",
    "tree_lib2.Tree_left.restype = ctypes.c_object_p\n",
    "\n",
    "tree_lib2.Tree_right.argtypes = [ctypes.c_object_p]\n",
    "tree_lib2.Tree_right.restype = ctypes.c_object_p\n",
    "\n",
    "tree_lib2.Tree_data.argtypes = [ctypes.c_object_p]\n",
    "tree_lib2.Tree_data.restype = ctypes.c_int\n",
    "\n",
    "tree_lib2.Tree_set_data.argtypes = [ctypes.c_object_p, ctypes.c_int]\n",
    "tree_lib2.Tree_set_data.restype = None"
   ]
  },
  {
   "cell_type": "code",
   "execution_count": null,
   "metadata": {
    "collapsed": true
   },
   "outputs": [],
   "source": [
    "class Tree2(object):\n",
    "    \n",
    "    def __init__(self, children=None, _p=None):\n",
    "        if _p:\n",
    "            self._ptr = _p\n",
    "        else:\n",
    "            self._ptr = tree_lib2.Tree_create(children)\n",
    "        \n",
    "    def __del__(self):\n",
    "        tree_lib2.Tree_dispose(self._ptr)\n",
    "     \n",
    "    def __repr__(self):\n",
    "        return \"<Tree data:{}>\".format(self.data)\n",
    "    \n",
    "    @property\n",
    "    def left(self):\n",
    "        p = tree_lib2.Tree_left(self._ptr)\n",
    "        if not p: \n",
    "            return None\n",
    "        return Tree2(_p=p)\n",
    "    \n",
    "    @property\n",
    "    def right(self):\n",
    "        p = tree_lib2.Tree_right(self._ptr)\n",
    "        if not p: \n",
    "            return None\n",
    "        \n",
    "        return Tree2(_p=p)\n",
    "    \n",
    "    @property\n",
    "    def data(self):\n",
    "        return tree_lib2.Tree_data(self._ptr)\n",
    "    \n",
    "    @data.setter\n",
    "    def data(self, x):\n",
    "        tree_lib2.Tree_set_data(self._ptr, x)"
   ]
  },
  {
   "cell_type": "code",
   "execution_count": null,
   "metadata": {},
   "outputs": [],
   "source": [
    "# This no longer kills the kernel\n",
    "left = Tree2(3).left.left.left\n",
    "left.data"
   ]
  },
  {
   "cell_type": "code",
   "execution_count": null,
   "metadata": {},
   "outputs": [],
   "source": [
    "root = Tree2(3)\n",
    "left = root.left\n",
    "left.data = 42\n",
    "\n",
    "del root\n",
    "left.data"
   ]
  },
  {
   "cell_type": "markdown",
   "metadata": {},
   "source": [
    "In addition to memory management, we have string translation and exception handling to think about.\n",
    "\n",
    "Given time constraints, I won't cover that here. "
   ]
  },
  {
   "cell_type": "markdown",
   "metadata": {},
   "source": [
    "---"
   ]
  },
  {
   "cell_type": "markdown",
   "metadata": {},
   "source": [
    "# FFIG"
   ]
  },
  {
   "cell_type": "markdown",
   "metadata": {},
   "source": [
    "Writing C-API and Python bindings out by hand is time consuming and more than a little error prone.\n",
    "\n",
    "There's not a lot of creativity required once the approach is worked out.\n",
    "\n",
    "We want to generate it."
   ]
  },
  {
   "cell_type": "markdown",
   "metadata": {},
   "source": [
    "### Parsing `C++` with libclang"
   ]
  },
  {
   "cell_type": "markdown",
   "metadata": {},
   "source": [
    "libclang has Python bindings and exposes enough of the AST that we can extract all the information we need."
   ]
  },
  {
   "cell_type": "code",
   "execution_count": null,
   "metadata": {
    "collapsed": true
   },
   "outputs": [],
   "source": [
    "import sys\n",
    "sys.path.insert(0,'..')\n",
    "\n",
    "import ffig.clang.cindex\n",
    "\n",
    "index = ffig.clang.cindex.Index.create()\n",
    "translation_unit = index.parse(\"Tree.hpp\", ['-x', 'c++', '-std=c++14', '-I../ffig/include'])"
   ]
  },
  {
   "cell_type": "code",
   "execution_count": null,
   "metadata": {},
   "outputs": [],
   "source": [
    "import asciitree\n",
    "\n",
    "def node_children(node):\n",
    "    return (c for c in node.get_children() if c.location.file.name == \"Tree.hpp\")\n",
    "\n",
    "print(asciitree.draw_tree(translation_unit.cursor,\n",
    "  lambda n: [c for c in node_children(n)],\n",
    "  lambda n: \"%s (%s)\" % (n.spelling or n.displayname, str(n.kind).split(\".\")[1])))"
   ]
  },
  {
   "cell_type": "markdown",
   "metadata": {},
   "source": [
    "---"
   ]
  },
  {
   "cell_type": "markdown",
   "metadata": {},
   "source": [
    "We create some simple classes of our own to make handling the relevant AST info easy."
   ]
  },
  {
   "cell_type": "code",
   "execution_count": null,
   "metadata": {},
   "outputs": [],
   "source": [
    "import ffig.cppmodel\n",
    "import ffig.clang.cindex\n",
    "\n",
    "model = ffig.cppmodel.Model(translation_unit)"
   ]
  },
  {
   "cell_type": "code",
   "execution_count": null,
   "metadata": {},
   "outputs": [],
   "source": [
    "model"
   ]
  },
  {
   "cell_type": "code",
   "execution_count": null,
   "metadata": {},
   "outputs": [],
   "source": [
    "model.classes[-5:]"
   ]
  },
  {
   "cell_type": "code",
   "execution_count": null,
   "metadata": {},
   "outputs": [],
   "source": [
    "model.classes[-1].methods"
   ]
  },
  {
   "cell_type": "markdown",
   "metadata": {},
   "source": [
    "---"
   ]
  },
  {
   "cell_type": "markdown",
   "metadata": {},
   "source": [
    "### Jinja2 templates"
   ]
  },
  {
   "cell_type": "markdown",
   "metadata": {},
   "source": [
    "Jinja2 is a lightweight web-templating engine used in Flask and we can use it to generate code from AST info."
   ]
  },
  {
   "cell_type": "code",
   "execution_count": null,
   "metadata": {},
   "outputs": [],
   "source": [
    "from jinja2 import Template\n",
    "template = Template(R\"\"\"\n",
    "C++ 17 will bring us:\n",
    "{%for feature in features%}\n",
    "* {{feature}}\n",
    "{% endfor%}\n",
    "\"\"\")\n",
    "print(template.render(\n",
    "    {'features':['variant',\n",
    "                 'optional',\n",
    "                 'inline variables',\n",
    "                 'fold-expressions',\n",
    "                 'mandated-copy-elision']}))"
   ]
  },
  {
   "cell_type": "markdown",
   "metadata": {},
   "source": [
    "---"
   ]
  },
  {
   "cell_type": "markdown",
   "metadata": {},
   "source": [
    "### Jinja2 and libclang"
   ]
  },
  {
   "cell_type": "markdown",
   "metadata": {},
   "source": [
    "We can feed the AST info to a Jinja2 template to write some code for us."
   ]
  },
  {
   "cell_type": "code",
   "execution_count": null,
   "metadata": {
    "collapsed": true
   },
   "outputs": [],
   "source": [
    "tree_ast = model.classes[-1]"
   ]
  },
  {
   "cell_type": "code",
   "execution_count": null,
   "metadata": {},
   "outputs": [],
   "source": [
    "from jinja2 import Template\n",
    "template = Template(R\"\"\"\\\n",
    "#ifndef   {{class.name|upper}}_H\n",
    "#define   {{class.name|upper}}_H\n",
    "\n",
    "struct {{class.name}}_t;\n",
    "typedef {{class.name}}_t* {{class.name}};\n",
    "\n",
    "{{class.name}} {{class.name}}_create();\n",
    "\n",
    "{{class.name}} {{class.name}}_dispose({{class.name}} my{{class.name}});\n",
    "\n",
    "{%- for m in class.methods %}{% if not m.arguments %}\n",
    "\n",
    "{{class.name}} {{class.name}}_{{m.name}}({{class.name}} my{{class.name}});\n",
    "{%- endif %}{% endfor %}\n",
    "\n",
    "#else  // {{class.name|upper}}_H\n",
    "#endif // {{class.name|upper}}_H\n",
    "\n",
    "\"\"\")\n",
    "print(template.render({'class':tree_ast}))"
   ]
  },
  {
   "cell_type": "markdown",
   "metadata": {},
   "source": [
    "### Generating a Python API with FFIG"
   ]
  },
  {
   "cell_type": "markdown",
   "metadata": {},
   "source": [
    "FFIG can be invoked to generate bindings for us.\n",
    "\n",
    "FFIG requires that a class is annotated to create bindings for it."
   ]
  },
  {
   "cell_type": "code",
   "execution_count": null,
   "metadata": {},
   "outputs": [],
   "source": [
    "%%file Shape.h\n",
    "#include \"ffig/attributes.h\"\n",
    "#include <stdexcept>\n",
    "#include <string>\n",
    "\n",
    "struct FFIG_EXPORT Shape {\n",
    "  virtual ~Shape() = default;\n",
    "  virtual double area() const = 0;\n",
    "  virtual double perimeter() const = 0;\n",
    "  virtual const char* name() const = 0;\n",
    "};\n",
    "\n",
    "static const double pi = 3.14159;\n",
    "\n",
    "class Circle : public Shape {\n",
    "  const double radius_;\n",
    "\n",
    "public:\n",
    "  double area() const override {\n",
    "    return pi * radius_ * radius_;\n",
    "  }\n",
    "\n",
    "  double perimeter() const override {\n",
    "    return 2 * pi * radius_;\n",
    "  }\n",
    "\n",
    "  const char* name() const override {\n",
    "    return \"Circle\";\n",
    "  }\n",
    "\n",
    "  Circle(double radius) : radius_(radius) {\n",
    "    if ( radius < 0 ) { \n",
    "      std::string s = \"Circle radius \\\"\" \n",
    "        + std::to_string(radius_) + \"\\\" must be non-negative.\";\n",
    "      throw std::runtime_error(s);\n",
    "    }\n",
    "  }\n",
    "};"
   ]
  },
  {
   "cell_type": "code",
   "execution_count": null,
   "metadata": {
    "collapsed": true
   },
   "outputs": [],
   "source": [
    "%%sh\n",
    "cd ../\n",
    "python -m ffig -b rb.tmpl python -m Shape -i demos/Shape.h -o demos"
   ]
  },
  {
   "cell_type": "code",
   "execution_count": null,
   "metadata": {},
   "outputs": [],
   "source": [
    "%%sh\n",
    "cd ../\n",
    "rm -rf ffig_output\n",
    "mkdir ffig_output\n",
    "python -m ffig -b rb.tmpl python -m Shape -i demos/Shape.h -o ffig_output\n",
    "ls -R ffig_output"
   ]
  },
  {
   "cell_type": "code",
   "execution_count": null,
   "metadata": {},
   "outputs": [],
   "source": [
    "%cat Shape/_py3.py"
   ]
  },
  {
   "cell_type": "code",
   "execution_count": null,
   "metadata": {},
   "outputs": [],
   "source": [
    "%%file CMakeLists.txt\n",
    "\n",
    "cmake_minimum_required(VERSION 3.0)\n",
    "set(CMAKE_CXX_STANDARD 14)\n",
    "\n",
    "include_directories(../ffig/include)\n",
    "\n",
    "add_library(Shape_c SHARED Shape_c.cpp)"
   ]
  },
  {
   "cell_type": "code",
   "execution_count": null,
   "metadata": {},
   "outputs": [],
   "source": [
    "%%sh\n",
    "rm -rf CMakeFiles/\n",
    "rm CMakeCache.txt\n",
    "\n",
    "cmake . -GNinja\n",
    "cmake --build .\n",
    "strip -x libShape_c.dylib"
   ]
  },
  {
   "cell_type": "code",
   "execution_count": null,
   "metadata": {},
   "outputs": [],
   "source": [
    "import Shape\n",
    "\n",
    "c = Shape.Circle(8)\n",
    "\n",
    "print(\"A {} with radius {} has area {}\".format(c.name(), 8, c.area()))"
   ]
  },
  {
   "cell_type": "code",
   "execution_count": null,
   "metadata": {},
   "outputs": [],
   "source": [
    "%%script /opt/intel/intelpython27/bin/python\n",
    "\n",
    "import Shape\n",
    "Shape.Config.set_library_path(\".\")\n",
    "c = Shape.Circle(8)\n",
    "\n",
    "print(\"A {} with radius {} has area {}\".format(c.name(), 8, c.area()))"
   ]
  },
  {
   "cell_type": "code",
   "execution_count": null,
   "metadata": {},
   "outputs": [],
   "source": [
    "Shape.Circle(-5)"
   ]
  },
  {
   "cell_type": "code",
   "execution_count": null,
   "metadata": {
    "collapsed": true
   },
   "outputs": [],
   "source": [
    "%%ruby\n",
    "load \"Shape.rb\"\n",
    "c = Circle.new(8)\n",
    "\n",
    "puts(\"A #{c.name()} with radius #{8} has area #{c.area()}\")"
   ]
  },
  {
   "cell_type": "markdown",
   "metadata": {},
   "source": [
    "## FFIG needs you!\n",
    "\n",
    "FFIG is MIT-licensed and hosted on GitHub.\n",
    "\n",
    "We'd _really_ like input on:\n",
    "\n",
    "* Support for returning non-primitives by value\n",
    "* Support for standard library types\n",
    "* Generating boost::python bindings\n",
    "\n",
    "Other issues are on: https://github.com/FFIG/ffig/issues\n",
    "\n",
    "Our policy for PRs is to approve things that do not break existing code. No change is too small!"
   ]
  }
 ],
 "metadata": {
  "kernelspec": {
   "display_name": "Python 3",
   "language": "python",
   "name": "python3"
  },
  "language_info": {
   "codemirror_mode": {
    "name": "ipython",
    "version": 3
   },
   "file_extension": ".py",
   "mimetype": "text/x-python",
   "name": "python",
   "nbconvert_exporter": "python",
   "pygments_lexer": "ipython3",
   "version": "3.6.2"
  }
 },
 "nbformat": 4,
 "nbformat_minor": 2
}
