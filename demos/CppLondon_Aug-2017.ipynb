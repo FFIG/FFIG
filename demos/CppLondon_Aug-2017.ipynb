{
 "cells": [
  {
   "cell_type": "markdown",
   "metadata": {
    "slideshow": {
     "slide_type": "slide"
    }
   },
   "source": [
    "# FFIG - A foreign function inteface generator for `C++`"
   ]
  },
  {
   "cell_type": "markdown",
   "metadata": {},
   "source": [
    "### For Project Managers\n",
    "A language like Python can be written to resemble executable pseudo-code and is a great langauge for defining high-level acceptance criteria. \n",
    "\n",
    "Developer engagement is easy when requirements are code.\n",
    "\n",
    "---\n",
    "\n",
    "### For Clients \n",
    "It's easy to put together interactive demos with Python. Jupyter notebook allows one to display graphs, images, videos and tabulated data. \n",
    "\n",
    "The ability to change demos on the fly in response to client queries is seriously impressive.\n",
    "\n",
    "---\n",
    "\n",
    "### For Developers\n",
    "I can break the edit-compile-link-test cycle with an interpreted scripting language. \n",
    "\n",
    "Once the design is right I can drive it into `C++`.\n",
    "\n",
    "---"
   ]
  },
  {
   "cell_type": "markdown",
   "metadata": {},
   "source": [
    "### Design\n",
    "\n",
    "* Write some `C++` code.\n",
    "* Define a `C-API` for binary compatibility.\n",
    "* Solving problems with ownership.\n",
    "* Define classes and functions that use a Foreign Function Interface to communicate with `C`.\n",
    "\n",
    "---"
   ]
  },
  {
   "cell_type": "markdown",
   "metadata": {},
   "source": [
    "### Code-generation\n",
    "\n",
    "* Parse `C++` code.\n",
    "* Transform parsed source code into a easy-to use form.\n",
    "* Define a template that transforms parsed source code into `C`\n",
    "* Define a template that transforms parsed source code into classes, functions and FFI calls.\n",
    "\n",
    "---"
   ]
  },
  {
   "cell_type": "markdown",
   "metadata": {},
   "source": [
    "### Extras\n",
    "\n",
    "* Supporting Python 3.\n",
    "* Supporting C++.\n",
    "\n",
    "---"
   ]
  },
  {
   "cell_type": "code",
   "execution_count": null,
   "metadata": {},
   "outputs": [],
   "source": []
  }
 ],
 "metadata": {
  "kernelspec": {
   "display_name": "Python 3",
   "language": "python",
   "name": "python3"
  },
  "language_info": {
   "codemirror_mode": {
    "name": "ipython",
    "version": 3
   },
   "file_extension": ".py",
   "mimetype": "text/x-python",
   "name": "python",
   "nbconvert_exporter": "python",
   "pygments_lexer": "ipython3",
   "version": "3.6.2"
  }
 },
 "nbformat": 4,
 "nbformat_minor": 2
}
