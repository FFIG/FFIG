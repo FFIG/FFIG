{
 "cells": [
  {
   "cell_type": "markdown",
   "metadata": {
    "slideshow": {
     "slide_type": "slide"
    }
   },
   "source": [
    "# FFIG - A foreign function interface generator for `C++`"
   ]
  },
  {
   "cell_type": "markdown",
   "metadata": {},
   "source": [
    "I want to write `C++` code and call it from Python without doing any extra work.\n",
    "\n",
    "---"
   ]
  },
  {
   "cell_type": "markdown",
   "metadata": {},
   "source": [
    "### For Project Managers\n",
    "A language like Python can be written to resemble executable pseudo-code and is a great langauge for defining high-level acceptance criteria. \n",
    "\n",
    "Developer engagement is easy when requirements are code.\n",
    "\n",
    "---"
   ]
  },
  {
   "cell_type": "markdown",
   "metadata": {},
   "source": [
    "### For Clients \n",
    "It's easy to put together interactive demos with Python. Jupyter notebook allows one to display graphs, images, videos and tabulated data. \n",
    "\n",
    "The ability to change demos on the fly in response to client queries is seriously impressive.\n",
    "\n",
    "---"
   ]
  },
  {
   "cell_type": "markdown",
   "metadata": {},
   "source": [
    "### For Developers\n",
    "I can break the edit-compile-link-test cycle with an interpreted scripting language. \n",
    "\n",
    "Once the design is right I can drive it into `C++`.\n",
    "\n",
    "---"
   ]
  },
  {
   "cell_type": "markdown",
   "metadata": {},
   "source": [
    "### Calling `C++` from Python\n",
    "\n",
    "* Write some `C++` code.\n",
    "* Define a `C-API` for binary compatibility.\n",
    "* Solving problems with ownership.\n",
    "* Define classes and functions that use a Foreign Function Interface to communicate with `C`.\n",
    "\n",
    "---"
   ]
  },
  {
   "cell_type": "markdown",
   "metadata": {},
   "source": [
    "### Code-generation\n",
    "\n",
    "* Parse `C++` code.\n",
    "* Transform parsed source code into a easy-to use form.\n",
    "* Define a template that transforms parsed source code into `C`\n",
    "* Define a template that transforms parsed source code into classes, functions and FFI calls.\n",
    "\n",
    "---"
   ]
  },
  {
   "cell_type": "markdown",
   "metadata": {},
   "source": [
    "### Extras\n",
    "\n",
    "* Supporting Python 3.\n",
    "* Supporting C++.\n",
    "\n",
    "---"
   ]
  },
  {
   "cell_type": "code",
   "execution_count": 2,
   "metadata": {},
   "outputs": [
    {
     "name": "stdout",
     "output_type": "stream",
     "text": [
      "Overwriting Tree.hpp\n"
     ]
    }
   ],
   "source": [
    "%%file Tree.hpp\n",
    "#ifndef DEMOS_TREE_H\n",
    "#define DEMOS_TREE_H\n",
    "\n",
    "#include <memory>\n",
    "\n",
    "class Tree {\n",
    "  std::unique_ptr<Tree> left_;\n",
    "  std::unique_ptr<Tree> right_;\n",
    "  int data_ = 0;    \n",
    " \n",
    " public:\n",
    "  Tree(int children) {\n",
    "    if(children <=0) return; \n",
    "    left_ = std::make_unique<Tree>(children-1);\n",
    "    right_ = std::make_unique<Tree>(children-1);\n",
    "  } \n",
    "    \n",
    "  Tree* left() { return left_.get(); }\n",
    "  \n",
    "  Tree* right() { return right_.get(); }\n",
    "    \n",
    "  int data() const { return data_; }\n",
    "  \n",
    "  void set_data(int x) { data_ = x; }\n",
    "};\n",
    "\n",
    "#endif // DEMOS_TREE_H"
   ]
  },
  {
   "cell_type": "markdown",
   "metadata": {},
   "source": [
    "Let's compile this to ensure we've not made any mistakes."
   ]
  },
  {
   "cell_type": "code",
   "execution_count": 3,
   "metadata": {
    "collapsed": true
   },
   "outputs": [],
   "source": [
    "%%sh\n",
    "clang++ -std=c++14 -fsyntax-only Tree.hpp"
   ]
  },
  {
   "cell_type": "markdown",
   "metadata": {},
   "source": [
    "---"
   ]
  },
  {
   "cell_type": "markdown",
   "metadata": {},
   "source": [
    "## Defining a C-API\n",
    "\n",
    "We want a `C-API` so that we have a well-defined and portable binary interface. \n",
    "\n",
    "We'll have to re-model our code as C does not support classes.\n",
    "\n",
    "Free functions with an extra leading argument for `this` should suffice."
   ]
  },
  {
   "cell_type": "code",
   "execution_count": 4,
   "metadata": {},
   "outputs": [
    {
     "name": "stdout",
     "output_type": "stream",
     "text": [
      "Overwriting Tree_c.h\n"
     ]
    }
   ],
   "source": [
    "%%file Tree_c.h\n",
    "\n",
    "#define C_API extern \"C\" __attribute__((visibility(\"default\")))\n",
    "\n",
    "struct CTree_t;\n",
    "typedef CTree_t* CTree;\n",
    "\n",
    "C_API CTree Tree_create(int children);\n",
    "\n",
    "C_API void Tree_dispose(CTree t);\n",
    "\n",
    "C_API CTree Tree_left(CTree t);\n",
    "\n",
    "C_API CTree Tree_right(CTree t);\n",
    "\n",
    "C_API int Tree_data(CTree t);\n",
    "\n",
    "C_API void Tree_set_data(CTree t, int x);"
   ]
  },
  {
   "cell_type": "code",
   "execution_count": 5,
   "metadata": {},
   "outputs": [
    {
     "name": "stdout",
     "output_type": "stream",
     "text": [
      "Overwriting Tree_c.cpp\n"
     ]
    }
   ],
   "source": [
    "%%file Tree_c.cpp\n",
    "\n",
    "#include \"Tree_c.h\"\n",
    "#include \"Tree.hpp\"\n",
    "\n",
    "CTree Tree_create(int children) {\n",
    "  auto tree = std::make_unique<Tree>(children);\n",
    "  return reinterpret_cast<CTree>(tree.release());\n",
    "}\n",
    "\n",
    "void Tree_dispose(CTree t) {\n",
    "  auto* tree = reinterpret_cast<Tree*>(t);\n",
    "  delete tree;\n",
    "}\n",
    "\n",
    "CTree Tree_left(CTree t) {\n",
    "  auto* tree = reinterpret_cast<Tree*>(t);\n",
    "  return reinterpret_cast<CTree>(tree->left());\n",
    "}\n",
    "\n",
    "CTree Tree_right(CTree t) {\n",
    "  auto* tree = reinterpret_cast<Tree*>(t);\n",
    "  return reinterpret_cast<CTree>(tree->right());\n",
    "}\n",
    "\n",
    "int Tree_data(CTree t) {\n",
    "  auto* tree = reinterpret_cast<Tree*>(t);\n",
    "  return tree->data();\n",
    "}\n",
    "\n",
    "void Tree_set_data(CTree t, int x) {\n",
    "  auto* tree = reinterpret_cast<Tree*>(t);\n",
    "  tree->set_data(x);\n",
    "}"
   ]
  },
  {
   "cell_type": "markdown",
   "metadata": {
    "collapsed": true
   },
   "source": [
    "We can build this to create a shared library with our `C-API` symbols exposed."
   ]
  },
  {
   "cell_type": "code",
   "execution_count": 6,
   "metadata": {},
   "outputs": [
    {
     "name": "stdout",
     "output_type": "stream",
     "text": [
      "Overwriting CMakeLists.txt\n"
     ]
    }
   ],
   "source": [
    "%%file CMakeLists.txt\n",
    "\n",
    "cmake_minimum_required(VERSION 3.0)\n",
    "set(CMAKE_CXX_STANDARD 14)\n",
    "add_compile_options(-fvisibility=hidden)\n",
    "add_library(Tree_c SHARED Tree_c.cpp)"
   ]
  },
  {
   "cell_type": "code",
   "execution_count": 7,
   "metadata": {},
   "outputs": [
    {
     "name": "stdout",
     "output_type": "stream",
     "text": [
      "-- The C compiler identification is AppleClang 8.1.0.8020042\n",
      "-- The CXX compiler identification is AppleClang 8.1.0.8020042\n",
      "-- Check for working C compiler: /Applications/Xcode.app/Contents/Developer/Toolchains/XcodeDefault.xctoolchain/usr/bin/cc\n",
      "-- Check for working C compiler: /Applications/Xcode.app/Contents/Developer/Toolchains/XcodeDefault.xctoolchain/usr/bin/cc -- works\n",
      "-- Detecting C compiler ABI info\n",
      "-- Detecting C compiler ABI info - done\n",
      "-- Detecting C compile features\n",
      "-- Detecting C compile features - done\n",
      "-- Check for working CXX compiler: /Applications/Xcode.app/Contents/Developer/Toolchains/XcodeDefault.xctoolchain/usr/bin/c++\n",
      "-- Check for working CXX compiler: /Applications/Xcode.app/Contents/Developer/Toolchains/XcodeDefault.xctoolchain/usr/bin/c++ -- works\n",
      "-- Detecting CXX compiler ABI info\n",
      "-- Detecting CXX compiler ABI info - done\n",
      "-- Detecting CXX compile features\n",
      "-- Detecting CXX compile features - done\n",
      "-- Configuring done\n",
      "-- Generating done\n",
      "-- Build files have been written to: /Users/jon/DEV/FFIG/demos\n",
      "[1/2] Building CXX object CMakeFiles/Tree_c.dir/Tree_c.cpp.o\n",
      "[2/2] Linking CXX shared library libTree_c.dylib\n"
     ]
    }
   ],
   "source": [
    "%%sh\n",
    "rm -rf CMakeFiles/\n",
    "rm CMakeCache.txt\n",
    "\n",
    "cmake . -GNinja\n",
    "cmake --build .\n",
    "strip -x libTree_c.dylib"
   ]
  },
  {
   "cell_type": "code",
   "execution_count": 8,
   "metadata": {},
   "outputs": [
    {
     "name": "stdout",
     "output_type": "stream",
     "text": [
      "0000000000001c30 T _Tree_create\n",
      "0000000000001fc0 T _Tree_data\n",
      "0000000000001ea0 T _Tree_dispose\n",
      "0000000000001f00 T _Tree_left\n",
      "0000000000001f60 T _Tree_right\n",
      "0000000000002010 T _Tree_set_data\n"
     ]
    }
   ],
   "source": [
    "%%sh\n",
    "nm -U libTree_c.dylib"
   ]
  },
  {
   "cell_type": "markdown",
   "metadata": {},
   "source": [
    "## Python interop"
   ]
  },
  {
   "cell_type": "markdown",
   "metadata": {},
   "source": [
    "We can use Python's `ctypes` module to interact with the `C` shared-library."
   ]
  },
  {
   "cell_type": "code",
   "execution_count": 9,
   "metadata": {
    "collapsed": true
   },
   "outputs": [],
   "source": [
    "import ctypes\n",
    "ctypes.c_object_p = ctypes.POINTER(ctypes.c_void_p)\n",
    "\n",
    "tree_lib = ctypes.cdll.LoadLibrary(\"libTree_c.dylib\")"
   ]
  },
  {
   "cell_type": "markdown",
   "metadata": {},
   "source": [
    "We need to tell ctypes about the arguments and return types of the functions.\n",
    "\n",
    "By default ctypes assumes functions take no arguments and return an integer."
   ]
  },
  {
   "cell_type": "code",
   "execution_count": 10,
   "metadata": {
    "collapsed": true
   },
   "outputs": [],
   "source": [
    "tree_lib.Tree_create.argtypes = [ctypes.c_int]\n",
    "tree_lib.Tree_create.restype = ctypes.c_object_p\n",
    "\n",
    "tree_lib.Tree_dispose.argtypes = [ctypes.c_object_p]\n",
    "tree_lib.Tree_dispose.restype = None\n",
    "\n",
    "tree_lib.Tree_left.argtypes = [ctypes.c_object_p]\n",
    "tree_lib.Tree_left.restype = ctypes.c_object_p\n",
    "\n",
    "tree_lib.Tree_right.argtypes = [ctypes.c_object_p]\n",
    "tree_lib.Tree_right.restype = ctypes.c_object_p\n",
    "\n",
    "tree_lib.Tree_data.argtypes = [ctypes.c_object_p]\n",
    "tree_lib.Tree_data.restype = ctypes.c_int\n",
    "\n",
    "tree_lib.Tree_set_data.argtypes = [ctypes.c_object_p, ctypes.c_int]\n",
    "tree_lib.Tree_set_data.restype = None"
   ]
  },
  {
   "cell_type": "markdown",
   "metadata": {},
   "source": [
    "We'll leave the string-related methods for now, interop there is not so easy.\n",
    "\n",
    "Let's see what we can do with the fledgling Python API."
   ]
  },
  {
   "cell_type": "code",
   "execution_count": 11,
   "metadata": {
    "collapsed": true
   },
   "outputs": [],
   "source": [
    "root = tree_lib.Tree_create(2)"
   ]
  },
  {
   "cell_type": "code",
   "execution_count": 12,
   "metadata": {},
   "outputs": [
    {
     "data": {
      "text/plain": [
       "0"
      ]
     },
     "execution_count": 12,
     "metadata": {},
     "output_type": "execute_result"
    }
   ],
   "source": [
    "tree_lib.Tree_data(root)"
   ]
  },
  {
   "cell_type": "code",
   "execution_count": 13,
   "metadata": {},
   "outputs": [
    {
     "data": {
      "text/plain": [
       "42"
      ]
     },
     "execution_count": 13,
     "metadata": {},
     "output_type": "execute_result"
    }
   ],
   "source": [
    "tree_lib.Tree_set_data(root, 42)\n",
    "tree_lib.Tree_data(root)"
   ]
  },
  {
   "cell_type": "code",
   "execution_count": 14,
   "metadata": {
    "collapsed": true
   },
   "outputs": [],
   "source": [
    "tree_lib.Tree_dispose(root)"
   ]
  },
  {
   "cell_type": "markdown",
   "metadata": {},
   "source": [
    "So far, so not-very-Pythonic.\n",
    "\n",
    "We want classes!"
   ]
  },
  {
   "cell_type": "code",
   "execution_count": 15,
   "metadata": {
    "collapsed": true
   },
   "outputs": [],
   "source": [
    "class Tree(object):\n",
    "    \n",
    "    def __init__(self, children=None, _p=None):\n",
    "        if _p:\n",
    "            self._ptr = _p\n",
    "            self.owner = False\n",
    "        else:\n",
    "            self._ptr = tree_lib.Tree_create(children)\n",
    "            self.owner = True\n",
    "        \n",
    "    def __del__(self):\n",
    "        if self.owner:\n",
    "            tree_lib.Tree_dispose(self._ptr)\n",
    "     \n",
    "    def __repr__(self):\n",
    "        return \"<Tree data:{}>\".format(self.data)\n",
    "    \n",
    "    @property\n",
    "    def left(self):\n",
    "        p = tree_lib.Tree_left(self._ptr)\n",
    "        if not p: \n",
    "            return None\n",
    "        return Tree(_p=p)\n",
    "    \n",
    "    @property\n",
    "    def right(self):\n",
    "        p = tree_lib.Tree_right(self._ptr)\n",
    "        if not p: \n",
    "            return None\n",
    "        \n",
    "        return Tree(_p=p)\n",
    "    \n",
    "    @property\n",
    "    def data(self):\n",
    "        return tree_lib.Tree_data(self._ptr)\n",
    "    \n",
    "    @data.setter\n",
    "    def data(self, x):\n",
    "        tree_lib.Tree_set_data(self._ptr, x)"
   ]
  },
  {
   "cell_type": "code",
   "execution_count": 16,
   "metadata": {},
   "outputs": [
    {
     "data": {
      "text/plain": [
       "<Tree data:0>"
      ]
     },
     "execution_count": 16,
     "metadata": {},
     "output_type": "execute_result"
    }
   ],
   "source": [
    "t = Tree(2)\n",
    "t"
   ]
  },
  {
   "cell_type": "code",
   "execution_count": 17,
   "metadata": {},
   "outputs": [
    {
     "data": {
      "text/plain": [
       "<Tree data:42>"
      ]
     },
     "execution_count": 17,
     "metadata": {},
     "output_type": "execute_result"
    }
   ],
   "source": [
    "t.data = 42\n",
    "t"
   ]
  },
  {
   "cell_type": "code",
   "execution_count": 18,
   "metadata": {},
   "outputs": [
    {
     "data": {
      "text/plain": [
       "<Tree data:0>"
      ]
     },
     "execution_count": 18,
     "metadata": {},
     "output_type": "execute_result"
    }
   ],
   "source": [
    "t.left"
   ]
  },
  {
   "cell_type": "code",
   "execution_count": 20,
   "metadata": {
    "collapsed": true
   },
   "outputs": [],
   "source": [
    "t.left.data = 6"
   ]
  },
  {
   "cell_type": "code",
   "execution_count": 21,
   "metadata": {},
   "outputs": [
    {
     "data": {
      "text/plain": [
       "<Tree data:6>"
      ]
     },
     "execution_count": 21,
     "metadata": {},
     "output_type": "execute_result"
    }
   ],
   "source": [
    "t.left"
   ]
  },
  {
   "cell_type": "markdown",
   "metadata": {},
   "source": [
    "This looks good but we our crude attempts at memory management will fail if we start working with temporaries."
   ]
  },
  {
   "cell_type": "code",
   "execution_count": null,
   "metadata": {
    "collapsed": true
   },
   "outputs": [],
   "source": [
    "# This kills the kernel\n",
    "# left = Tree(3).left.left\n",
    "# left.data"
   ]
  },
  {
   "cell_type": "markdown",
   "metadata": {},
   "source": [
    "Our Python classes don't know enough about the underlying C++ to do the memory management. \n",
    "\n",
    "Our C-API implementation needs a re-think."
   ]
  },
  {
   "cell_type": "markdown",
   "metadata": {},
   "source": [
    "## Defining a C-API (Again)"
   ]
  },
  {
   "cell_type": "markdown",
   "metadata": {},
   "source": [
    "## A Safer Python API"
   ]
  },
  {
   "cell_type": "markdown",
   "metadata": {},
   "source": [
    "---"
   ]
  },
  {
   "cell_type": "markdown",
   "metadata": {
    "collapsed": true
   },
   "source": [
    "# FFIG"
   ]
  },
  {
   "cell_type": "markdown",
   "metadata": {},
   "source": [
    "### Parsing `C++` with libclang"
   ]
  },
  {
   "cell_type": "markdown",
   "metadata": {},
   "source": [
    "### Jinja2 templates"
   ]
  },
  {
   "cell_type": "markdown",
   "metadata": {},
   "source": [
    "### Generating a Python API with FFIG"
   ]
  }
 ],
 "metadata": {
  "kernelspec": {
   "display_name": "Python 3",
   "language": "python",
   "name": "python3"
  },
  "language_info": {
   "codemirror_mode": {
    "name": "ipython",
    "version": 3
   },
   "file_extension": ".py",
   "mimetype": "text/x-python",
   "name": "python",
   "nbconvert_exporter": "python",
   "pygments_lexer": "ipython3",
   "version": "3.6.2"
  }
 },
 "nbformat": 4,
 "nbformat_minor": 2
}
