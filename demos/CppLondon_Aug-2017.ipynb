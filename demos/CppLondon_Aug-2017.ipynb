{
 "cells": [
  {
   "cell_type": "markdown",
   "metadata": {
    "slideshow": {
     "slide_type": "slide"
    }
   },
   "source": [
    "# FFIG - A foreign function interface generator for `C++`"
   ]
  },
  {
   "cell_type": "markdown",
   "metadata": {},
   "source": [
    "I want to write `C++` code and call it from Python without doing any extra work.\n",
    "\n",
    "---"
   ]
  },
  {
   "cell_type": "markdown",
   "metadata": {},
   "source": [
    "### For Project Managers\n",
    "A language like Python can be written to resemble executable pseudo-code and is a great langauge for defining high-level acceptance criteria. \n",
    "\n",
    "Developer engagement is easy when requirements are code.\n",
    "\n",
    "---"
   ]
  },
  {
   "cell_type": "markdown",
   "metadata": {},
   "source": [
    "### For Clients \n",
    "It's easy to put together interactive demos with Python. Jupyter notebook allows one to display graphs, images, videos and tabulated data. \n",
    "\n",
    "The ability to change demos on the fly in response to client queries is seriously impressive.\n",
    "\n",
    "---"
   ]
  },
  {
   "cell_type": "markdown",
   "metadata": {},
   "source": [
    "### For Developers\n",
    "I can break the edit-compile-link-test cycle with an interpreted scripting language. \n",
    "\n",
    "Once the design is right I can drive it into `C++`.\n",
    "\n",
    "---"
   ]
  },
  {
   "cell_type": "markdown",
   "metadata": {},
   "source": [
    "### Calling `C++` from Python\n",
    "\n",
    "* Write some `C++` code.\n",
    "* Define a `C-API` for binary compatibility.\n",
    "* Solving problems with ownership.\n",
    "* Define classes and functions that use a Foreign Function Interface to communicate with `C`.\n",
    "\n",
    "---"
   ]
  },
  {
   "cell_type": "markdown",
   "metadata": {},
   "source": [
    "### Code-generation\n",
    "\n",
    "* Parse `C++` code.\n",
    "* Transform parsed source code into a easy-to use form.\n",
    "* Define a template that transforms parsed source code into `C`\n",
    "* Define a template that transforms parsed source code into classes, functions and FFI calls.\n",
    "\n",
    "---"
   ]
  },
  {
   "cell_type": "markdown",
   "metadata": {},
   "source": [
    "### Extras\n",
    "\n",
    "* Supporting Python 3.\n",
    "* Supporting C++.\n",
    "\n",
    "---"
   ]
  },
  {
   "cell_type": "code",
   "execution_count": 1,
   "metadata": {},
   "outputs": [
    {
     "name": "stdout",
     "output_type": "stream",
     "text": [
      "Overwriting Tree.hpp\n"
     ]
    }
   ],
   "source": [
    "%%file Tree.hpp\n",
    "#ifndef DEMOS_TREE_H\n",
    "#define DEMOS_TREE_H\n",
    "\n",
    "#include <memory>\n",
    "\n",
    "class Tree {\n",
    "  std::unique_ptr<Tree> left_;\n",
    "  std::unique_ptr<Tree> right_;\n",
    "  int data_ = 0;    \n",
    " \n",
    " public:\n",
    "  Tree(int children) {\n",
    "    if(children <=0) return; \n",
    "    left_ = std::make_unique<Tree>(children-1);\n",
    "    right_ = std::make_unique<Tree>(children-1);\n",
    "  } \n",
    "    \n",
    "  Tree* left() { return left_.get(); }\n",
    "  \n",
    "  Tree* right() { return right_.get(); }\n",
    "    \n",
    "  int data() const { return data_; }\n",
    "  \n",
    "  void set_data(int x) { data_ = x; }\n",
    "};\n",
    "\n",
    "#endif // DEMOS_TREE_H"
   ]
  },
  {
   "cell_type": "markdown",
   "metadata": {},
   "source": [
    "Let's compile this to ensure we've not made any mistakes."
   ]
  },
  {
   "cell_type": "code",
   "execution_count": 2,
   "metadata": {
    "collapsed": true
   },
   "outputs": [],
   "source": [
    "%%sh\n",
    "clang++ -std=c++14 -fsyntax-only Tree.hpp"
   ]
  },
  {
   "cell_type": "markdown",
   "metadata": {},
   "source": [
    "---"
   ]
  },
  {
   "cell_type": "markdown",
   "metadata": {},
   "source": [
    "## Defining a C-API\n",
    "\n",
    "We want a `C-API` so that we have a well-defined and portable binary interface. \n",
    "\n",
    "We'll have to re-model our code as C does not support classes.\n",
    "\n",
    "Free functions with an extra leading argument for `this` should suffice."
   ]
  },
  {
   "cell_type": "code",
   "execution_count": 3,
   "metadata": {},
   "outputs": [
    {
     "name": "stdout",
     "output_type": "stream",
     "text": [
      "Overwriting Tree_c.h\n"
     ]
    }
   ],
   "source": [
    "%%file Tree_c.h\n",
    "\n",
    "#define C_API extern \"C\" __attribute__((visibility(\"default\")))\n",
    "\n",
    "struct CTree_t;\n",
    "typedef CTree_t* CTree;\n",
    "\n",
    "C_API CTree Tree_create(int children);\n",
    "\n",
    "C_API void Tree_dispose(CTree t);\n",
    "\n",
    "C_API CTree Tree_left(CTree t);\n",
    "\n",
    "C_API CTree Tree_right(CTree t);\n",
    "\n",
    "C_API int Tree_data(CTree t);\n",
    "\n",
    "C_API void Tree_set_data(CTree t, int x);"
   ]
  },
  {
   "cell_type": "code",
   "execution_count": 4,
   "metadata": {},
   "outputs": [
    {
     "name": "stdout",
     "output_type": "stream",
     "text": [
      "Overwriting Tree_c.cpp\n"
     ]
    }
   ],
   "source": [
    "%%file Tree_c.cpp\n",
    "\n",
    "#include \"Tree_c.h\"\n",
    "#include \"Tree.hpp\"\n",
    "\n",
    "CTree Tree_create(int children) {\n",
    "  auto tree = std::make_unique<Tree>(children);\n",
    "  return reinterpret_cast<CTree>(tree.release());\n",
    "}\n",
    "\n",
    "void Tree_dispose(CTree t) {\n",
    "  auto* tree = reinterpret_cast<Tree*>(t);\n",
    "  delete tree;\n",
    "}\n",
    "\n",
    "CTree Tree_left(CTree t) {\n",
    "  auto* tree = reinterpret_cast<Tree*>(t);\n",
    "  return reinterpret_cast<CTree>(tree->left());\n",
    "}\n",
    "\n",
    "CTree Tree_right(CTree t) {\n",
    "  auto* tree = reinterpret_cast<Tree*>(t);\n",
    "  return reinterpret_cast<CTree>(tree->right());\n",
    "}\n",
    "\n",
    "int Tree_data(CTree t) {\n",
    "  auto* tree = reinterpret_cast<Tree*>(t);\n",
    "  return tree->data();\n",
    "}\n",
    "\n",
    "void Tree_set_data(CTree t, int x) {\n",
    "  auto* tree = reinterpret_cast<Tree*>(t);\n",
    "  tree->set_data(x);\n",
    "}"
   ]
  },
  {
   "cell_type": "markdown",
   "metadata": {
    "collapsed": true
   },
   "source": [
    "We can build this to create a shared library with our `C-API` symbols exposed."
   ]
  },
  {
   "cell_type": "code",
   "execution_count": 5,
   "metadata": {},
   "outputs": [
    {
     "name": "stdout",
     "output_type": "stream",
     "text": [
      "Overwriting CMakeLists.txt\n"
     ]
    }
   ],
   "source": [
    "%%file CMakeLists.txt\n",
    "\n",
    "cmake_minimum_required(VERSION 3.0)\n",
    "set(CMAKE_CXX_STANDARD 14)\n",
    "add_compile_options(-fvisibility=hidden)\n",
    "add_library(Tree_c SHARED Tree_c.cpp)"
   ]
  },
  {
   "cell_type": "code",
   "execution_count": 6,
   "metadata": {},
   "outputs": [
    {
     "name": "stdout",
     "output_type": "stream",
     "text": [
      "-- The C compiler identification is AppleClang 8.1.0.8020042\n",
      "-- The CXX compiler identification is AppleClang 8.1.0.8020042\n",
      "-- Check for working C compiler: /Applications/Xcode.app/Contents/Developer/Toolchains/XcodeDefault.xctoolchain/usr/bin/cc\n",
      "-- Check for working C compiler: /Applications/Xcode.app/Contents/Developer/Toolchains/XcodeDefault.xctoolchain/usr/bin/cc -- works\n",
      "-- Detecting C compiler ABI info\n",
      "-- Detecting C compiler ABI info - done\n",
      "-- Detecting C compile features\n",
      "-- Detecting C compile features - done\n",
      "-- Check for working CXX compiler: /Applications/Xcode.app/Contents/Developer/Toolchains/XcodeDefault.xctoolchain/usr/bin/c++\n",
      "-- Check for working CXX compiler: /Applications/Xcode.app/Contents/Developer/Toolchains/XcodeDefault.xctoolchain/usr/bin/c++ -- works\n",
      "-- Detecting CXX compiler ABI info\n",
      "-- Detecting CXX compiler ABI info - done\n",
      "-- Detecting CXX compile features\n",
      "-- Detecting CXX compile features - done\n",
      "-- Configuring done\n",
      "-- Generating done\n",
      "-- Build files have been written to: /Users/jon/DEV/FFIG/demos\n",
      "[1/2] Building CXX object CMakeFiles/Tree_c.dir/Tree_c.cpp.o\n",
      "[2/2] Linking CXX shared library libTree_c.dylib\n"
     ]
    }
   ],
   "source": [
    "%%sh\n",
    "rm -rf CMakeFiles/\n",
    "rm CMakeCache.txt\n",
    "\n",
    "cmake . -GNinja\n",
    "cmake --build .\n",
    "strip -x libTree_c.dylib"
   ]
  },
  {
   "cell_type": "code",
   "execution_count": 7,
   "metadata": {},
   "outputs": [
    {
     "name": "stdout",
     "output_type": "stream",
     "text": [
      "0000000000001c30 T _Tree_create\n",
      "0000000000001fc0 T _Tree_data\n",
      "0000000000001ea0 T _Tree_dispose\n",
      "0000000000001f00 T _Tree_left\n",
      "0000000000001f60 T _Tree_right\n",
      "0000000000002010 T _Tree_set_data\n"
     ]
    }
   ],
   "source": [
    "%%sh\n",
    "nm -U libTree_c.dylib"
   ]
  },
  {
   "cell_type": "markdown",
   "metadata": {},
   "source": [
    "## Python interop"
   ]
  },
  {
   "cell_type": "markdown",
   "metadata": {},
   "source": [
    "We can use Python's `ctypes` module to interact with the `C` shared-library."
   ]
  },
  {
   "cell_type": "code",
   "execution_count": 8,
   "metadata": {
    "collapsed": true
   },
   "outputs": [],
   "source": [
    "import ctypes\n",
    "ctypes.c_object_p = ctypes.POINTER(ctypes.c_void_p)\n",
    "\n",
    "tree_lib = ctypes.cdll.LoadLibrary(\"libTree_c.dylib\")"
   ]
  },
  {
   "cell_type": "markdown",
   "metadata": {},
   "source": [
    "We need to tell ctypes about the arguments and return types of the functions.\n",
    "\n",
    "By default ctypes assumes functions take no arguments and return an integer."
   ]
  },
  {
   "cell_type": "code",
   "execution_count": 9,
   "metadata": {
    "collapsed": true
   },
   "outputs": [],
   "source": [
    "tree_lib.Tree_create.argtypes = [ctypes.c_int]\n",
    "tree_lib.Tree_create.restype = ctypes.c_object_p\n",
    "\n",
    "tree_lib.Tree_dispose.argtypes = [ctypes.c_object_p]\n",
    "tree_lib.Tree_dispose.restype = None\n",
    "\n",
    "tree_lib.Tree_left.argtypes = [ctypes.c_object_p]\n",
    "tree_lib.Tree_left.restype = ctypes.c_object_p\n",
    "\n",
    "tree_lib.Tree_right.argtypes = [ctypes.c_object_p]\n",
    "tree_lib.Tree_right.restype = ctypes.c_object_p\n",
    "\n",
    "tree_lib.Tree_data.argtypes = [ctypes.c_object_p]\n",
    "tree_lib.Tree_data.restype = ctypes.c_int\n",
    "\n",
    "tree_lib.Tree_set_data.argtypes = [ctypes.c_object_p, ctypes.c_int]\n",
    "tree_lib.Tree_set_data.restype = None"
   ]
  },
  {
   "cell_type": "markdown",
   "metadata": {},
   "source": [
    "We'll leave the string-related methods for now, interop there is not so easy.\n",
    "\n",
    "Let's see what we can do with the fledgling Python API."
   ]
  },
  {
   "cell_type": "code",
   "execution_count": 10,
   "metadata": {
    "collapsed": true
   },
   "outputs": [],
   "source": [
    "root = tree_lib.Tree_create(2)"
   ]
  },
  {
   "cell_type": "code",
   "execution_count": 11,
   "metadata": {},
   "outputs": [
    {
     "data": {
      "text/plain": [
       "0"
      ]
     },
     "execution_count": 11,
     "metadata": {},
     "output_type": "execute_result"
    }
   ],
   "source": [
    "tree_lib.Tree_data(root)"
   ]
  },
  {
   "cell_type": "code",
   "execution_count": 12,
   "metadata": {},
   "outputs": [
    {
     "data": {
      "text/plain": [
       "42"
      ]
     },
     "execution_count": 12,
     "metadata": {},
     "output_type": "execute_result"
    }
   ],
   "source": [
    "tree_lib.Tree_set_data(root, 42)\n",
    "tree_lib.Tree_data(root)"
   ]
  },
  {
   "cell_type": "code",
   "execution_count": 13,
   "metadata": {
    "collapsed": true
   },
   "outputs": [],
   "source": [
    "tree_lib.Tree_dispose(root)"
   ]
  },
  {
   "cell_type": "markdown",
   "metadata": {},
   "source": [
    "So far, so not-very-Pythonic.\n",
    "\n",
    "We want classes!"
   ]
  },
  {
   "cell_type": "code",
   "execution_count": 14,
   "metadata": {
    "collapsed": true
   },
   "outputs": [],
   "source": [
    "class Tree(object):\n",
    "    \n",
    "    def __init__(self, children=None, _p=None):\n",
    "        if _p:\n",
    "            self._ptr = _p\n",
    "            self._owner = False\n",
    "        else:\n",
    "            self._ptr = tree_lib.Tree_create(children)\n",
    "            self._owner = True\n",
    "        \n",
    "    def __del__(self):\n",
    "        if self._owner:\n",
    "            tree_lib.Tree_dispose(self._ptr)\n",
    "     \n",
    "    def __repr__(self):\n",
    "        return \"<Tree data:{}>\".format(self.data)\n",
    "    \n",
    "    @property\n",
    "    def left(self):\n",
    "        p = tree_lib.Tree_left(self._ptr)\n",
    "        if not p: \n",
    "            return None\n",
    "        return Tree(_p=p)\n",
    "    \n",
    "    @property\n",
    "    def right(self):\n",
    "        p = tree_lib.Tree_right(self._ptr)\n",
    "        if not p: \n",
    "            return None\n",
    "        \n",
    "        return Tree(_p=p)\n",
    "    \n",
    "    @property\n",
    "    def data(self):\n",
    "        return tree_lib.Tree_data(self._ptr)\n",
    "    \n",
    "    @data.setter\n",
    "    def data(self, x):\n",
    "        tree_lib.Tree_set_data(self._ptr, x)"
   ]
  },
  {
   "cell_type": "code",
   "execution_count": 15,
   "metadata": {},
   "outputs": [
    {
     "data": {
      "text/plain": [
       "<Tree data:0>"
      ]
     },
     "execution_count": 15,
     "metadata": {},
     "output_type": "execute_result"
    }
   ],
   "source": [
    "t = Tree(2)\n",
    "t"
   ]
  },
  {
   "cell_type": "code",
   "execution_count": 16,
   "metadata": {},
   "outputs": [
    {
     "data": {
      "text/plain": [
       "<Tree data:42>"
      ]
     },
     "execution_count": 16,
     "metadata": {},
     "output_type": "execute_result"
    }
   ],
   "source": [
    "t.data = 42\n",
    "t"
   ]
  },
  {
   "cell_type": "code",
   "execution_count": 17,
   "metadata": {},
   "outputs": [
    {
     "data": {
      "text/plain": [
       "<Tree data:0>"
      ]
     },
     "execution_count": 17,
     "metadata": {},
     "output_type": "execute_result"
    }
   ],
   "source": [
    "t.left"
   ]
  },
  {
   "cell_type": "code",
   "execution_count": 18,
   "metadata": {
    "collapsed": true
   },
   "outputs": [],
   "source": [
    "t.left.data = 6"
   ]
  },
  {
   "cell_type": "code",
   "execution_count": 19,
   "metadata": {},
   "outputs": [
    {
     "data": {
      "text/plain": [
       "<Tree data:6>"
      ]
     },
     "execution_count": 19,
     "metadata": {},
     "output_type": "execute_result"
    }
   ],
   "source": [
    "t.left"
   ]
  },
  {
   "cell_type": "markdown",
   "metadata": {},
   "source": [
    "This looks good but we our crude attempts at memory management will fail if we start working with temporaries."
   ]
  },
  {
   "cell_type": "code",
   "execution_count": 20,
   "metadata": {
    "collapsed": true
   },
   "outputs": [],
   "source": [
    "# This kills the kernel\n",
    "# left = Tree(3).left.left\n",
    "# left.data"
   ]
  },
  {
   "cell_type": "markdown",
   "metadata": {},
   "source": [
    "Our Python classes don't know enough about the underlying C++ to do the memory management. \n",
    "\n",
    "Our C-API implementation needs a re-think."
   ]
  },
  {
   "cell_type": "markdown",
   "metadata": {},
   "source": [
    "## Defining a C-API (Again)"
   ]
  },
  {
   "cell_type": "markdown",
   "metadata": {},
   "source": [
    "We can imbue the pointers passed across the API boundary with object lifetime detail"
   ]
  },
  {
   "cell_type": "markdown",
   "metadata": {},
   "source": [
    "### The aliasing constructor of `std::shared_ptr`"
   ]
  },
  {
   "cell_type": "markdown",
   "metadata": {},
   "source": [
    "We can use the aliasing constructor of shared_ptr to keep objects alive while any subobject is exposed across the API boundary."
   ]
  },
  {
   "cell_type": "raw",
   "metadata": {},
   "source": [
    "template <class T>\n",
    "class shared_ptr {\n",
    "\n",
    "  shared_ptr(const shared_ptr<U>& parent, T* child);\n",
    "\n",
    "};"
   ]
  },
  {
   "cell_type": "markdown",
   "metadata": {},
   "source": [
    "---"
   ]
  },
  {
   "cell_type": "code",
   "execution_count": 21,
   "metadata": {},
   "outputs": [
    {
     "name": "stdout",
     "output_type": "stream",
     "text": [
      "Overwriting Tree_2_c.cpp\n"
     ]
    }
   ],
   "source": [
    "%%file Tree_2_c.cpp\n",
    "\n",
    "#include <memory>\n",
    "#include \"Tree_c.h\"\n",
    "#include \"Tree.hpp\"\n",
    "\n",
    "using Tree_ptr = std::shared_ptr<Tree>*;\n",
    "\n",
    "CTree Tree_create(int children) {\n",
    "  auto tree = std::make_unique<Tree>(children);\n",
    "  Tree_ptr p = new std::shared_ptr<Tree>(tree.release());\n",
    "  return reinterpret_cast<CTree>(p);\n",
    "}\n",
    "\n",
    "void Tree_dispose(CTree t) {\n",
    "  delete reinterpret_cast<Tree_ptr>(t);\n",
    "}\n",
    "\n",
    "CTree Tree_left(CTree t) {\n",
    "  const auto& tree = *reinterpret_cast<Tree_ptr>(t);\n",
    "  auto left = tree->left();\n",
    "  if(!left) \n",
    "    return nullptr;\n",
    "    \n",
    "  Tree_ptr p = new std::shared_ptr<Tree>(tree, left);\n",
    "  return reinterpret_cast<CTree>(p);\n",
    "}\n",
    "\n",
    "CTree Tree_right(CTree t) {\n",
    "  const auto& tree = *reinterpret_cast<Tree_ptr>(t);\n",
    "  auto right = tree->left();\n",
    "  if(!right) \n",
    "    return nullptr;\n",
    "    \n",
    "  Tree_ptr p = new std::shared_ptr<Tree>(tree, right);\n",
    "  return reinterpret_cast<CTree>(p);\n",
    "}\n",
    "\n",
    "int Tree_data(CTree t) {\n",
    "  const auto& tree = *reinterpret_cast<Tree_ptr>(t);\n",
    "  return tree->data();\n",
    "}\n",
    "\n",
    "void Tree_set_data(CTree t, int x) {\n",
    "  const auto& tree = *reinterpret_cast<Tree_ptr>(t);\n",
    "  tree->set_data(x);\n",
    "}"
   ]
  },
  {
   "cell_type": "code",
   "execution_count": 22,
   "metadata": {},
   "outputs": [
    {
     "name": "stdout",
     "output_type": "stream",
     "text": [
      "Overwriting CMakeLists.txt\n"
     ]
    }
   ],
   "source": [
    "%%file CMakeLists.txt\n",
    "\n",
    "cmake_minimum_required(VERSION 3.0)\n",
    "set(CMAKE_CXX_STANDARD 14)\n",
    "add_compile_options(-fvisibility=hidden)\n",
    "add_library(Tree_2_c SHARED Tree_2_c.cpp)"
   ]
  },
  {
   "cell_type": "code",
   "execution_count": 23,
   "metadata": {},
   "outputs": [
    {
     "name": "stdout",
     "output_type": "stream",
     "text": [
      "-- The C compiler identification is AppleClang 8.1.0.8020042\n",
      "-- The CXX compiler identification is AppleClang 8.1.0.8020042\n",
      "-- Check for working C compiler: /Applications/Xcode.app/Contents/Developer/Toolchains/XcodeDefault.xctoolchain/usr/bin/cc\n",
      "-- Check for working C compiler: /Applications/Xcode.app/Contents/Developer/Toolchains/XcodeDefault.xctoolchain/usr/bin/cc -- works\n",
      "-- Detecting C compiler ABI info\n",
      "-- Detecting C compiler ABI info - done\n",
      "-- Detecting C compile features\n",
      "-- Detecting C compile features - done\n",
      "-- Check for working CXX compiler: /Applications/Xcode.app/Contents/Developer/Toolchains/XcodeDefault.xctoolchain/usr/bin/c++\n",
      "-- Check for working CXX compiler: /Applications/Xcode.app/Contents/Developer/Toolchains/XcodeDefault.xctoolchain/usr/bin/c++ -- works\n",
      "-- Detecting CXX compiler ABI info\n",
      "-- Detecting CXX compiler ABI info - done\n",
      "-- Detecting CXX compile features\n",
      "-- Detecting CXX compile features - done\n",
      "-- Configuring done\n",
      "-- Generating done\n",
      "-- Build files have been written to: /Users/jon/DEV/FFIG/demos\n",
      "[1/2] Building CXX object CMakeFiles/Tree_2_c.dir/Tree_2_c.cpp.o\n",
      "[2/2] Linking CXX shared library libTree_2_c.dylib\n"
     ]
    }
   ],
   "source": [
    "%%sh\n",
    "rm -rf CMakeFiles/\n",
    "rm CMakeCache.txt\n",
    "\n",
    "cmake . -GNinja\n",
    "cmake --build .\n",
    "strip -x libTree_2_c.dylib"
   ]
  },
  {
   "cell_type": "markdown",
   "metadata": {},
   "source": [
    "## A Safer Python API"
   ]
  },
  {
   "cell_type": "code",
   "execution_count": 24,
   "metadata": {
    "collapsed": true
   },
   "outputs": [],
   "source": [
    "import ctypes\n",
    "ctypes.c_object_p = ctypes.POINTER(ctypes.c_void_p)\n",
    "\n",
    "tree_lib2 = ctypes.cdll.LoadLibrary(\"libTree_2_c.dylib\")"
   ]
  },
  {
   "cell_type": "code",
   "execution_count": 25,
   "metadata": {
    "collapsed": true
   },
   "outputs": [],
   "source": [
    "tree_lib2.Tree_create.argtypes = [ctypes.c_int]\n",
    "tree_lib2.Tree_create.restype = ctypes.c_object_p\n",
    "\n",
    "tree_lib2.Tree_dispose.argtypes = [ctypes.c_object_p]\n",
    "tree_lib2.Tree_dispose.restype = None\n",
    "\n",
    "tree_lib2.Tree_left.argtypes = [ctypes.c_object_p]\n",
    "tree_lib2.Tree_left.restype = ctypes.c_object_p\n",
    "\n",
    "tree_lib2.Tree_right.argtypes = [ctypes.c_object_p]\n",
    "tree_lib2.Tree_right.restype = ctypes.c_object_p\n",
    "\n",
    "tree_lib2.Tree_data.argtypes = [ctypes.c_object_p]\n",
    "tree_lib2.Tree_data.restype = ctypes.c_int\n",
    "\n",
    "tree_lib2.Tree_set_data.argtypes = [ctypes.c_object_p, ctypes.c_int]\n",
    "tree_lib2.Tree_set_data.restype = None"
   ]
  },
  {
   "cell_type": "code",
   "execution_count": 26,
   "metadata": {
    "collapsed": true
   },
   "outputs": [],
   "source": [
    "class Tree2(object):\n",
    "    \n",
    "    def __init__(self, children=None, _p=None):\n",
    "        if _p:\n",
    "            self._ptr = _p\n",
    "        else:\n",
    "            self._ptr = tree_lib2.Tree_create(children)\n",
    "        \n",
    "    def __del__(self):\n",
    "        tree_lib2.Tree_dispose(self._ptr)\n",
    "     \n",
    "    def __repr__(self):\n",
    "        return \"<Tree data:{}>\".format(self.data)\n",
    "    \n",
    "    @property\n",
    "    def left(self):\n",
    "        p = tree_lib2.Tree_left(self._ptr)\n",
    "        if not p: \n",
    "            return None\n",
    "        return Tree2(_p=p)\n",
    "    \n",
    "    @property\n",
    "    def right(self):\n",
    "        p = tree_lib2.Tree_right(self._ptr)\n",
    "        if not p: \n",
    "            return None\n",
    "        \n",
    "        return Tree2(_p=p)\n",
    "    \n",
    "    @property\n",
    "    def data(self):\n",
    "        return tree_lib2.Tree_data(self._ptr)\n",
    "    \n",
    "    @data.setter\n",
    "    def data(self, x):\n",
    "        tree_lib2.Tree_set_data(self._ptr, x)"
   ]
  },
  {
   "cell_type": "code",
   "execution_count": 27,
   "metadata": {},
   "outputs": [
    {
     "data": {
      "text/plain": [
       "0"
      ]
     },
     "execution_count": 27,
     "metadata": {},
     "output_type": "execute_result"
    }
   ],
   "source": [
    "# This no longer kills the kernel\n",
    "left = Tree2(3).left.left.left\n",
    "left.data"
   ]
  },
  {
   "cell_type": "code",
   "execution_count": 28,
   "metadata": {},
   "outputs": [
    {
     "data": {
      "text/plain": [
       "42"
      ]
     },
     "execution_count": 28,
     "metadata": {},
     "output_type": "execute_result"
    }
   ],
   "source": [
    "root = Tree2(3)\n",
    "left = root.left\n",
    "left.data = 42\n",
    "\n",
    "del root\n",
    "left.data"
   ]
  },
  {
   "cell_type": "markdown",
   "metadata": {},
   "source": [
    "In addition to memory management, we have string translation and exception handling to think about.\n",
    "\n",
    "Given time constraints, I won't cover that here. "
   ]
  },
  {
   "cell_type": "markdown",
   "metadata": {},
   "source": [
    "---"
   ]
  },
  {
   "cell_type": "markdown",
   "metadata": {
    "collapsed": true
   },
   "source": [
    "# FFIG"
   ]
  },
  {
   "cell_type": "markdown",
   "metadata": {},
   "source": [
    "Writing C-API and Python bindings out by hand is time consuming and more than a little error prone.\n",
    "\n",
    "There's not a lot of creativity required once the approach is worked out.\n",
    "\n",
    "We want to generate it."
   ]
  },
  {
   "cell_type": "markdown",
   "metadata": {},
   "source": [
    "### Parsing `C++` with libclang"
   ]
  },
  {
   "cell_type": "markdown",
   "metadata": {},
   "source": [
    "libclang has Python bindings and exposes enough of the AST that we can extract all the information we need."
   ]
  },
  {
   "cell_type": "code",
   "execution_count": 29,
   "metadata": {
    "collapsed": true
   },
   "outputs": [],
   "source": [
    "import sys\n",
    "sys.path.insert(0,'..')\n",
    "\n",
    "import ffig.clang.cindex\n",
    "\n",
    "index = ffig.clang.cindex.Index.create()\n",
    "translation_unit = index.parse(\"Tree.h\", ['-x', 'c++', '-std=c++14', '-I../ffig/include'])"
   ]
  },
  {
   "cell_type": "code",
   "execution_count": 30,
   "metadata": {},
   "outputs": [
    {
     "name": "stdout",
     "output_type": "stream",
     "text": [
      "Tree.h (TRANSLATION_UNIT)\n",
      "  +--Tree (CLASS_DECL)\n",
      "     +--left_ (FIELD_DECL)\n",
      "     |  +--std (NAMESPACE_REF)\n",
      "     |  +--unique_ptr (TEMPLATE_REF)\n",
      "     |  +--class Tree (TYPE_REF)\n",
      "     +--right_ (FIELD_DECL)\n",
      "     |  +--std (NAMESPACE_REF)\n",
      "     |  +--unique_ptr (TEMPLATE_REF)\n",
      "     |  +--class Tree (TYPE_REF)\n",
      "     +--data_ (FIELD_DECL)\n",
      "     |  +--std (NAMESPACE_REF)\n",
      "     |  +--string (TYPE_REF)\n",
      "     +-- (CXX_ACCESS_SPEC_DECL)\n",
      "     +--Tree (CONSTRUCTOR)\n",
      "     |  +--children (PARM_DECL)\n",
      "     |  +-- (COMPOUND_STMT)\n",
      "     |     +-- (IF_STMT)\n",
      "     |     |  +-- (BINARY_OPERATOR)\n",
      "     |     |  |  +--children (UNEXPOSED_EXPR)\n",
      "     |     |  |  |  +--children (DECL_REF_EXPR)\n",
      "     |     |  |  +-- (INTEGER_LITERAL)\n",
      "     |     |  +-- (RETURN_STMT)\n",
      "     |     +-- (UNEXPOSED_EXPR)\n",
      "     |     |  +--operator= (CALL_EXPR)\n",
      "     |     |     +--left_ (MEMBER_REF_EXPR)\n",
      "     |     |     +--operator= (UNEXPOSED_EXPR)\n",
      "     |     |     |  +--operator= (DECL_REF_EXPR)\n",
      "     |     |     +-- (UNEXPOSED_EXPR)\n",
      "     |     |        +-- (UNEXPOSED_EXPR)\n",
      "     |     |           +--make_unique (CALL_EXPR)\n",
      "     |     |              +--make_unique (UNEXPOSED_EXPR)\n",
      "     |     |              |  +--make_unique (DECL_REF_EXPR)\n",
      "     |     |              |     +--std (NAMESPACE_REF)\n",
      "     |     |              |     +--class Tree (TYPE_REF)\n",
      "     |     |              +-- (UNEXPOSED_EXPR)\n",
      "     |     |                 +-- (BINARY_OPERATOR)\n",
      "     |     |                    +--children (UNEXPOSED_EXPR)\n",
      "     |     |                    |  +--children (DECL_REF_EXPR)\n",
      "     |     |                    +-- (INTEGER_LITERAL)\n",
      "     |     +-- (UNEXPOSED_EXPR)\n",
      "     |        +--operator= (CALL_EXPR)\n",
      "     |           +--right_ (MEMBER_REF_EXPR)\n",
      "     |           +--operator= (UNEXPOSED_EXPR)\n",
      "     |           |  +--operator= (DECL_REF_EXPR)\n",
      "     |           +-- (UNEXPOSED_EXPR)\n",
      "     |              +-- (UNEXPOSED_EXPR)\n",
      "     |                 +--make_unique (CALL_EXPR)\n",
      "     |                    +--make_unique (UNEXPOSED_EXPR)\n",
      "     |                    |  +--make_unique (DECL_REF_EXPR)\n",
      "     |                    |     +--std (NAMESPACE_REF)\n",
      "     |                    |     +--class Tree (TYPE_REF)\n",
      "     |                    +-- (UNEXPOSED_EXPR)\n",
      "     |                       +-- (BINARY_OPERATOR)\n",
      "     |                          +--children (UNEXPOSED_EXPR)\n",
      "     |                          |  +--children (DECL_REF_EXPR)\n",
      "     |                          +-- (INTEGER_LITERAL)\n",
      "     +--left (CXX_METHOD)\n",
      "     |  +--class Tree (TYPE_REF)\n",
      "     |  +-- (COMPOUND_STMT)\n",
      "     |     +-- (RETURN_STMT)\n",
      "     |        +--get (CALL_EXPR)\n",
      "     |           +--get (MEMBER_REF_EXPR)\n",
      "     |              +--left_ (UNEXPOSED_EXPR)\n",
      "     |                 +--left_ (MEMBER_REF_EXPR)\n",
      "     +--right (CXX_METHOD)\n",
      "     |  +--class Tree (TYPE_REF)\n",
      "     |  +-- (COMPOUND_STMT)\n",
      "     |     +-- (RETURN_STMT)\n",
      "     |        +--get (CALL_EXPR)\n",
      "     |           +--get (MEMBER_REF_EXPR)\n",
      "     |              +--right_ (UNEXPOSED_EXPR)\n",
      "     |                 +--right_ (MEMBER_REF_EXPR)\n",
      "     +--data (CXX_METHOD)\n",
      "     |  +-- (COMPOUND_STMT)\n",
      "     |     +-- (RETURN_STMT)\n",
      "     |        +--c_str (CALL_EXPR)\n",
      "     |           +--c_str (MEMBER_REF_EXPR)\n",
      "     |              +--data_ (MEMBER_REF_EXPR)\n",
      "     +--set_data (CXX_METHOD)\n",
      "        +--text (PARM_DECL)\n",
      "        +-- (COMPOUND_STMT)\n",
      "           +--operator= (CALL_EXPR)\n",
      "              +--data_ (MEMBER_REF_EXPR)\n",
      "              +--operator= (UNEXPOSED_EXPR)\n",
      "              |  +--operator= (DECL_REF_EXPR)\n",
      "              +--text (UNEXPOSED_EXPR)\n",
      "                 +--text (DECL_REF_EXPR)\n"
     ]
    }
   ],
   "source": [
    "import asciitree\n",
    "\n",
    "def node_children(node):\n",
    "    return (c for c in node.get_children() if c.location.file.name == \"Tree.h\")\n",
    "\n",
    "print(asciitree.draw_tree(translation_unit.cursor,\n",
    "  lambda n: [c for c in node_children(n)],\n",
    "  lambda n: \"%s (%s)\" % (n.spelling or n.displayname, str(n.kind).split(\".\")[1])))"
   ]
  },
  {
   "cell_type": "markdown",
   "metadata": {},
   "source": [
    "---"
   ]
  },
  {
   "cell_type": "markdown",
   "metadata": {},
   "source": [
    "We create some simple classes of our own to make handling the relevant AST info easy."
   ]
  },
  {
   "cell_type": "code",
   "execution_count": 32,
   "metadata": {
    "collapsed": true
   },
   "outputs": [],
   "source": [
    "import ffig.cppmodel\n",
    "import ffig.clang.cindex\n",
    "\n",
    "model = ffig.cppmodel.Model(translation_unit)"
   ]
  },
  {
   "cell_type": "code",
   "execution_count": 33,
   "metadata": {},
   "outputs": [
    {
     "data": {
      "text/plain": [
       "['char_traits',\n",
       " '__basic_string_common',\n",
       " 'basic_string',\n",
       " 'basic_string',\n",
       " 'Tree']"
      ]
     },
     "execution_count": 33,
     "metadata": {},
     "output_type": "execute_result"
    }
   ],
   "source": [
    "[c.name for c in model.classes][-5:]"
   ]
  },
  {
   "cell_type": "code",
   "execution_count": 34,
   "metadata": {},
   "outputs": [
    {
     "data": {
      "text/plain": [
       "['Tree * Tree::left',\n",
       " 'Tree * Tree::right',\n",
       " 'const char * Tree::data',\n",
       " 'void Tree::set_data']"
      ]
     },
     "execution_count": 34,
     "metadata": {},
     "output_type": "execute_result"
    }
   ],
   "source": [
    "[\"{} {}::{}\".format(m.return_type, model.classes[-1].name, m.name) \n",
    " for m in model.classes[-1].methods]"
   ]
  },
  {
   "cell_type": "markdown",
   "metadata": {},
   "source": [
    "---"
   ]
  },
  {
   "cell_type": "markdown",
   "metadata": {},
   "source": [
    "### Jinja2 templates"
   ]
  },
  {
   "cell_type": "markdown",
   "metadata": {},
   "source": [
    "Jinja2 is a lightweight web-templating engine used in Flask and we can use it to generate code from AST info."
   ]
  },
  {
   "cell_type": "code",
   "execution_count": 36,
   "metadata": {},
   "outputs": [
    {
     "name": "stdout",
     "output_type": "stream",
     "text": [
      "\n",
      "C++ 17 will bring us:\n",
      "\n",
      "* variant\n",
      "\n",
      "* optional\n",
      "\n",
      "* inline variables\n",
      "\n",
      "* fold-expressions\n",
      "\n",
      "* mandated-copy-elision\n",
      "\n"
     ]
    }
   ],
   "source": [
    "from jinja2 import Template\n",
    "template = Template(R\"\"\"\n",
    "C++ 17 will bring us:\n",
    "{%for feature in features%}\n",
    "* {{feature}}\n",
    "{% endfor%}\n",
    "\"\"\")\n",
    "print(template.render(\n",
    "    {'features':['variant',\n",
    "                 'optional',\n",
    "                 'inline variables',\n",
    "                 'fold-expressions',\n",
    "                 'mandated-copy-elision']}))"
   ]
  },
  {
   "cell_type": "markdown",
   "metadata": {},
   "source": [
    "---"
   ]
  },
  {
   "cell_type": "markdown",
   "metadata": {},
   "source": [
    "### Jinja2 and libclang"
   ]
  },
  {
   "cell_type": "markdown",
   "metadata": {},
   "source": [
    "We can feed the AST info to a Jinja2 template to write some code for us."
   ]
  },
  {
   "cell_type": "code",
   "execution_count": 37,
   "metadata": {
    "collapsed": true
   },
   "outputs": [],
   "source": [
    "tree_ast = model.classes[-1]"
   ]
  },
  {
   "cell_type": "code",
   "execution_count": 38,
   "metadata": {},
   "outputs": [
    {
     "name": "stdout",
     "output_type": "stream",
     "text": [
      "#ifndef   TREE_H\n",
      "#define   TREE_H\n",
      "\n",
      "struct Tree_t;\n",
      "typedef Tree_t* Tree;\n",
      "\n",
      "Tree Tree_create();\n",
      "\n",
      "Tree Tree_dispose(Tree myTree);\n",
      "\n",
      "Tree Tree_left(Tree myTree);\n",
      "\n",
      "Tree Tree_right(Tree myTree);\n",
      "\n",
      "Tree Tree_data(Tree myTree);\n",
      "\n",
      "#else  // TREE_H\n",
      "#endif // TREE_H\n",
      "\n"
     ]
    }
   ],
   "source": [
    "from jinja2 import Template\n",
    "template = Template(R\"\"\"\\\n",
    "#ifndef   {{class.name|upper}}_H\n",
    "#define   {{class.name|upper}}_H\n",
    "\n",
    "struct {{class.name}}_t;\n",
    "typedef {{class.name}}_t* {{class.name}};\n",
    "\n",
    "{{class.name}} {{class.name}}_create();\n",
    "\n",
    "{{class.name}} {{class.name}}_dispose({{class.name}} my{{class.name}});\n",
    "\n",
    "{%- for m in class.methods %}{% if not m.arguments %}\n",
    "\n",
    "{{class.name}} {{class.name}}_{{m.name}}({{class.name}} my{{class.name}});\n",
    "{%- endif %}{% endfor %}\n",
    "\n",
    "#else  // {{class.name|upper}}_H\n",
    "#endif // {{class.name|upper}}_H\n",
    "\n",
    "\"\"\")\n",
    "print(template.render({'class':tree_ast}))"
   ]
  },
  {
   "cell_type": "markdown",
   "metadata": {},
   "source": [
    "### Generating a Python API with FFIG"
   ]
  },
  {
   "cell_type": "markdown",
   "metadata": {},
   "source": [
    "FFIG can be invoked to generate bindings for us.\n",
    "\n",
    "FFIG requires that a class is annotated to create bindings for it."
   ]
  },
  {
   "cell_type": "code",
   "execution_count": 39,
   "metadata": {},
   "outputs": [
    {
     "name": "stdout",
     "output_type": "stream",
     "text": [
      "Overwriting Shape.h\n"
     ]
    }
   ],
   "source": [
    "%%file Shape.h\n",
    "#include \"ffig/attributes.h\"\n",
    "#include <stdexcept>\n",
    "#include <string>\n",
    "\n",
    "struct FFIG_EXPORT Shape {\n",
    "  virtual ~Shape() = default;\n",
    "  virtual double area() const = 0;\n",
    "  virtual double perimeter() const = 0;\n",
    "  virtual const char* name() const = 0;\n",
    "};\n",
    "\n",
    "static const double pi = 3.14159;\n",
    "\n",
    "class Circle : public Shape {\n",
    "  const double radius_;\n",
    "\n",
    "public:\n",
    "  double area() const override {\n",
    "    return pi * radius_ * radius_;\n",
    "  }\n",
    "\n",
    "  double perimeter() const override {\n",
    "    return 2 * pi * radius_;\n",
    "  }\n",
    "\n",
    "  const char* name() const override {\n",
    "    return \"Circle\";\n",
    "  }\n",
    "\n",
    "  Circle(double radius) : radius_(radius) {\n",
    "    if ( radius < 0 ) { \n",
    "      std::string s = \"Circle radius \\\"\" + std::to_string(radius_) + \"\\\" must be non-negative.\";\n",
    "      throw std::runtime_error(s);\n",
    "    }\n",
    "  }\n",
    "};"
   ]
  },
  {
   "cell_type": "code",
   "execution_count": 56,
   "metadata": {},
   "outputs": [],
   "source": [
    "%%sh\n",
    "cd ../\n",
    "python -m ffig -b rb.tmpl python -m Shape -i demos/Shape.h -o demos"
   ]
  },
  {
   "cell_type": "code",
   "execution_count": 41,
   "metadata": {},
   "outputs": [
    {
     "name": "stdout",
     "output_type": "stream",
     "text": [
      "# This code was generated by FFIG <http://ffig.org>.\n",
      "# Manual edits will be lost.\n",
      "\n",
      "import os\n",
      "from ctypes import *\n",
      "c_object_p = POINTER(c_void_p)\n",
      "\n",
      "class c_interop_string(c_char_p):\n",
      "\n",
      "  def __init__(self, p=None):\n"
     ]
    }
   ],
   "source": [
    "%%sh\n",
    "head Shape/_py3.py"
   ]
  },
  {
   "cell_type": "code",
   "execution_count": 43,
   "metadata": {
    "scrolled": false
   },
   "outputs": [
    {
     "name": "stdout",
     "output_type": "stream",
     "text": [
      "# This code was generated by FFIG <http://ffig.org>.\r\n",
      "# Manual edits will be lost.\r\n",
      "\r\n",
      "import os\r\n",
      "from ctypes import *\r\n",
      "c_object_p = POINTER(c_void_p)\r\n",
      "\r\n",
      "class c_interop_string(c_char_p):\r\n",
      "\r\n",
      "  def __init__(self, p=None):\r\n",
      "    if p is None:\r\n",
      "      p = \"\"\r\n",
      "    if isinstance(p, str):\r\n",
      "      p = p.encode(\"utf8\")\r\n",
      "    super(c_char_p, self).__init__(p)\r\n",
      "\r\n",
      "  def __str__(self):\r\n",
      "    return self.value\r\n",
      "\r\n",
      "  @property\r\n",
      "  def value(self):\r\n",
      "    if super(c_char_p, self).value is None:\r\n",
      "      return None\r\n",
      "    return super(c_char_p, self).value.decode(\"utf8\")\r\n",
      "\r\n",
      "  @classmethod\r\n",
      "  def from_param(cls, param):\r\n",
      "    if isinstance(param, str):\r\n",
      "      return cls(param)\r\n",
      "    if isinstance(param, bytes):\r\n",
      "      return cls(param)\r\n",
      "    raise TypeError(\"Cannot convert '{}' to '{}'\".format(type(param).__name__, cls.__name__))\r\n",
      "\r\n",
      "  @staticmethod\r\n",
      "  def to_python_string(x, *args):\r\n",
      "    return x.value\r\n",
      "\r\n",
      "\r\n",
      "class Shape_error(Exception):\r\n",
      "    def __init__(self):\r\n",
      "        self.value = conf.lib.Shape_error()\r\n",
      "        conf.lib.Shape_clear_error()\r\n",
      "\r\n",
      "    def __str__(self):\r\n",
      "        return self.value\r\n",
      "\r\n",
      "class Shape:\r\n",
      "  def area(self) -> 'float':\r\n",
      "    rv = c_double()\r\n",
      "    rc = conf.lib.Shape_Shape_area(self , byref(rv))\r\n",
      "    if rc == 0:\r\n",
      "      return rv.value\r\n",
      "    raise Shape_error()\r\n",
      "  def perimeter(self) -> 'float':\r\n",
      "    rv = c_double()\r\n",
      "    rc = conf.lib.Shape_Shape_perimeter(self , byref(rv))\r\n",
      "    if rc == 0:\r\n",
      "      return rv.value\r\n",
      "    raise Shape_error()\r\n",
      "  def name(self) -> 'str':\r\n",
      "    rv = c_interop_string()\r\n",
      "    rc = conf.lib.Shape_Shape_name(self , byref(rv))\r\n",
      "    if rc == 0:\r\n",
      "      return rv.value\r\n",
      "    raise Shape_error()\r\n",
      "  \r\n",
      "  def from_param(self):\r\n",
      "    return self.ptr\r\n",
      "\r\n",
      "  def __del__(self):\r\n",
      "    conf.lib.Shape_Shape_dispose(self)\r\n",
      "\r\n",
      "class Circle(Shape): \r\n",
      "  def __init__(self, radius: 'float'=None, _p=None) -> 'Circle':\r\n",
      "    if _p:\r\n",
      "      self.ptr = _p\r\n",
      "    else:\r\n",
      "      self.ptr = c_object_p()\r\n",
      "      rc = conf.lib.Shape_Circle_create(radius, byref(self.ptr))\r\n",
      "      if rc != 0:\r\n",
      "        raise Shape_error()\r\n",
      "\r\n",
      "\r\n",
      "\r\n",
      "methodList = [\r\n",
      "  (\"Shape_error\",\r\n",
      "  [],\r\n",
      "  c_interop_string,\r\n",
      "  c_interop_string.to_python_string),\r\n",
      "\r\n",
      "  (\"Shape_clear_error\",\r\n",
      "  [],\r\n",
      "  None),\r\n",
      "  \r\n",
      "  (\"Shape_Shape_dispose\",\r\n",
      "  [Shape],\r\n",
      "  None),\r\n",
      "  (\"Shape_Circle_create\",\r\n",
      "  [c_double, POINTER(c_object_p)],\r\n",
      "  c_int),\r\n",
      "  (\"Shape_Shape_area\",\r\n",
      "  [Shape, POINTER(c_double)],\r\n",
      "  c_int),\r\n",
      "  (\"Shape_Shape_perimeter\",\r\n",
      "  [Shape, POINTER(c_double)],\r\n",
      "  c_int),\r\n",
      "  (\"Shape_Shape_name\",\r\n",
      "  [Shape, POINTER(c_interop_string)],\r\n",
      "  c_int)\r\n",
      "]\r\n",
      "\r\n",
      "# library loading and method registrations\r\n",
      "# based on clang python bindings approach\r\n",
      "\r\n",
      "def register_method(lib, item):\r\n",
      "  func = getattr(lib, item[0])\r\n",
      "\r\n",
      "  if len(item) >= 2:\r\n",
      "    func.argtypes = item[1]\r\n",
      "\r\n",
      "  if len(item) >= 3:\r\n",
      "    func.restype = item[2]\r\n",
      "\r\n",
      "  if len(item) == 4:\r\n",
      "    func.errcheck = item[3]\r\n",
      "\r\n",
      "class CachedProperty(object):\r\n",
      "\r\n",
      "    def __init__(self, wrapped):\r\n",
      "        self.wrapped = wrapped\r\n",
      "        try:\r\n",
      "            self.__doc__ = wrapped.__doc__\r\n",
      "        except:\r\n",
      "            pass\r\n",
      "\r\n",
      "    def __get__(self, instance, instance_type=None):\r\n",
      "        if instance is None:\r\n",
      "            return self\r\n",
      "\r\n",
      "        value = self.wrapped(instance)\r\n",
      "        setattr(instance, self.wrapped.__name__, value)\r\n",
      "\r\n",
      "        return value\r\n",
      "\r\n",
      "class Config:\r\n",
      "    library_path = None\r\n",
      "    loaded = False\r\n",
      "\r\n",
      "    @staticmethod\r\n",
      "    def set_library_path(path):\r\n",
      "        if Config.loaded:\r\n",
      "            raise Exception(\"library path is already set.\")\r\n",
      "        Config.library_path = path\r\n",
      "\r\n",
      "    @CachedProperty\r\n",
      "    def lib(self):\r\n",
      "        lib = self._get_library()\r\n",
      "        for m in methodList:\r\n",
      "          register_method(lib,m)\r\n",
      "        Config.loaded = True\r\n",
      "        return lib\r\n",
      "\r\n",
      "    def _get_filename(self):\r\n",
      "        import platform\r\n",
      "        name = platform.system()\r\n",
      "\r\n",
      "        if name == 'Darwin':\r\n",
      "            file = 'libShape_c.dylib'\r\n",
      "        elif name == 'Windows':\r\n",
      "            file = 'Shape_c.dll'\r\n",
      "        else:\r\n",
      "            file = 'libShape_c.so'\r\n",
      "        return file\r\n",
      "\r\n",
      "    def _get_filepath(self):\r\n",
      "        filename = self._get_filename()\r\n",
      "        if not Config.library_path:\r\n",
      "            return filename\r\n",
      "        return os.path.join(Config.library_path, filename)\r\n",
      "\r\n",
      "    def _get_library(self):\r\n",
      "        try:\r\n",
      "            # Use user-specified library path.\r\n",
      "            if Config.library_path:\r\n",
      "                library = cdll.LoadLibrary(self._get_filepath())\r\n",
      "            else:\r\n",
      "                # Use local file\r\n",
      "                try:\r\n",
      "                    this_file_dir = os.path.abspath(os.path.dirname(__file__))\r\n",
      "                    library = cdll.LoadLibrary(os.path.join(this_file_dir, self._get_filename()))\r\n",
      "                except:\r\n",
      "                    # Use system library path (last).\r\n",
      "                    library = cdll.LoadLibrary(self._get_filename())\r\n",
      "        except OSError as e:\r\n",
      "            msg = str(e) + \". To provide a path to Shape dylib use Config.set_library_path()\"\r\n",
      "            raise Exception(msg)\r\n",
      "\r\n",
      "        return library\r\n",
      "\r\n",
      "conf = Config()\r\n"
     ]
    }
   ],
   "source": [
    "%cat Shape/_py3.py"
   ]
  },
  {
   "cell_type": "code",
   "execution_count": 44,
   "metadata": {},
   "outputs": [
    {
     "name": "stdout",
     "output_type": "stream",
     "text": [
      "Overwriting CMakeLists.txt\n"
     ]
    }
   ],
   "source": [
    "%%file CMakeLists.txt\n",
    "\n",
    "cmake_minimum_required(VERSION 3.0)\n",
    "set(CMAKE_CXX_STANDARD 14)\n",
    "\n",
    "include_directories(../ffig/include)\n",
    "\n",
    "add_library(Shape_c SHARED Shape_c.cpp)"
   ]
  },
  {
   "cell_type": "code",
   "execution_count": 45,
   "metadata": {},
   "outputs": [
    {
     "name": "stdout",
     "output_type": "stream",
     "text": [
      "-- The C compiler identification is AppleClang 8.1.0.8020042\n",
      "-- The CXX compiler identification is AppleClang 8.1.0.8020042\n",
      "-- Check for working C compiler: /Applications/Xcode.app/Contents/Developer/Toolchains/XcodeDefault.xctoolchain/usr/bin/cc\n",
      "-- Check for working C compiler: /Applications/Xcode.app/Contents/Developer/Toolchains/XcodeDefault.xctoolchain/usr/bin/cc -- works\n",
      "-- Detecting C compiler ABI info\n",
      "-- Detecting C compiler ABI info - done\n",
      "-- Detecting C compile features\n",
      "-- Detecting C compile features - done\n",
      "-- Check for working CXX compiler: /Applications/Xcode.app/Contents/Developer/Toolchains/XcodeDefault.xctoolchain/usr/bin/c++\n",
      "-- Check for working CXX compiler: /Applications/Xcode.app/Contents/Developer/Toolchains/XcodeDefault.xctoolchain/usr/bin/c++ -- works\n",
      "-- Detecting CXX compiler ABI info\n",
      "-- Detecting CXX compiler ABI info - done\n",
      "-- Detecting CXX compile features\n",
      "-- Detecting CXX compile features - done\n",
      "-- Configuring done\n",
      "-- Generating done\n",
      "-- Build files have been written to: /Users/jon/DEV/FFIG/demos\n",
      "[1/2] Building CXX object CMakeFiles/Shape_c.dir/Shape_c.cpp.o\n",
      "[2/2] Linking CXX shared library libShape_c.dylib\n"
     ]
    }
   ],
   "source": [
    "%%sh\n",
    "rm -rf CMakeFiles/\n",
    "rm CMakeCache.txt\n",
    "\n",
    "cmake . -GNinja\n",
    "cmake --build .\n",
    "strip -x libAsset_c.dylib"
   ]
  },
  {
   "cell_type": "code",
   "execution_count": 46,
   "metadata": {},
   "outputs": [
    {
     "name": "stdout",
     "output_type": "stream",
     "text": [
      "A Circle with radius 8 has area 201.06176\n"
     ]
    }
   ],
   "source": [
    "import Shape\n",
    "\n",
    "c = Shape.Circle(8)\n",
    "\n",
    "print(\"A {} with radius {} has area {}\".format(c.name(), 8, c.area()))"
   ]
  },
  {
   "cell_type": "code",
   "execution_count": 51,
   "metadata": {},
   "outputs": [
    {
     "name": "stdout",
     "output_type": "stream",
     "text": [
      "A Circle with radius 8 has area 201.06176\n"
     ]
    }
   ],
   "source": [
    "%%script /opt/intel/intelpython27/bin/python\n",
    "\n",
    "import Shape\n",
    "Shape.Config.set_library_path(\".\")\n",
    "c = Shape.Circle(8)\n",
    "\n",
    "print(\"A {} with radius {} has area {}\".format(c.name(), 8, c.area()))"
   ]
  },
  {
   "cell_type": "code",
   "execution_count": 52,
   "metadata": {},
   "outputs": [
    {
     "ename": "Shape_error",
     "evalue": "Circle radius \"-5.000000\" must be non-negative.",
     "output_type": "error",
     "traceback": [
      "\u001b[0;31m---------------------------------------------------------------------------\u001b[0m",
      "\u001b[0;31mShape_error\u001b[0m                               Traceback (most recent call last)",
      "\u001b[0;32m<ipython-input-52-750d55e859ab>\u001b[0m in \u001b[0;36m<module>\u001b[0;34m()\u001b[0m\n\u001b[0;32m----> 1\u001b[0;31m \u001b[0mShape\u001b[0m\u001b[0;34m.\u001b[0m\u001b[0mCircle\u001b[0m\u001b[0;34m(\u001b[0m\u001b[0;34m-\u001b[0m\u001b[0;36m5\u001b[0m\u001b[0;34m)\u001b[0m\u001b[0;34m\u001b[0m\u001b[0m\n\u001b[0m",
      "\u001b[0;32m~/DEV/FFIG/demos/Shape/_py3.py\u001b[0m in \u001b[0;36m__init__\u001b[0;34m(self, radius, _p)\u001b[0m\n\u001b[1;32m     79\u001b[0m       \u001b[0mrc\u001b[0m \u001b[0;34m=\u001b[0m \u001b[0mconf\u001b[0m\u001b[0;34m.\u001b[0m\u001b[0mlib\u001b[0m\u001b[0;34m.\u001b[0m\u001b[0mShape_Circle_create\u001b[0m\u001b[0;34m(\u001b[0m\u001b[0mradius\u001b[0m\u001b[0;34m,\u001b[0m \u001b[0mbyref\u001b[0m\u001b[0;34m(\u001b[0m\u001b[0mself\u001b[0m\u001b[0;34m.\u001b[0m\u001b[0mptr\u001b[0m\u001b[0;34m)\u001b[0m\u001b[0;34m)\u001b[0m\u001b[0;34m\u001b[0m\u001b[0m\n\u001b[1;32m     80\u001b[0m       \u001b[0;32mif\u001b[0m \u001b[0mrc\u001b[0m \u001b[0;34m!=\u001b[0m \u001b[0;36m0\u001b[0m\u001b[0;34m:\u001b[0m\u001b[0;34m\u001b[0m\u001b[0m\n\u001b[0;32m---> 81\u001b[0;31m         \u001b[0;32mraise\u001b[0m \u001b[0mShape_error\u001b[0m\u001b[0;34m(\u001b[0m\u001b[0;34m)\u001b[0m\u001b[0;34m\u001b[0m\u001b[0m\n\u001b[0m\u001b[1;32m     82\u001b[0m \u001b[0;34m\u001b[0m\u001b[0m\n\u001b[1;32m     83\u001b[0m \u001b[0;34m\u001b[0m\u001b[0m\n",
      "\u001b[0;31mShape_error\u001b[0m: Circle radius \"-5.000000\" must be non-negative."
     ]
    }
   ],
   "source": [
    "Shape.Circle(-5)"
   ]
  },
  {
   "cell_type": "code",
   "execution_count": 57,
   "metadata": {},
   "outputs": [
    {
     "name": "stdout",
     "output_type": "stream",
     "text": [
      "A Circle with radius 8 has area 201.06176\n"
     ]
    }
   ],
   "source": [
    "%%ruby\n",
    "load \"Shape.rb\"\n",
    "c = Circle.new(8)\n",
    "\n",
    "puts(\"A #{c.name()} with radius #{8} has area #{c.area()}\")"
   ]
  },
  {
   "cell_type": "markdown",
   "metadata": {},
   "source": [
    "## FFIG needs you!\n",
    "\n",
    "FFIG is MIT-licensed and hosted on GitHub."
   ]
  },
  {
   "cell_type": "markdown",
   "metadata": {},
   "source": [
    "We'd _really_ like input on:\n",
    "\n",
    "* Support for returning non-primitives by value\n",
    "* Support for standard library types\n",
    "* Generating boost::python bindings\n",
    "\n",
    "Other issues are on: https://github.com/FFIG/ffig/issues\n",
    "\n",
    "Our policy for PRs is to approve things that do not break existing code. No change is too small!"
   ]
  }
 ],
 "metadata": {
  "kernelspec": {
   "display_name": "Python 3",
   "language": "python",
   "name": "python3"
  },
  "language_info": {
   "codemirror_mode": {
    "name": "ipython",
    "version": 3
   },
   "file_extension": ".py",
   "mimetype": "text/x-python",
   "name": "python",
   "nbconvert_exporter": "python",
   "pygments_lexer": "ipython3",
   "version": "3.6.2"
  }
 },
 "nbformat": 4,
 "nbformat_minor": 2
}
