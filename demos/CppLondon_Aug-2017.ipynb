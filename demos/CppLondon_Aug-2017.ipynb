{
 "cells": [
  {
   "cell_type": "markdown",
   "metadata": {
    "slideshow": {
     "slide_type": "slide"
    }
   },
   "source": [
    "# FFIG - A foreign function interface generator for `C++`"
   ]
  },
  {
   "cell_type": "markdown",
   "metadata": {},
   "source": [
    "https://github.com/FFIG/ffig\n",
    "\n",
    "`jonathanbcoe@gmail.com`\n",
    "\n",
    "---"
   ]
  },
  {
   "cell_type": "markdown",
   "metadata": {},
   "source": [
    "I want to write `C++` code and call it from Python without doing any extra work.\n",
    "\n",
    "---"
   ]
  },
  {
   "cell_type": "markdown",
   "metadata": {},
   "source": [
    "### For Project Managers\n",
    "A language like Python can be written to resemble executable pseudo-code and is a great langauge for defining high-level acceptance criteria. \n",
    "\n",
    "Developer engagement is easy when requirements are code.\n",
    "\n",
    "---"
   ]
  },
  {
   "cell_type": "markdown",
   "metadata": {},
   "source": [
    "### For Clients \n",
    "It's easy to put together interactive demos with Python. Jupyter notebook allows one to display graphs, images, videos and tabulated data. \n",
    "\n",
    "The ability to change demos on the fly in response to client queries is seriously impressive.\n",
    "\n",
    "---"
   ]
  },
  {
   "cell_type": "markdown",
   "metadata": {},
   "source": [
    "### For Developers\n",
    "I can break the edit-compile-link-test cycle with an interpreted scripting language. \n",
    "\n",
    "Once the design is right I can drive it into `C++`.\n",
    "\n",
    "---"
   ]
  },
  {
   "cell_type": "markdown",
   "metadata": {},
   "source": [
    "### Calling `C++` from Python\n",
    "\n",
    "* Write some `C++` code.\n",
    "* Define a `C-API` for binary compatibility.\n",
    "* Solving problems with ownership.\n",
    "* Define classes and functions that use a Foreign Function Interface to communicate with `C`.\n",
    "\n",
    "---"
   ]
  },
  {
   "cell_type": "markdown",
   "metadata": {},
   "source": [
    "### Code-generation\n",
    "\n",
    "* Parse `C++` code.\n",
    "* Transform parsed source code into a easy-to use form.\n",
    "* Define a template that transforms parsed source code into `C`\n",
    "* Define a template that transforms parsed source code into classes, functions and FFI calls.\n",
    "\n",
    "---"
   ]
  },
  {
   "cell_type": "code",
   "execution_count": 1,
   "metadata": {},
   "outputs": [
    {
     "name": "stdout",
     "output_type": "stream",
     "text": [
      "Overwriting Tree.hpp\n"
     ]
    }
   ],
   "source": [
    "%%file Tree.hpp\n",
    "#ifndef FFIG_DEMOS_TREE_H\n",
    "#define FFIG_DEMOS_TREE_H\n",
    "\n",
    "#include <memory>\n",
    "\n",
    "class Tree {\n",
    "  std::unique_ptr<Tree> left_;\n",
    "  std::unique_ptr<Tree> right_;\n",
    "  int data_ = 0;    \n",
    " \n",
    " public:\n",
    "  Tree(int children) {\n",
    "    if(children <=0) return; \n",
    "    left_ = std::make_unique<Tree>(children-1);\n",
    "    right_ = std::make_unique<Tree>(children-1);\n",
    "  } \n",
    "    \n",
    "  Tree* left() { return left_.get(); }\n",
    "  \n",
    "  Tree* right() { return right_.get(); }\n",
    "    \n",
    "  int data() const { return data_; }\n",
    "  \n",
    "  void set_data(int x) { data_ = x; }\n",
    "};\n",
    "\n",
    "#endif // FFIG_DEMOS_TREE_H"
   ]
  },
  {
   "cell_type": "markdown",
   "metadata": {},
   "source": [
    "Let's compile this to ensure we've not made any mistakes."
   ]
  },
  {
   "cell_type": "code",
   "execution_count": 2,
   "metadata": {
    "collapsed": true
   },
   "outputs": [],
   "source": [
    "%%sh\n",
    "clang++ -std=c++14 -fsyntax-only Tree.hpp"
   ]
  },
  {
   "cell_type": "markdown",
   "metadata": {},
   "source": [
    "---"
   ]
  },
  {
   "cell_type": "markdown",
   "metadata": {},
   "source": [
    "## Defining a C-API\n",
    "\n",
    "We want a `C-API` so that we have a well-defined and portable binary interface. \n",
    "\n",
    "We'll have to re-model our code as C does not support classes.\n",
    "\n",
    "Free functions with an extra leading argument for `this` should suffice."
   ]
  },
  {
   "cell_type": "code",
   "execution_count": 3,
   "metadata": {},
   "outputs": [
    {
     "name": "stdout",
     "output_type": "stream",
     "text": [
      "Overwriting Tree_c.h\n"
     ]
    }
   ],
   "source": [
    "%%file Tree_c.h\n",
    "#ifndef FFIG_DEMOS_TREE_C_H\n",
    "#define FFIG_DEMOS_TREE_C_H\n",
    "\n",
    "#define C_API extern \"C\" __attribute__((visibility(\"default\")))\n",
    "\n",
    "struct CTree_t;\n",
    "typedef CTree_t* CTree;\n",
    "\n",
    "C_API CTree Tree_create(int children);\n",
    "\n",
    "C_API void Tree_dispose(CTree t);\n",
    "\n",
    "C_API CTree Tree_left(CTree t);\n",
    "\n",
    "C_API CTree Tree_right(CTree t);\n",
    "\n",
    "C_API int Tree_data(CTree t);\n",
    "\n",
    "C_API void Tree_set_data(CTree t, int x);\n",
    "\n",
    "#endif // FFIG_DEMOS_TREE_C_H"
   ]
  },
  {
   "cell_type": "code",
   "execution_count": 4,
   "metadata": {},
   "outputs": [
    {
     "name": "stdout",
     "output_type": "stream",
     "text": [
      "Overwriting Tree_c.cpp\n"
     ]
    }
   ],
   "source": [
    "%%file Tree_c.cpp\n",
    "\n",
    "#include \"Tree_c.h\"\n",
    "#include \"Tree.hpp\"\n",
    "\n",
    "CTree Tree_create(int children) {\n",
    "  auto tree = std::make_unique<Tree>(children);\n",
    "  return reinterpret_cast<CTree>(tree.release());\n",
    "}\n",
    "\n",
    "void Tree_dispose(CTree t) {\n",
    "  auto* tree = reinterpret_cast<Tree*>(t);\n",
    "  delete tree;\n",
    "}\n",
    "\n",
    "CTree Tree_left(CTree t) {\n",
    "  auto* tree = reinterpret_cast<Tree*>(t);\n",
    "  return reinterpret_cast<CTree>(tree->left());\n",
    "}\n",
    "\n",
    "CTree Tree_right(CTree t) {\n",
    "  auto* tree = reinterpret_cast<Tree*>(t);\n",
    "  return reinterpret_cast<CTree>(tree->right());\n",
    "}\n",
    "\n",
    "int Tree_data(CTree t) {\n",
    "  auto* tree = reinterpret_cast<Tree*>(t);\n",
    "  return tree->data();\n",
    "}\n",
    "\n",
    "void Tree_set_data(CTree t, int x) {\n",
    "  auto* tree = reinterpret_cast<Tree*>(t);\n",
    "  tree->set_data(x);\n",
    "}"
   ]
  },
  {
   "cell_type": "markdown",
   "metadata": {},
   "source": [
    "We can build this to create a shared library with our `C-API` symbols exposed."
   ]
  },
  {
   "cell_type": "code",
   "execution_count": 5,
   "metadata": {},
   "outputs": [
    {
     "name": "stdout",
     "output_type": "stream",
     "text": [
      "Overwriting CMakeLists.txt\n"
     ]
    }
   ],
   "source": [
    "%%file CMakeLists.txt\n",
    "\n",
    "cmake_minimum_required(VERSION 3.0)\n",
    "set(CMAKE_CXX_STANDARD 14)\n",
    "add_compile_options(-fvisibility=hidden)\n",
    "add_library(Tree_c SHARED Tree_c.cpp)"
   ]
  },
  {
   "cell_type": "code",
   "execution_count": 6,
   "metadata": {},
   "outputs": [
    {
     "name": "stdout",
     "output_type": "stream",
     "text": [
      "-- The C compiler identification is AppleClang 8.1.0.8020042\n",
      "-- The CXX compiler identification is AppleClang 8.1.0.8020042\n",
      "-- Check for working C compiler: /Applications/Xcode.app/Contents/Developer/Toolchains/XcodeDefault.xctoolchain/usr/bin/cc\n",
      "-- Check for working C compiler: /Applications/Xcode.app/Contents/Developer/Toolchains/XcodeDefault.xctoolchain/usr/bin/cc -- works\n",
      "-- Detecting C compiler ABI info\n",
      "-- Detecting C compiler ABI info - done\n",
      "-- Detecting C compile features\n",
      "-- Detecting C compile features - done\n",
      "-- Check for working CXX compiler: /Applications/Xcode.app/Contents/Developer/Toolchains/XcodeDefault.xctoolchain/usr/bin/c++\n",
      "-- Check for working CXX compiler: /Applications/Xcode.app/Contents/Developer/Toolchains/XcodeDefault.xctoolchain/usr/bin/c++ -- works\n",
      "-- Detecting CXX compiler ABI info\n",
      "-- Detecting CXX compiler ABI info - done\n",
      "-- Detecting CXX compile features\n",
      "-- Detecting CXX compile features - done\n",
      "-- Configuring done\n",
      "-- Generating done\n",
      "-- Build files have been written to: /Users/jon/DEV/FFIG/demos\n",
      "[1/2] Building CXX object CMakeFiles/Tree_c.dir/Tree_c.cpp.o\n",
      "[2/2] Linking CXX shared library libTree_c.dylib\n"
     ]
    }
   ],
   "source": [
    "%%sh\n",
    "rm -rf CMakeFiles/\n",
    "rm CMakeCache.txt || echo\n",
    "\n",
    "cmake . -GNinja\n",
    "cmake --build .\n",
    "strip -x libTree_c.dylib"
   ]
  },
  {
   "cell_type": "code",
   "execution_count": 7,
   "metadata": {},
   "outputs": [
    {
     "name": "stdout",
     "output_type": "stream",
     "text": [
      "0000000000001c30 T _Tree_create\n",
      "0000000000001fc0 T _Tree_data\n",
      "0000000000001ea0 T _Tree_dispose\n",
      "0000000000001f00 T _Tree_left\n",
      "0000000000001f60 T _Tree_right\n",
      "0000000000002010 T _Tree_set_data\n"
     ]
    }
   ],
   "source": [
    "%%sh\n",
    "nm -U libTree_c.dylib"
   ]
  },
  {
   "cell_type": "markdown",
   "metadata": {},
   "source": [
    "## Python interop"
   ]
  },
  {
   "cell_type": "markdown",
   "metadata": {},
   "source": [
    "We can use Python's `ctypes` module to interact with the `C` shared-library."
   ]
  },
  {
   "cell_type": "code",
   "execution_count": 8,
   "metadata": {
    "collapsed": true
   },
   "outputs": [],
   "source": [
    "import ctypes\n",
    "ctypes.c_object_p = ctypes.POINTER(ctypes.c_void_p)\n",
    "\n",
    "tree_lib = ctypes.cdll.LoadLibrary(\"libTree_c.dylib\")"
   ]
  },
  {
   "cell_type": "markdown",
   "metadata": {},
   "source": [
    "We need to tell ctypes about the arguments and return types of the functions.\n",
    "\n",
    "By default ctypes assumes functions take no arguments and return an integer."
   ]
  },
  {
   "cell_type": "code",
   "execution_count": 9,
   "metadata": {
    "collapsed": true
   },
   "outputs": [],
   "source": [
    "tree_lib.Tree_create.argtypes = [ctypes.c_int]\n",
    "tree_lib.Tree_create.restype = ctypes.c_object_p\n",
    "\n",
    "tree_lib.Tree_dispose.argtypes = [ctypes.c_object_p]\n",
    "tree_lib.Tree_dispose.restype = None\n",
    "\n",
    "tree_lib.Tree_left.argtypes = [ctypes.c_object_p]\n",
    "tree_lib.Tree_left.restype = ctypes.c_object_p\n",
    "\n",
    "tree_lib.Tree_right.argtypes = [ctypes.c_object_p]\n",
    "tree_lib.Tree_right.restype = ctypes.c_object_p\n",
    "\n",
    "tree_lib.Tree_data.argtypes = [ctypes.c_object_p]\n",
    "tree_lib.Tree_data.restype = ctypes.c_int\n",
    "\n",
    "tree_lib.Tree_set_data.argtypes = [ctypes.c_object_p, ctypes.c_int]\n",
    "tree_lib.Tree_set_data.restype = None"
   ]
  },
  {
   "cell_type": "markdown",
   "metadata": {},
   "source": [
    "We'll leave the string-related methods for now, interop there is not so easy.\n",
    "\n",
    "Let's see what we can do with the fledgling Python API."
   ]
  },
  {
   "cell_type": "code",
   "execution_count": 10,
   "metadata": {
    "collapsed": true
   },
   "outputs": [],
   "source": [
    "root = tree_lib.Tree_create(2)"
   ]
  },
  {
   "cell_type": "code",
   "execution_count": 11,
   "metadata": {},
   "outputs": [
    {
     "data": {
      "text/plain": [
       "<__main__.LP_c_void_p at 0x1031987b8>"
      ]
     },
     "execution_count": 11,
     "metadata": {},
     "output_type": "execute_result"
    }
   ],
   "source": [
    "root"
   ]
  },
  {
   "cell_type": "code",
   "execution_count": 12,
   "metadata": {},
   "outputs": [
    {
     "data": {
      "text/plain": [
       "0"
      ]
     },
     "execution_count": 12,
     "metadata": {},
     "output_type": "execute_result"
    }
   ],
   "source": [
    "tree_lib.Tree_data(root)"
   ]
  },
  {
   "cell_type": "code",
   "execution_count": 13,
   "metadata": {},
   "outputs": [
    {
     "data": {
      "text/plain": [
       "42"
      ]
     },
     "execution_count": 13,
     "metadata": {},
     "output_type": "execute_result"
    }
   ],
   "source": [
    "tree_lib.Tree_set_data(root, 42)\n",
    "tree_lib.Tree_data(root)"
   ]
  },
  {
   "cell_type": "code",
   "execution_count": 14,
   "metadata": {
    "collapsed": true
   },
   "outputs": [],
   "source": [
    "tree_lib.Tree_dispose(root)"
   ]
  },
  {
   "cell_type": "markdown",
   "metadata": {},
   "source": [
    "So far, so not-very-Pythonic.\n",
    "\n",
    "We want classes!"
   ]
  },
  {
   "cell_type": "code",
   "execution_count": 15,
   "metadata": {
    "collapsed": true
   },
   "outputs": [],
   "source": [
    "class Tree(object):\n",
    "    \n",
    "    def __init__(self, children=None, _p=None):\n",
    "        if _p:\n",
    "            self._ptr = _p\n",
    "            self._owner = False\n",
    "        else:\n",
    "            self._ptr = tree_lib.Tree_create(children)\n",
    "            self._owner = True\n",
    "        \n",
    "    def __del__(self):\n",
    "        if self._owner:\n",
    "            tree_lib.Tree_dispose(self._ptr)\n",
    "     \n",
    "    def __repr__(self):\n",
    "        return \"<Tree data:{}>\".format(self.data)\n",
    "    \n",
    "    @property\n",
    "    def left(self):\n",
    "        p = tree_lib.Tree_left(self._ptr)\n",
    "        if not p: \n",
    "            return None\n",
    "        return Tree(_p=p)\n",
    "    \n",
    "    @property\n",
    "    def right(self):\n",
    "        p = tree_lib.Tree_right(self._ptr)\n",
    "        if not p: \n",
    "            return None\n",
    "        \n",
    "        return Tree(_p=p)\n",
    "    \n",
    "    @property\n",
    "    def data(self):\n",
    "        return tree_lib.Tree_data(self._ptr)\n",
    "    \n",
    "    @data.setter\n",
    "    def data(self, x):\n",
    "        tree_lib.Tree_set_data(self._ptr, x)"
   ]
  },
  {
   "cell_type": "code",
   "execution_count": 16,
   "metadata": {},
   "outputs": [
    {
     "data": {
      "text/plain": [
       "<Tree data:0>"
      ]
     },
     "execution_count": 16,
     "metadata": {},
     "output_type": "execute_result"
    }
   ],
   "source": [
    "t = Tree(2)\n",
    "t"
   ]
  },
  {
   "cell_type": "code",
   "execution_count": 18,
   "metadata": {},
   "outputs": [
    {
     "data": {
      "text/plain": [
       "<Tree data:42>"
      ]
     },
     "execution_count": 18,
     "metadata": {},
     "output_type": "execute_result"
    }
   ],
   "source": [
    "t.data = 42\n",
    "t"
   ]
  },
  {
   "cell_type": "code",
   "execution_count": 19,
   "metadata": {},
   "outputs": [
    {
     "data": {
      "text/plain": [
       "<Tree data:0>"
      ]
     },
     "execution_count": 19,
     "metadata": {},
     "output_type": "execute_result"
    }
   ],
   "source": [
    "t.left"
   ]
  },
  {
   "cell_type": "code",
   "execution_count": 20,
   "metadata": {
    "collapsed": true
   },
   "outputs": [],
   "source": [
    "t.left.data = 6"
   ]
  },
  {
   "cell_type": "code",
   "execution_count": 21,
   "metadata": {},
   "outputs": [
    {
     "data": {
      "text/plain": [
       "<Tree data:6>"
      ]
     },
     "execution_count": 21,
     "metadata": {},
     "output_type": "execute_result"
    }
   ],
   "source": [
    "t.left"
   ]
  },
  {
   "cell_type": "markdown",
   "metadata": {},
   "source": [
    "This looks good but we our crude attempts at memory management will fail if we start working with temporaries."
   ]
  },
  {
   "cell_type": "code",
   "execution_count": 22,
   "metadata": {
    "collapsed": true
   },
   "outputs": [],
   "source": [
    "# This kills the kernel\n",
    "#left = Tree(3).left.left\n",
    "#left.data"
   ]
  },
  {
   "cell_type": "markdown",
   "metadata": {},
   "source": [
    "Our Python classes don't know enough about the underlying C++ to do the memory management. \n",
    "\n",
    "Our C-API implementation needs a re-think."
   ]
  },
  {
   "cell_type": "markdown",
   "metadata": {},
   "source": [
    "## Defining a C-API (Again)"
   ]
  },
  {
   "cell_type": "markdown",
   "metadata": {},
   "source": [
    "We can imbue the pointers passed across the API boundary with object lifetime detail"
   ]
  },
  {
   "cell_type": "markdown",
   "metadata": {},
   "source": [
    "### The aliasing constructor of `std::shared_ptr`"
   ]
  },
  {
   "cell_type": "markdown",
   "metadata": {},
   "source": [
    "We can use the aliasing constructor of shared_ptr to keep objects alive while any subobject is exposed across the API boundary."
   ]
  },
  {
   "cell_type": "raw",
   "metadata": {},
   "source": [
    "template <class T>\n",
    "class shared_ptr {\n",
    "\n",
    "  shared_ptr(const shared_ptr<U>& parent, T* child);\n",
    "\n",
    "};"
   ]
  },
  {
   "cell_type": "markdown",
   "metadata": {},
   "source": [
    "---"
   ]
  },
  {
   "cell_type": "code",
   "execution_count": 23,
   "metadata": {},
   "outputs": [
    {
     "name": "stdout",
     "output_type": "stream",
     "text": [
      "Overwriting Tree_2_c.cpp\n"
     ]
    }
   ],
   "source": [
    "%%file Tree_2_c.cpp\n",
    "\n",
    "#include <memory>\n",
    "#include \"Tree_c.h\"\n",
    "#include \"Tree.hpp\"\n",
    "\n",
    "using Tree_ptr = std::shared_ptr<Tree>*;\n",
    "\n",
    "CTree Tree_create(int children) {\n",
    "  auto tree = std::make_unique<Tree>(children);\n",
    "  Tree_ptr p = new std::shared_ptr<Tree>(tree.release());\n",
    "  return reinterpret_cast<CTree>(p);\n",
    "}\n",
    "\n",
    "void Tree_dispose(CTree t) {\n",
    "  delete reinterpret_cast<Tree_ptr>(t);\n",
    "}\n",
    "\n",
    "CTree Tree_left(CTree t) {\n",
    "  const auto& tree = *reinterpret_cast<Tree_ptr>(t);\n",
    "  auto left = tree->left();\n",
    "  if(!left) \n",
    "    return nullptr;\n",
    "    \n",
    "  Tree_ptr p = new std::shared_ptr<Tree>(tree, left);\n",
    "  return reinterpret_cast<CTree>(p);\n",
    "}\n",
    "\n",
    "CTree Tree_right(CTree t) {\n",
    "  const auto& tree = *reinterpret_cast<Tree_ptr>(t);\n",
    "  auto right = tree->left();\n",
    "  if(!right) \n",
    "    return nullptr;\n",
    "    \n",
    "  Tree_ptr p = new std::shared_ptr<Tree>(tree, right);\n",
    "  return reinterpret_cast<CTree>(p);\n",
    "}\n",
    "\n",
    "int Tree_data(CTree t) {\n",
    "  const auto& tree = *reinterpret_cast<Tree_ptr>(t);\n",
    "  return tree->data();\n",
    "}\n",
    "\n",
    "void Tree_set_data(CTree t, int x) {\n",
    "  const auto& tree = *reinterpret_cast<Tree_ptr>(t);\n",
    "  tree->set_data(x);\n",
    "}"
   ]
  },
  {
   "cell_type": "code",
   "execution_count": 24,
   "metadata": {},
   "outputs": [
    {
     "name": "stdout",
     "output_type": "stream",
     "text": [
      "Overwriting CMakeLists.txt\n"
     ]
    }
   ],
   "source": [
    "%%file CMakeLists.txt\n",
    "\n",
    "cmake_minimum_required(VERSION 3.0)\n",
    "set(CMAKE_CXX_STANDARD 14)\n",
    "\n",
    "add_compile_options(-fvisibility=hidden)\n",
    "add_library(Tree_2_c SHARED Tree_2_c.cpp)"
   ]
  },
  {
   "cell_type": "code",
   "execution_count": 25,
   "metadata": {},
   "outputs": [
    {
     "name": "stdout",
     "output_type": "stream",
     "text": [
      "-- The C compiler identification is AppleClang 8.1.0.8020042\n",
      "-- The CXX compiler identification is AppleClang 8.1.0.8020042\n",
      "-- Check for working C compiler: /Applications/Xcode.app/Contents/Developer/Toolchains/XcodeDefault.xctoolchain/usr/bin/cc\n",
      "-- Check for working C compiler: /Applications/Xcode.app/Contents/Developer/Toolchains/XcodeDefault.xctoolchain/usr/bin/cc -- works\n",
      "-- Detecting C compiler ABI info\n",
      "-- Detecting C compiler ABI info - done\n",
      "-- Detecting C compile features\n",
      "-- Detecting C compile features - done\n",
      "-- Check for working CXX compiler: /Applications/Xcode.app/Contents/Developer/Toolchains/XcodeDefault.xctoolchain/usr/bin/c++\n",
      "-- Check for working CXX compiler: /Applications/Xcode.app/Contents/Developer/Toolchains/XcodeDefault.xctoolchain/usr/bin/c++ -- works\n",
      "-- Detecting CXX compiler ABI info\n",
      "-- Detecting CXX compiler ABI info - done\n",
      "-- Detecting CXX compile features\n",
      "-- Detecting CXX compile features - done\n",
      "-- Configuring done\n",
      "-- Generating done\n",
      "-- Build files have been written to: /Users/jon/DEV/FFIG/demos\n",
      "[1/2] Building CXX object CMakeFiles/Tree_2_c.dir/Tree_2_c.cpp.o\n",
      "[2/2] Linking CXX shared library libTree_2_c.dylib\n"
     ]
    }
   ],
   "source": [
    "%%sh\n",
    "rm -rf CMakeFiles/\n",
    "rm CMakeCache.txt\n",
    "\n",
    "cmake . -GNinja\n",
    "cmake --build .\n",
    "strip -x libTree_2_c.dylib"
   ]
  },
  {
   "cell_type": "markdown",
   "metadata": {},
   "source": [
    "## A Safer Python API"
   ]
  },
  {
   "cell_type": "code",
   "execution_count": 26,
   "metadata": {
    "collapsed": true
   },
   "outputs": [],
   "source": [
    "import ctypes\n",
    "ctypes.c_object_p = ctypes.POINTER(ctypes.c_void_p)\n",
    "\n",
    "tree_lib2 = ctypes.cdll.LoadLibrary(\"libTree_2_c.dylib\")"
   ]
  },
  {
   "cell_type": "code",
   "execution_count": 27,
   "metadata": {
    "collapsed": true
   },
   "outputs": [],
   "source": [
    "tree_lib2.Tree_create.argtypes = [ctypes.c_int]\n",
    "tree_lib2.Tree_create.restype = ctypes.c_object_p\n",
    "\n",
    "tree_lib2.Tree_dispose.argtypes = [ctypes.c_object_p]\n",
    "tree_lib2.Tree_dispose.restype = None\n",
    "\n",
    "tree_lib2.Tree_left.argtypes = [ctypes.c_object_p]\n",
    "tree_lib2.Tree_left.restype = ctypes.c_object_p\n",
    "\n",
    "tree_lib2.Tree_right.argtypes = [ctypes.c_object_p]\n",
    "tree_lib2.Tree_right.restype = ctypes.c_object_p\n",
    "\n",
    "tree_lib2.Tree_data.argtypes = [ctypes.c_object_p]\n",
    "tree_lib2.Tree_data.restype = ctypes.c_int\n",
    "\n",
    "tree_lib2.Tree_set_data.argtypes = [ctypes.c_object_p, ctypes.c_int]\n",
    "tree_lib2.Tree_set_data.restype = None"
   ]
  },
  {
   "cell_type": "code",
   "execution_count": 28,
   "metadata": {
    "collapsed": true
   },
   "outputs": [],
   "source": [
    "class Tree2(object):\n",
    "    \n",
    "    def __init__(self, children=None, _p=None):\n",
    "        if _p:\n",
    "            self._ptr = _p\n",
    "        else:\n",
    "            self._ptr = tree_lib2.Tree_create(children)\n",
    "        \n",
    "    def __del__(self):\n",
    "        tree_lib2.Tree_dispose(self._ptr)\n",
    "     \n",
    "    def __repr__(self):\n",
    "        return \"<Tree data:{}>\".format(self.data)\n",
    "    \n",
    "    @property\n",
    "    def left(self):\n",
    "        p = tree_lib2.Tree_left(self._ptr)\n",
    "        if not p: \n",
    "            return None\n",
    "        return Tree2(_p=p)\n",
    "    \n",
    "    @property\n",
    "    def right(self):\n",
    "        p = tree_lib2.Tree_right(self._ptr)\n",
    "        if not p: \n",
    "            return None\n",
    "        \n",
    "        return Tree2(_p=p)\n",
    "    \n",
    "    @property\n",
    "    def data(self):\n",
    "        return tree_lib2.Tree_data(self._ptr)\n",
    "    \n",
    "    @data.setter\n",
    "    def data(self, x):\n",
    "        tree_lib2.Tree_set_data(self._ptr, x)"
   ]
  },
  {
   "cell_type": "code",
   "execution_count": 29,
   "metadata": {},
   "outputs": [
    {
     "data": {
      "text/plain": [
       "0"
      ]
     },
     "execution_count": 29,
     "metadata": {},
     "output_type": "execute_result"
    }
   ],
   "source": [
    "# This no longer kills the kernel\n",
    "left = Tree2(3).left.left.left\n",
    "left.data"
   ]
  },
  {
   "cell_type": "code",
   "execution_count": 30,
   "metadata": {},
   "outputs": [
    {
     "data": {
      "text/plain": [
       "42"
      ]
     },
     "execution_count": 30,
     "metadata": {},
     "output_type": "execute_result"
    }
   ],
   "source": [
    "root = Tree2(3)\n",
    "left = root.left\n",
    "left.data = 42\n",
    "\n",
    "del root\n",
    "left.data"
   ]
  },
  {
   "cell_type": "markdown",
   "metadata": {},
   "source": [
    "In addition to memory management, we have string translation and exception handling to think about.\n",
    "\n",
    "Given time constraints, I won't cover that here. "
   ]
  },
  {
   "cell_type": "markdown",
   "metadata": {},
   "source": [
    "---"
   ]
  },
  {
   "cell_type": "markdown",
   "metadata": {},
   "source": [
    "# FFIG"
   ]
  },
  {
   "cell_type": "markdown",
   "metadata": {},
   "source": [
    "Writing C-API and Python bindings out by hand is time consuming and more than a little error prone.\n",
    "\n",
    "There's not a lot of creativity required once the approach is worked out.\n",
    "\n",
    "We want to generate it."
   ]
  },
  {
   "cell_type": "markdown",
   "metadata": {},
   "source": [
    "### Parsing `C++` with libclang"
   ]
  },
  {
   "cell_type": "markdown",
   "metadata": {},
   "source": [
    "libclang has Python bindings and exposes enough of the AST that we can extract all the information we need."
   ]
  },
  {
   "cell_type": "code",
   "execution_count": 31,
   "metadata": {
    "collapsed": true
   },
   "outputs": [],
   "source": [
    "import sys\n",
    "sys.path.insert(0,'..')\n",
    "\n",
    "import ffig.clang.cindex\n",
    "\n",
    "index = ffig.clang.cindex.Index.create()\n",
    "translation_unit = index.parse(\"Tree.hpp\", ['-x', 'c++', '-std=c++14', '-I../ffig/include'])"
   ]
  },
  {
   "cell_type": "code",
   "execution_count": 32,
   "metadata": {},
   "outputs": [
    {
     "name": "stdout",
     "output_type": "stream",
     "text": [
      "Tree.hpp (TRANSLATION_UNIT)\n",
      "  +--Tree (CLASS_DECL)\n",
      "     +--left_ (FIELD_DECL)\n",
      "     |  +--std (NAMESPACE_REF)\n",
      "     |  +--unique_ptr (TEMPLATE_REF)\n",
      "     |  +--class Tree (TYPE_REF)\n",
      "     +--right_ (FIELD_DECL)\n",
      "     |  +--std (NAMESPACE_REF)\n",
      "     |  +--unique_ptr (TEMPLATE_REF)\n",
      "     |  +--class Tree (TYPE_REF)\n",
      "     +--data_ (FIELD_DECL)\n",
      "     +-- (CXX_ACCESS_SPEC_DECL)\n",
      "     +--Tree (CONSTRUCTOR)\n",
      "     |  +--children (PARM_DECL)\n",
      "     |  +-- (COMPOUND_STMT)\n",
      "     |     +-- (IF_STMT)\n",
      "     |     |  +-- (BINARY_OPERATOR)\n",
      "     |     |  |  +--children (UNEXPOSED_EXPR)\n",
      "     |     |  |  |  +--children (DECL_REF_EXPR)\n",
      "     |     |  |  +-- (INTEGER_LITERAL)\n",
      "     |     |  +-- (RETURN_STMT)\n",
      "     |     +-- (UNEXPOSED_EXPR)\n",
      "     |     |  +--operator= (CALL_EXPR)\n",
      "     |     |     +--left_ (MEMBER_REF_EXPR)\n",
      "     |     |     +--operator= (UNEXPOSED_EXPR)\n",
      "     |     |     |  +--operator= (DECL_REF_EXPR)\n",
      "     |     |     +-- (UNEXPOSED_EXPR)\n",
      "     |     |        +-- (UNEXPOSED_EXPR)\n",
      "     |     |           +--make_unique (CALL_EXPR)\n",
      "     |     |              +--make_unique (UNEXPOSED_EXPR)\n",
      "     |     |              |  +--make_unique (DECL_REF_EXPR)\n",
      "     |     |              |     +--std (NAMESPACE_REF)\n",
      "     |     |              |     +--class Tree (TYPE_REF)\n",
      "     |     |              +-- (UNEXPOSED_EXPR)\n",
      "     |     |                 +-- (BINARY_OPERATOR)\n",
      "     |     |                    +--children (UNEXPOSED_EXPR)\n",
      "     |     |                    |  +--children (DECL_REF_EXPR)\n",
      "     |     |                    +-- (INTEGER_LITERAL)\n",
      "     |     +-- (UNEXPOSED_EXPR)\n",
      "     |        +--operator= (CALL_EXPR)\n",
      "     |           +--right_ (MEMBER_REF_EXPR)\n",
      "     |           +--operator= (UNEXPOSED_EXPR)\n",
      "     |           |  +--operator= (DECL_REF_EXPR)\n",
      "     |           +-- (UNEXPOSED_EXPR)\n",
      "     |              +-- (UNEXPOSED_EXPR)\n",
      "     |                 +--make_unique (CALL_EXPR)\n",
      "     |                    +--make_unique (UNEXPOSED_EXPR)\n",
      "     |                    |  +--make_unique (DECL_REF_EXPR)\n",
      "     |                    |     +--std (NAMESPACE_REF)\n",
      "     |                    |     +--class Tree (TYPE_REF)\n",
      "     |                    +-- (UNEXPOSED_EXPR)\n",
      "     |                       +-- (BINARY_OPERATOR)\n",
      "     |                          +--children (UNEXPOSED_EXPR)\n",
      "     |                          |  +--children (DECL_REF_EXPR)\n",
      "     |                          +-- (INTEGER_LITERAL)\n",
      "     +--left (CXX_METHOD)\n",
      "     |  +--class Tree (TYPE_REF)\n",
      "     |  +-- (COMPOUND_STMT)\n",
      "     |     +-- (RETURN_STMT)\n",
      "     |        +--get (CALL_EXPR)\n",
      "     |           +--get (MEMBER_REF_EXPR)\n",
      "     |              +--left_ (UNEXPOSED_EXPR)\n",
      "     |                 +--left_ (MEMBER_REF_EXPR)\n",
      "     +--right (CXX_METHOD)\n",
      "     |  +--class Tree (TYPE_REF)\n",
      "     |  +-- (COMPOUND_STMT)\n",
      "     |     +-- (RETURN_STMT)\n",
      "     |        +--get (CALL_EXPR)\n",
      "     |           +--get (MEMBER_REF_EXPR)\n",
      "     |              +--right_ (UNEXPOSED_EXPR)\n",
      "     |                 +--right_ (MEMBER_REF_EXPR)\n",
      "     +--data (CXX_METHOD)\n",
      "     |  +-- (COMPOUND_STMT)\n",
      "     |     +-- (RETURN_STMT)\n",
      "     |        +--data_ (UNEXPOSED_EXPR)\n",
      "     |           +--data_ (MEMBER_REF_EXPR)\n",
      "     +--set_data (CXX_METHOD)\n",
      "        +--x (PARM_DECL)\n",
      "        +-- (COMPOUND_STMT)\n",
      "           +-- (BINARY_OPERATOR)\n",
      "              +--data_ (MEMBER_REF_EXPR)\n",
      "              +--x (UNEXPOSED_EXPR)\n",
      "                 +--x (DECL_REF_EXPR)\n"
     ]
    }
   ],
   "source": [
    "import asciitree\n",
    "\n",
    "def node_children(node):\n",
    "    return (c for c in node.get_children() if c.location.file.name == \"Tree.hpp\")\n",
    "\n",
    "print(asciitree.draw_tree(translation_unit.cursor,\n",
    "  lambda n: [c for c in node_children(n)],\n",
    "  lambda n: \"%s (%s)\" % (n.spelling or n.displayname, str(n.kind).split(\".\")[1])))"
   ]
  },
  {
   "cell_type": "markdown",
   "metadata": {},
   "source": [
    "---"
   ]
  },
  {
   "cell_type": "markdown",
   "metadata": {},
   "source": [
    "We create some simple classes of our own to make handling the relevant AST info easy."
   ]
  },
  {
   "cell_type": "code",
   "execution_count": 33,
   "metadata": {},
   "outputs": [],
   "source": [
    "import ffig.cppmodel\n",
    "import ffig.clang.cindex\n",
    "\n",
    "model = ffig.cppmodel.Model(translation_unit)"
   ]
  },
  {
   "cell_type": "code",
   "execution_count": 34,
   "metadata": {},
   "outputs": [
    {
     "data": {
      "text/plain": [
       "<cppmodel.Model filename=Tree.hpp, classes=['is_scalar', 'add_lvalue_reference', 'add_lvalue_reference', 'add_lvalue_reference', 'add_lvalue_reference', 'add_rvalue_reference', 'add_rvalue_reference', 'add_rvalue_reference', 'add_rvalue_reference', 'is_destructible', 'exception', 'bad_exception', 'exception_ptr', 'exception_ptr', 'nested_exception', '_opaque_pthread_attr_t', '_opaque_pthread_cond_t', '_opaque_pthread_condattr_t', '_opaque_pthread_mutex_t', '_opaque_pthread_mutexattr_t', '_opaque_pthread_once_t', '_opaque_pthread_rwlock_t', '_opaque_pthread_rwlockattr_t', '_opaque_pthread_t', 'type_info', 'bad_cast', 'bad_typeid', 'bad_alloc', 'bad_array_new_length', 'bad_array_length', 'nothrow_t', 'piecewise_construct_t', 'timespec', 'tm', 'ios_base', 'less', 'allocator_arg_t', 'input_iterator_tag', 'output_iterator_tag', 'forward_iterator_tag', 'bidirectional_iterator_tag', 'random_access_iterator_tag', 'tuple', 'atomic_flag', 'allocator', 'allocator', 'auto_ptr', 'bad_weak_ptr', 'pointer_safety', 'Tree'], functions=['swap', 'set_unexpected', 'get_unexpected', 'unexpected', 'set_terminate', 'get_terminate', 'terminate', 'uncaught_exception', 'uncaught_exceptions', 'current_exception', 'rethrow_exception', 'set_new_handler', 'get_new_handler', 'operator new', 'operator new', 'operator delete', 'operator delete', 'operator delete', 'operator new[]', 'operator new[]', 'operator delete[]', 'operator delete[]', 'operator delete[]', 'operator new', 'operator new[]', 'operator delete', 'operator delete[]', 'isascii', 'isalnum', 'isalpha', 'isblank', 'iscntrl', 'isdigit', 'isgraph', 'islower', 'isprint', 'ispunct', 'isspace', 'isupper', 'isxdigit', 'toascii', 'tolower', 'toupper', 'digittoint', 'ishexnumber', 'isideogram', 'isnumber', 'isphonogram', 'isrune', 'isspecial', 'iswalnum', 'iswalpha', 'iswcntrl', 'iswctype', 'iswdigit', 'iswgraph', 'iswlower', 'iswprint', 'iswpunct', 'iswspace', 'iswupper', 'iswxdigit', 'towlower', 'towupper', 'tuple_cat', 'strchr', 'strpbrk', 'strrchr', 'memchr', 'strstr', 'atomic_flag_test_and_set', 'atomic_flag_test_and_set', 'atomic_flag_test_and_set_explicit', 'atomic_flag_test_and_set_explicit', 'atomic_flag_clear', 'atomic_flag_clear', 'atomic_flag_clear_explicit', 'atomic_flag_clear_explicit', 'atomic_thread_fence', 'atomic_signal_fence', 'declare_reachable', 'declare_no_pointers', 'undeclare_no_pointers', 'get_pointer_safety', 'align']>"
      ]
     },
     "execution_count": 34,
     "metadata": {},
     "output_type": "execute_result"
    }
   ],
   "source": [
    "model"
   ]
  },
  {
   "cell_type": "code",
   "execution_count": 35,
   "metadata": {},
   "outputs": [
    {
     "data": {
      "text/plain": [
       "[<cppmodel.Class allocator>,\n",
       " <cppmodel.Class auto_ptr>,\n",
       " <cppmodel.Class bad_weak_ptr>,\n",
       " <cppmodel.Class pointer_safety>,\n",
       " <cppmodel.Class Tree>]"
      ]
     },
     "execution_count": 35,
     "metadata": {},
     "output_type": "execute_result"
    }
   ],
   "source": [
    "model.classes[-5:]"
   ]
  },
  {
   "cell_type": "code",
   "execution_count": 36,
   "metadata": {},
   "outputs": [
    {
     "data": {
      "text/plain": [
       "[<cppmodel.Method Tree * left()>,\n",
       " <cppmodel.Method Tree * right()>,\n",
       " <cppmodel.Method int data() const>,\n",
       " <cppmodel.Method void set_data(int)>]"
      ]
     },
     "execution_count": 36,
     "metadata": {},
     "output_type": "execute_result"
    }
   ],
   "source": [
    "model.classes[-1].methods"
   ]
  },
  {
   "cell_type": "markdown",
   "metadata": {},
   "source": [
    "---"
   ]
  },
  {
   "cell_type": "markdown",
   "metadata": {},
   "source": [
    "### Jinja2 templates"
   ]
  },
  {
   "cell_type": "markdown",
   "metadata": {},
   "source": [
    "Jinja2 is a lightweight web-templating engine used in Flask and we can use it to generate code from AST info."
   ]
  },
  {
   "cell_type": "code",
   "execution_count": 37,
   "metadata": {},
   "outputs": [
    {
     "name": "stdout",
     "output_type": "stream",
     "text": [
      "\n",
      "C++ 17 will bring us:\n",
      "\n",
      "* variant\n",
      "\n",
      "* optional\n",
      "\n",
      "* inline variables\n",
      "\n",
      "* fold-expressions\n",
      "\n",
      "* mandated-copy-elision\n",
      "\n"
     ]
    }
   ],
   "source": [
    "from jinja2 import Template\n",
    "template = Template(R\"\"\"\n",
    "C++ 17 will bring us:\n",
    "{%for feature in features%}\n",
    "* {{feature}}\n",
    "{% endfor%}\n",
    "\"\"\")\n",
    "print(template.render(\n",
    "    {'features':['variant',\n",
    "                 'optional',\n",
    "                 'inline variables',\n",
    "                 'fold-expressions',\n",
    "                 'mandated-copy-elision']}))"
   ]
  },
  {
   "cell_type": "markdown",
   "metadata": {},
   "source": [
    "---"
   ]
  },
  {
   "cell_type": "markdown",
   "metadata": {},
   "source": [
    "### Jinja2 and libclang"
   ]
  },
  {
   "cell_type": "markdown",
   "metadata": {},
   "source": [
    "We can feed the AST info to a Jinja2 template to write some code for us."
   ]
  },
  {
   "cell_type": "code",
   "execution_count": 38,
   "metadata": {
    "collapsed": true
   },
   "outputs": [],
   "source": [
    "tree_ast = model.classes[-1]"
   ]
  },
  {
   "cell_type": "code",
   "execution_count": 39,
   "metadata": {},
   "outputs": [
    {
     "name": "stdout",
     "output_type": "stream",
     "text": [
      "#ifndef   TREE_H\n",
      "#define   TREE_H\n",
      "\n",
      "struct Tree_t;\n",
      "typedef Tree_t* Tree;\n",
      "\n",
      "Tree Tree_create();\n",
      "\n",
      "Tree Tree_dispose(Tree myTree);\n",
      "\n",
      "Tree Tree_left(Tree myTree);\n",
      "\n",
      "Tree Tree_right(Tree myTree);\n",
      "\n",
      "Tree Tree_data(Tree myTree);\n",
      "\n",
      "#else  // TREE_H\n",
      "#endif // TREE_H\n",
      "\n"
     ]
    }
   ],
   "source": [
    "from jinja2 import Template\n",
    "template = Template(R\"\"\"\\\n",
    "#ifndef   {{class.name|upper}}_H\n",
    "#define   {{class.name|upper}}_H\n",
    "\n",
    "struct {{class.name}}_t;\n",
    "typedef {{class.name}}_t* {{class.name}};\n",
    "\n",
    "{{class.name}} {{class.name}}_create();\n",
    "\n",
    "{{class.name}} {{class.name}}_dispose({{class.name}} my{{class.name}});\n",
    "\n",
    "{%- for m in class.methods %}{% if not m.arguments %}\n",
    "\n",
    "{{class.name}} {{class.name}}_{{m.name}}({{class.name}} my{{class.name}});\n",
    "{%- endif %}{% endfor %}\n",
    "\n",
    "#else  // {{class.name|upper}}_H\n",
    "#endif // {{class.name|upper}}_H\n",
    "\n",
    "\"\"\")\n",
    "print(template.render({'class':tree_ast}))"
   ]
  },
  {
   "cell_type": "markdown",
   "metadata": {},
   "source": [
    "### Generating a Python API with FFIG"
   ]
  },
  {
   "cell_type": "markdown",
   "metadata": {},
   "source": [
    "FFIG can be invoked to generate bindings for us.\n",
    "\n",
    "FFIG requires that a class is annotated to create bindings for it."
   ]
  },
  {
   "cell_type": "code",
   "execution_count": 40,
   "metadata": {},
   "outputs": [
    {
     "name": "stdout",
     "output_type": "stream",
     "text": [
      "Overwriting Shape.h\n"
     ]
    }
   ],
   "source": [
    "%%file Shape.h\n",
    "#include \"ffig/attributes.h\"\n",
    "#include <stdexcept>\n",
    "#include <string>\n",
    "\n",
    "struct FFIG_EXPORT Shape {\n",
    "  virtual ~Shape() = default;\n",
    "  virtual double area() const = 0;\n",
    "  virtual double perimeter() const = 0;\n",
    "  virtual const char* name() const = 0;\n",
    "};\n",
    "\n",
    "static const double pi = 3.14159;\n",
    "\n",
    "class Circle : public Shape {\n",
    "  const double radius_;\n",
    "\n",
    "public:\n",
    "  double area() const override {\n",
    "    return pi * radius_ * radius_;\n",
    "  }\n",
    "\n",
    "  double perimeter() const override {\n",
    "    return 2 * pi * radius_;\n",
    "  }\n",
    "\n",
    "  const char* name() const override {\n",
    "    return \"Circle\";\n",
    "  }\n",
    "\n",
    "  Circle(double radius) : radius_(radius) {\n",
    "    if ( radius < 0 ) { \n",
    "      std::string s = \"Circle radius \\\"\" \n",
    "        + std::to_string(radius_) + \"\\\" must be non-negative.\";\n",
    "      throw std::runtime_error(s);\n",
    "    }\n",
    "  }\n",
    "};"
   ]
  },
  {
   "cell_type": "code",
   "execution_count": 41,
   "metadata": {},
   "outputs": [
    {
     "name": "stdout",
     "output_type": "stream",
     "text": [
      "Shape\n",
      "Shape.rb\n",
      "Shape_c.cpp\n",
      "Shape_c.h\n",
      "\n",
      "demos/ffig_output/Shape:\n",
      "__init__.py\n",
      "_py2.py\n",
      "_py3.py\n"
     ]
    }
   ],
   "source": [
    "%%sh\n",
    "cd ..\n",
    "rm -rf demos/ffig_output \n",
    "mkdir demos/ffig_output\n",
    "python -m ffig -b rb.tmpl python -m Shape -i demos/Shape.h -o demos/ffig_output\n",
    "ls -R demos/ffig_output"
   ]
  },
  {
   "cell_type": "code",
   "execution_count": 42,
   "metadata": {},
   "outputs": [
    {
     "name": "stdout",
     "output_type": "stream",
     "text": [
      "// This code was generated by FFIG <http://ffig.org>.\r\n",
      "// Manual edits will be lost.\r\n",
      "\r\n",
      "#pragma once\r\n",
      "\r\n",
      "#define Shape_RC_SUCCESS 0\r\n",
      "#define Shape_RC_FAIL 1\r\n",
      "\r\n",
      "// FIXME: Use something nicer than _MBCS to see if we are on VS\r\n",
      "#ifdef _MBCS\r\n",
      "#ifdef Shape_c_EXPORTS\r\n",
      "#define EXPORT extern \"C\" __declspec(dllexport)\r\n",
      "#else\r\n",
      "#define EXPORT extern \"C\" __declspec(dllimport)\r\n",
      "#endif\r\n",
      "#else\r\n",
      "#define EXPORT extern \"C\" __attribute__((visibility(\"default\")))\r\n",
      "#endif\r\n",
      "\r\n",
      "typedef const void* Shape_Shape;\r\n",
      "\r\n",
      "#ifdef __cplusplus\r\n",
      "extern \"C\"\r\n",
      "{\r\n",
      "#endif\r\n",
      "EXPORT void Shape_clear_error();\r\n",
      "\r\n",
      "EXPORT const char* Shape_error();\r\n",
      "\r\n",
      "EXPORT void Shape_Shape_dispose(Shape_Shape myShape);\r\n",
      "\r\n",
      "\r\n",
      "EXPORT int Shape_Shape_area(\r\n",
      "    Shape_Shape myShape,\r\n",
      "        double* rv);\r\n",
      "\r\n",
      "EXPORT int Shape_Shape_perimeter(\r\n",
      "    Shape_Shape myShape,\r\n",
      "        double* rv);\r\n",
      "\r\n",
      "EXPORT int Shape_Shape_name(\r\n",
      "    Shape_Shape myShape,\r\n",
      "        const char** rv);\r\n",
      "\r\n",
      "\r\n",
      "EXPORT int Shape_Circle_create(\r\n",
      "    double radius,\r\n",
      "    Shape_Shape* rv);\r\n",
      "#ifdef __cplusplus\r\n",
      "}\r\n",
      "#endif"
     ]
    }
   ],
   "source": [
    "%cat ffig_output/Shape_c.h"
   ]
  },
  {
   "cell_type": "code",
   "execution_count": 43,
   "metadata": {
    "collapsed": true
   },
   "outputs": [],
   "source": [
    "%%sh\n",
    "cd ../\n",
    "python -m ffig -b rb.tmpl python -m Shape -i demos/Shape.h -o demos"
   ]
  },
  {
   "cell_type": "code",
   "execution_count": 44,
   "metadata": {},
   "outputs": [
    {
     "name": "stdout",
     "output_type": "stream",
     "text": [
      "Overwriting CMakeLists.txt\n"
     ]
    }
   ],
   "source": [
    "%%file CMakeLists.txt\n",
    "\n",
    "cmake_minimum_required(VERSION 3.0)\n",
    "set(CMAKE_CXX_STANDARD 14)\n",
    "\n",
    "include_directories(../ffig/include)\n",
    "add_compile_options(-fvisibility=hidden)\n",
    "add_library(Shape_c SHARED Shape_c.cpp)"
   ]
  },
  {
   "cell_type": "code",
   "execution_count": 45,
   "metadata": {},
   "outputs": [
    {
     "name": "stdout",
     "output_type": "stream",
     "text": [
      "-- The C compiler identification is AppleClang 8.1.0.8020042\n",
      "-- The CXX compiler identification is AppleClang 8.1.0.8020042\n",
      "-- Check for working C compiler: /Applications/Xcode.app/Contents/Developer/Toolchains/XcodeDefault.xctoolchain/usr/bin/cc\n",
      "-- Check for working C compiler: /Applications/Xcode.app/Contents/Developer/Toolchains/XcodeDefault.xctoolchain/usr/bin/cc -- works\n",
      "-- Detecting C compiler ABI info\n",
      "-- Detecting C compiler ABI info - done\n",
      "-- Detecting C compile features\n",
      "-- Detecting C compile features - done\n",
      "-- Check for working CXX compiler: /Applications/Xcode.app/Contents/Developer/Toolchains/XcodeDefault.xctoolchain/usr/bin/c++\n",
      "-- Check for working CXX compiler: /Applications/Xcode.app/Contents/Developer/Toolchains/XcodeDefault.xctoolchain/usr/bin/c++ -- works\n",
      "-- Detecting CXX compiler ABI info\n",
      "-- Detecting CXX compiler ABI info - done\n",
      "-- Detecting CXX compile features\n",
      "-- Detecting CXX compile features - done\n",
      "-- Configuring done\n",
      "-- Generating done\n",
      "-- Build files have been written to: /Users/jon/DEV/FFIG/demos\n",
      "[1/2] Building CXX object CMakeFiles/Shape_c.dir/Shape_c.cpp.o\n",
      "[2/2] Linking CXX shared library libShape_c.dylib\n"
     ]
    }
   ],
   "source": [
    "%%sh\n",
    "rm -rf CMakeFiles/\n",
    "rm CMakeCache.txt\n",
    "\n",
    "cmake . -GNinja\n",
    "cmake --build .\n",
    "strip -x libShape_c.dylib"
   ]
  },
  {
   "cell_type": "code",
   "execution_count": 47,
   "metadata": {},
   "outputs": [
    {
     "name": "stdout",
     "output_type": "stream",
     "text": [
      "A Circle with radius 8 has area 78.53975\n"
     ]
    }
   ],
   "source": [
    "import Shape\n",
    "\n",
    "c = Shape.Circle(5)\n",
    "\n",
    "print(\"A {} with radius {} has area {}\".format(c.name(), 8, c.area()))"
   ]
  },
  {
   "cell_type": "code",
   "execution_count": 48,
   "metadata": {},
   "outputs": [
    {
     "name": "stdout",
     "output_type": "stream",
     "text": [
      "A Circle with radius 8 has area 201.06176\n"
     ]
    }
   ],
   "source": [
    "%%script /opt/intel/intelpython27/bin/python\n",
    "\n",
    "import Shape\n",
    "Shape.Config.set_library_path(\".\")\n",
    "c = Shape.Circle(8)\n",
    "\n",
    "print(\"A {} with radius {} has area {}\".format(c.name(), 8, c.area()))"
   ]
  },
  {
   "cell_type": "code",
   "execution_count": 49,
   "metadata": {},
   "outputs": [
    {
     "ename": "Shape_error",
     "evalue": "Circle radius \"-5.000000\" must be non-negative.",
     "output_type": "error",
     "traceback": [
      "\u001b[0;31m---------------------------------------------------------------------------\u001b[0m",
      "\u001b[0;31mShape_error\u001b[0m                               Traceback (most recent call last)",
      "\u001b[0;32m<ipython-input-49-750d55e859ab>\u001b[0m in \u001b[0;36m<module>\u001b[0;34m()\u001b[0m\n\u001b[0;32m----> 1\u001b[0;31m \u001b[0mShape\u001b[0m\u001b[0;34m.\u001b[0m\u001b[0mCircle\u001b[0m\u001b[0;34m(\u001b[0m\u001b[0;34m-\u001b[0m\u001b[0;36m5\u001b[0m\u001b[0;34m)\u001b[0m\u001b[0;34m\u001b[0m\u001b[0m\n\u001b[0m",
      "\u001b[0;32m~/DEV/FFIG/demos/Shape/_py3.py\u001b[0m in \u001b[0;36m__init__\u001b[0;34m(self, radius, _p)\u001b[0m\n\u001b[1;32m     79\u001b[0m       \u001b[0mrc\u001b[0m \u001b[0;34m=\u001b[0m \u001b[0mconf\u001b[0m\u001b[0;34m.\u001b[0m\u001b[0mlib\u001b[0m\u001b[0;34m.\u001b[0m\u001b[0mShape_Circle_create\u001b[0m\u001b[0;34m(\u001b[0m\u001b[0mradius\u001b[0m\u001b[0;34m,\u001b[0m \u001b[0mbyref\u001b[0m\u001b[0;34m(\u001b[0m\u001b[0mself\u001b[0m\u001b[0;34m.\u001b[0m\u001b[0mptr\u001b[0m\u001b[0;34m)\u001b[0m\u001b[0;34m)\u001b[0m\u001b[0;34m\u001b[0m\u001b[0m\n\u001b[1;32m     80\u001b[0m       \u001b[0;32mif\u001b[0m \u001b[0mrc\u001b[0m \u001b[0;34m!=\u001b[0m \u001b[0;36m0\u001b[0m\u001b[0;34m:\u001b[0m\u001b[0;34m\u001b[0m\u001b[0m\n\u001b[0;32m---> 81\u001b[0;31m         \u001b[0;32mraise\u001b[0m \u001b[0mShape_error\u001b[0m\u001b[0;34m(\u001b[0m\u001b[0;34m)\u001b[0m\u001b[0;34m\u001b[0m\u001b[0m\n\u001b[0m\u001b[1;32m     82\u001b[0m \u001b[0;34m\u001b[0m\u001b[0m\n\u001b[1;32m     83\u001b[0m \u001b[0;34m\u001b[0m\u001b[0m\n",
      "\u001b[0;31mShape_error\u001b[0m: Circle radius \"-5.000000\" must be non-negative."
     ]
    }
   ],
   "source": [
    "Shape.Circle(-5)"
   ]
  },
  {
   "cell_type": "code",
   "execution_count": 51,
   "metadata": {},
   "outputs": [
    {
     "name": "stdout",
     "output_type": "stream",
     "text": [
      "A Circle with radius 8 has area 201.06176\n"
     ]
    }
   ],
   "source": [
    "%%ruby\n",
    "load \"Shape.rb\"\n",
    "c = Circle.new(8)\n",
    "\n",
    "puts(\"A #{c.name()} with radius #{8} has area #{c.area()}\")"
   ]
  },
  {
   "cell_type": "markdown",
   "metadata": {},
   "source": [
    "## FFIG needs you!\n",
    "\n",
    "FFIG is MIT-licensed and hosted on GitHub.\n",
    "\n",
    "We'd _really_ like input on:\n",
    "\n",
    "* Support for returning non-primitives by value\n",
    "* Support for standard library types\n",
    "* Generating boost::python bindings\n",
    "\n",
    "Other issues are on: https://github.com/FFIG/ffig/issues\n",
    "\n",
    "Our policy for PRs is to approve things that are tested and do not break existing code. \n",
    "\n",
    "No change is too small!"
   ]
  }
 ],
 "metadata": {
  "kernelspec": {
   "display_name": "Python 3",
   "language": "python",
   "name": "python3"
  },
  "language_info": {
   "codemirror_mode": {
    "name": "ipython",
    "version": 3
   },
   "file_extension": ".py",
   "mimetype": "text/x-python",
   "name": "python",
   "nbconvert_exporter": "python",
   "pygments_lexer": "ipython3",
   "version": "3.6.2"
  }
 },
 "nbformat": 4,
 "nbformat_minor": 2
}
