{
 "cells": [
  {
   "cell_type": "markdown",
   "metadata": {
    "slideshow": {
     "slide_type": "slide"
    }
   },
   "source": [
    "# PyData London 2017\n",
    "\n",
    "# Foreign Function Interface Generator: Generating Python bindings from C++\n",
    "\n",
    "### Jonathan B Coe\n",
    "### jbcoe@ffig.org\n",
    "\n",
    "## https://github.com/ffig/ffig"
   ]
  },
  {
   "cell_type": "markdown",
   "metadata": {},
   "source": [
    "We want to run C++ code in Python without doing any extra work."
   ]
  },
  {
   "cell_type": "markdown",
   "metadata": {},
   "source": [
    "## Gathering Input"
   ]
  },
  {
   "cell_type": "markdown",
   "metadata": {
    "slideshow": {
     "slide_type": "slide"
    }
   },
   "source": [
    "Write a C++ class out to a file in the current working directory"
   ]
  },
  {
   "cell_type": "code",
   "execution_count": 1,
   "metadata": {
    "collapsed": true,
    "slideshow": {
     "slide_type": "fragment"
    }
   },
   "outputs": [],
   "source": [
    "outputfile = \"Shape.h\""
   ]
  },
  {
   "cell_type": "code",
   "execution_count": 2,
   "metadata": {
    "slideshow": {
     "slide_type": "fragment"
    }
   },
   "outputs": [
    {
     "name": "stdout",
     "output_type": "stream",
     "text": [
      "Overwriting Shape.h\n"
     ]
    }
   ],
   "source": [
    "%%file $outputfile\n",
    "\n",
    "#include \"ffig/attributes.h\"\n",
    "#include <stdexcept>\n",
    "#include <string>\n",
    "\n",
    "struct FFIG_EXPORT Shape\n",
    "{\n",
    "  virtual ~Shape() = default;\n",
    "  virtual double area() const = 0;\n",
    "  virtual double perimeter() const = 0;\n",
    "  virtual const char* name() const = 0;\n",
    "};\n",
    "\n",
    "static const double pi = 3.14159;\n",
    "\n",
    "class Circle : public Shape\n",
    "{\n",
    "  const double radius_;\n",
    "\n",
    "public:\n",
    "  double area() const override\n",
    "  {\n",
    "    return pi * radius_ * radius_;\n",
    "  }\n",
    "\n",
    "  double perimeter() const override\n",
    "  {\n",
    "    return 2 * pi * radius_;\n",
    "  }\n",
    "\n",
    "  const char* name() const override\n",
    "  {\n",
    "    return \"Circle\";\n",
    "  }\n",
    "\n",
    "  Circle(double radius) : radius_(radius)\n",
    "  {\n",
    "    if ( radius < 0 ) \n",
    "    { \n",
    "      std::string s = \"Circle radius \\\"\" + std::to_string(radius_) + \"\\\" must be non-negative.\";\n",
    "      throw std::runtime_error(s);\n",
    "    }\n",
    "  }\n",
    "};"
   ]
  },
  {
   "cell_type": "markdown",
   "metadata": {
    "slideshow": {
     "slide_type": "slide"
    }
   },
   "source": [
    "Compile our header to check it's valid C++"
   ]
  },
  {
   "cell_type": "code",
   "execution_count": 3,
   "metadata": {
    "slideshow": {
     "slide_type": "fragment"
    }
   },
   "outputs": [],
   "source": [
    "%%sh\n",
    "clang++ -x c++ -fsyntax-only -std=c++14 -I../ffig/include Shape.h "
   ]
  },
  {
   "cell_type": "markdown",
   "metadata": {
    "slideshow": {
     "slide_type": "slide"
    }
   },
   "source": [
    "Read the code using libclang"
   ]
  },
  {
   "cell_type": "code",
   "execution_count": 4,
   "metadata": {
    "collapsed": true
   },
   "outputs": [],
   "source": [
    "import sys\n",
    "sys.path.insert(0,'../ffig')\n",
    "sys.path.insert(0,'..')"
   ]
  },
  {
   "cell_type": "code",
   "execution_count": 5,
   "metadata": {
    "collapsed": true,
    "slideshow": {
     "slide_type": "fragment"
    }
   },
   "outputs": [],
   "source": [
    "import ffig.clang.cindex\n",
    "\n",
    "index = ffig.clang.cindex.Index.create()\n",
    "translation_unit = index.parse(outputfile, ['-x', 'c++', '-std=c++14', '-I../ffig/include'])"
   ]
  },
  {
   "cell_type": "code",
   "execution_count": 6,
   "metadata": {
    "slideshow": {
     "slide_type": "fragment"
    }
   },
   "outputs": [
    {
     "name": "stdout",
     "output_type": "stream",
     "text": [
      "Shape.h (TRANSLATION_UNIT)\n",
      "  +--Shape (STRUCT_DECL)\n",
      "  |  +--GENERATE_C_API (ANNOTATE_ATTR)\n",
      "  |  +--~Shape (DESTRUCTOR)\n",
      "  |  |  +-- (COMPOUND_STMT)\n",
      "  |  +--area (CXX_METHOD)\n",
      "  |  +--perimeter (CXX_METHOD)\n",
      "  |  +--name (CXX_METHOD)\n",
      "  +--pi (VAR_DECL)\n",
      "  |  +-- (FLOATING_LITERAL)\n",
      "  +--Circle (CLASS_DECL)\n",
      "     +--struct Shape (CXX_BASE_SPECIFIER)\n",
      "     |  +--struct Shape (TYPE_REF)\n",
      "     +--radius_ (FIELD_DECL)\n",
      "     +-- (CXX_ACCESS_SPEC_DECL)\n",
      "     +--area (CXX_METHOD)\n",
      "     |  +-- (CXX_OVERRIDE_ATTR)\n",
      "     |  +-- (COMPOUND_STMT)\n",
      "     |     +-- (RETURN_STMT)\n",
      "     |        +-- (BINARY_OPERATOR)\n",
      "     |           +-- (BINARY_OPERATOR)\n",
      "     |           |  +--pi (UNEXPOSED_EXPR)\n",
      "     |           |  |  +--pi (DECL_REF_EXPR)\n",
      "     |           |  +--radius_ (UNEXPOSED_EXPR)\n",
      "     |           |     +--radius_ (MEMBER_REF_EXPR)\n",
      "     |           +--radius_ (UNEXPOSED_EXPR)\n",
      "     |              +--radius_ (MEMBER_REF_EXPR)\n",
      "     +--perimeter (CXX_METHOD)\n",
      "     |  +-- (CXX_OVERRIDE_ATTR)\n",
      "     |  +-- (COMPOUND_STMT)\n",
      "     |     +-- (RETURN_STMT)\n",
      "     |        +-- (BINARY_OPERATOR)\n",
      "     |           +-- (BINARY_OPERATOR)\n",
      "     |           |  +-- (UNEXPOSED_EXPR)\n",
      "     |           |  |  +-- (INTEGER_LITERAL)\n",
      "     |           |  +--pi (UNEXPOSED_EXPR)\n",
      "     |           |     +--pi (DECL_REF_EXPR)\n",
      "     |           +--radius_ (UNEXPOSED_EXPR)\n",
      "     |              +--radius_ (MEMBER_REF_EXPR)\n",
      "     +--name (CXX_METHOD)\n",
      "     |  +-- (CXX_OVERRIDE_ATTR)\n",
      "     |  +-- (COMPOUND_STMT)\n",
      "     |     +-- (RETURN_STMT)\n",
      "     |        +-- (UNEXPOSED_EXPR)\n",
      "     |           +--\"Circle\" (STRING_LITERAL)\n",
      "     +--Circle (CONSTRUCTOR)\n",
      "        +--radius (PARM_DECL)\n",
      "        +--radius_ (MEMBER_REF)\n",
      "        +--radius (UNEXPOSED_EXPR)\n",
      "        |  +--radius (DECL_REF_EXPR)\n",
      "        +-- (COMPOUND_STMT)\n",
      "           +-- (IF_STMT)\n",
      "              +-- (BINARY_OPERATOR)\n",
      "              |  +--radius (UNEXPOSED_EXPR)\n",
      "              |  |  +--radius (DECL_REF_EXPR)\n",
      "              |  +-- (UNEXPOSED_EXPR)\n",
      "              |     +-- (INTEGER_LITERAL)\n",
      "              +-- (COMPOUND_STMT)\n",
      "                 +-- (DECL_STMT)\n",
      "                 |  +--s (VAR_DECL)\n",
      "                 |     +--std (NAMESPACE_REF)\n",
      "                 |     +--string (TYPE_REF)\n",
      "                 |     +-- (UNEXPOSED_EXPR)\n",
      "                 |        +-- (CALL_EXPR)\n",
      "                 |           +-- (UNEXPOSED_EXPR)\n",
      "                 |              +-- (UNEXPOSED_EXPR)\n",
      "                 |                 +--operator+ (CALL_EXPR)\n",
      "                 |                    +-- (UNEXPOSED_EXPR)\n",
      "                 |                    |  +-- (UNEXPOSED_EXPR)\n",
      "                 |                    |     +--operator+ (CALL_EXPR)\n",
      "                 |                    |        +-- (UNEXPOSED_EXPR)\n",
      "                 |                    |        |  +--\"Circle radius \\\"\" (STRING_LITERAL)\n",
      "                 |                    |        +--operator+ (UNEXPOSED_EXPR)\n",
      "                 |                    |        |  +--operator+ (DECL_REF_EXPR)\n",
      "                 |                    |        +-- (UNEXPOSED_EXPR)\n",
      "                 |                    |           +-- (UNEXPOSED_EXPR)\n",
      "                 |                    |              +--to_string (CALL_EXPR)\n",
      "                 |                    |                 +--to_string (UNEXPOSED_EXPR)\n",
      "                 |                    |                 |  +--to_string (DECL_REF_EXPR)\n",
      "                 |                    |                 |     +--std (NAMESPACE_REF)\n",
      "                 |                    |                 +--radius_ (UNEXPOSED_EXPR)\n",
      "                 |                    |                    +--radius_ (MEMBER_REF_EXPR)\n",
      "                 |                    +--operator+ (UNEXPOSED_EXPR)\n",
      "                 |                    |  +--operator+ (DECL_REF_EXPR)\n",
      "                 |                    +-- (UNEXPOSED_EXPR)\n",
      "                 |                       +--\"\\\" must be non-negative.\" (STRING_LITERAL)\n",
      "                 +-- (UNEXPOSED_EXPR)\n",
      "                    +-- (CXX_THROW_EXPR)\n",
      "                       +-- (CALL_EXPR)\n",
      "                          +-- (UNEXPOSED_EXPR)\n",
      "                             +-- (UNEXPOSED_EXPR)\n",
      "                                +-- (CXX_FUNCTIONAL_CAST_EXPR)\n",
      "                                   +--std (NAMESPACE_REF)\n",
      "                                   +--class std::runtime_error (TYPE_REF)\n",
      "                                   +-- (UNEXPOSED_EXPR)\n",
      "                                      +--runtime_error (CALL_EXPR)\n",
      "                                         +--s (UNEXPOSED_EXPR)\n",
      "                                            +--s (DECL_REF_EXPR)\n"
     ]
    }
   ],
   "source": [
    "import asciitree\n",
    "\n",
    "def node_children(node):\n",
    "    return (c for c in node.get_children() if c.location.file.name == outputfile)\n",
    "\n",
    "print(asciitree.draw_tree(translation_unit.cursor,\n",
    "  lambda n: [c for c in node_children(n)],\n",
    "  lambda n: \"%s (%s)\" % (n.spelling or n.displayname, str(n.kind).split(\".\")[1])))\n"
   ]
  },
  {
   "cell_type": "markdown",
   "metadata": {
    "slideshow": {
     "slide_type": "slide"
    }
   },
   "source": [
    "Turn the AST into some easy to manipulate Python classes"
   ]
  },
  {
   "cell_type": "code",
   "execution_count": 7,
   "metadata": {
    "collapsed": true,
    "slideshow": {
     "slide_type": "fragment"
    }
   },
   "outputs": [],
   "source": [
    "import ffig.cppmodel\n",
    "import ffig.clang.cindex"
   ]
  },
  {
   "cell_type": "code",
   "execution_count": 8,
   "metadata": {
    "collapsed": true,
    "slideshow": {
     "slide_type": "fragment"
    }
   },
   "outputs": [],
   "source": [
    "model = ffig.cppmodel.Model(translation_unit=translation_unit, force_noexcept=False)"
   ]
  },
  {
   "cell_type": "code",
   "execution_count": 9,
   "metadata": {
    "slideshow": {
     "slide_type": "fragment"
    }
   },
   "outputs": [
    {
     "data": {
      "text/plain": [
       "['to_wstring', 'operator\"\"s', 'operator\"\"s', 'operator\"\"s', 'operator\"\"s']"
      ]
     },
     "execution_count": 9,
     "metadata": {},
     "output_type": "execute_result"
    }
   ],
   "source": [
    "[f.name for f in model.functions][-5:]"
   ]
  },
  {
   "cell_type": "code",
   "execution_count": 10,
   "metadata": {
    "slideshow": {
     "slide_type": "fragment"
    }
   },
   "outputs": [
    {
     "data": {
      "text/plain": [
       "['__basic_string_common', 'basic_string', 'basic_string', 'Shape', 'Circle']"
      ]
     },
     "execution_count": 10,
     "metadata": {},
     "output_type": "execute_result"
    }
   ],
   "source": [
    "[c.name for c in model.classes][-5:]"
   ]
  },
  {
   "cell_type": "code",
   "execution_count": 11,
   "metadata": {
    "collapsed": true,
    "slideshow": {
     "slide_type": "fragment"
    }
   },
   "outputs": [],
   "source": [
    "shape_class = [c for c in model.classes if c.name=='Shape'][0]"
   ]
  },
  {
   "cell_type": "code",
   "execution_count": 12,
   "metadata": {
    "slideshow": {
     "slide_type": "fragment"
    }
   },
   "outputs": [
    {
     "data": {
      "text/plain": [
       "['Shape::area', 'Shape::perimeter', 'Shape::name']"
      ]
     },
     "execution_count": 12,
     "metadata": {},
     "output_type": "execute_result"
    }
   ],
   "source": [
    "[\"{}::{}\".format(shape_class.name,m.name) for m in shape_class.methods]"
   ]
  },
  {
   "cell_type": "markdown",
   "metadata": {},
   "source": [
    "## Code Generation"
   ]
  },
  {
   "cell_type": "markdown",
   "metadata": {},
   "source": [
    "We now have some input to use in a code generator."
   ]
  },
  {
   "cell_type": "markdown",
   "metadata": {
    "slideshow": {
     "slide_type": "slide"
    }
   },
   "source": [
    "Look at the templates the generator uses"
   ]
  },
  {
   "cell_type": "code",
   "execution_count": 13,
   "metadata": {
    "slideshow": {
     "slide_type": "fragment"
    }
   },
   "outputs": [
    {
     "name": "stdout",
     "output_type": "stream",
     "text": [
      "{\r\n",
      "  \"name\" : \"{{class.name}}\"{% if class.methods %},\r\n",
      "  \"methods\" : [{% for method in class.methods %}\r\n",
      "    {\r\n",
      "      \"name\" : \"{{method.name}}\",\r\n",
      "      \"return_type\" : \"{{method.return_type}}\"\r\n",
      "    }{% if not loop.last %},{% endif %}{% endfor %}\r\n",
      "  ]{% endif %}\r\n",
      "}\r\n"
     ]
    }
   ],
   "source": [
    "%cat ../ffig/templates/json.tmpl"
   ]
  },
  {
   "cell_type": "markdown",
   "metadata": {
    "slideshow": {
     "slide_type": "slide"
    }
   },
   "source": [
    "Run the code generator"
   ]
  },
  {
   "cell_type": "code",
   "execution_count": 14,
   "metadata": {
    "collapsed": true,
    "slideshow": {
     "slide_type": "fragment"
    }
   },
   "outputs": [],
   "source": [
    "%%sh\n",
    "cd ../\n",
    "python -m ffig -b _c.h.tmpl _c.cpp.tmpl json.tmpl python -m Shape -i demos/Shape.h -o demos"
   ]
  },
  {
   "cell_type": "markdown",
   "metadata": {
    "slideshow": {
     "slide_type": "fragment"
    }
   },
   "source": [
    "See what it created"
   ]
  },
  {
   "cell_type": "code",
   "execution_count": 15,
   "metadata": {
    "slideshow": {
     "slide_type": "fragment"
    }
   },
   "outputs": [
    {
     "name": "stdout",
     "output_type": "stream",
     "text": [
      "CMakeCache.txt              Shape.h\r\n",
      "\u001b[34mCMakeFiles\u001b[m\u001b[m/                 Shape.json\r\n",
      "CMakeLists.txt              Shape_c.cpp\r\n",
      "LLVM-Cauldron.ipynb.broken  Shape_c.h\r\n",
      "Makefile                    cmake_install.cmake\r\n",
      "PyDataLondon-2017.ipynb     \u001b[31mlibShape_c.dylib\u001b[m\u001b[m*\r\n",
      "\u001b[34mShape\u001b[m\u001b[m/\r\n"
     ]
    }
   ],
   "source": [
    "%ls"
   ]
  },
  {
   "cell_type": "code",
   "execution_count": 16,
   "metadata": {
    "slideshow": {
     "slide_type": "slide"
    }
   },
   "outputs": [
    {
     "name": "stdout",
     "output_type": "stream",
     "text": [
      "{\r\n",
      "  \"name\" : \"Shape\",\r\n",
      "  \"methods\" : [\r\n",
      "    {\r\n",
      "      \"name\" : \"area\",\r\n",
      "      \"return_type\" : \"double\"\r\n",
      "    },\r\n",
      "    {\r\n",
      "      \"name\" : \"perimeter\",\r\n",
      "      \"return_type\" : \"double\"\r\n",
      "    },\r\n",
      "    {\r\n",
      "      \"name\" : \"name\",\r\n",
      "      \"return_type\" : \"const char *\"\r\n",
      "    }\r\n",
      "  ]\r\n",
      "}"
     ]
    }
   ],
   "source": [
    "%cat Shape.json"
   ]
  },
  {
   "cell_type": "markdown",
   "metadata": {
    "slideshow": {
     "slide_type": "slide"
    }
   },
   "source": [
    "Build some bindings with the generated code."
   ]
  },
  {
   "cell_type": "code",
   "execution_count": 17,
   "metadata": {
    "slideshow": {
     "slide_type": "fragment"
    }
   },
   "outputs": [
    {
     "name": "stdout",
     "output_type": "stream",
     "text": [
      "Overwriting CMakeLists.txt\n"
     ]
    }
   ],
   "source": [
    "%%file CMakeLists.txt\n",
    "\n",
    "cmake_minimum_required(VERSION 3.0)\n",
    "set(CMAKE_CXX_STANDARD 14)\n",
    "\n",
    "include_directories(../ffig/include)\n",
    "\n",
    "add_library(Shape_c SHARED Shape_c.cpp)"
   ]
  },
  {
   "cell_type": "code",
   "execution_count": 18,
   "metadata": {
    "slideshow": {
     "slide_type": "fragment"
    }
   },
   "outputs": [
    {
     "name": "stdout",
     "output_type": "stream",
     "text": [
      "-- Configuring done\n",
      "-- Generating done\n",
      "-- Build files have been written to: /Users/jon/DEV/FFIG/demos\n",
      "Scanning dependencies of target Shape_c\n",
      "[ 50%] Building CXX object CMakeFiles/Shape_c.dir/Shape_c.cpp.o\n",
      "[100%] Linking CXX shared library libShape_c.dylib\n",
      "[100%] Built target Shape_c\n"
     ]
    }
   ],
   "source": [
    "%%sh\n",
    "cmake . \n",
    "cmake --build ."
   ]
  },
  {
   "cell_type": "code",
   "execution_count": 19,
   "metadata": {},
   "outputs": [
    {
     "name": "stdout",
     "output_type": "stream",
     "text": [
      "0000000000003cf0 short GCC_except_table10\n",
      "0000000000003d7c short GCC_except_table15\n",
      "0000000000003ddc short GCC_except_table26\n",
      "0000000000003bd0 short GCC_except_table6\n",
      "0000000000003c30 short GCC_except_table8\n",
      "0000000000003c90 short GCC_except_table9\n",
      "00000000000025e0 T _Shape_Circle_create\n",
      "00000000000022d0 T _Shape_Shape_area\n",
      "0000000000002270 T _Shape_Shape_dispose\n",
      "00000000000024e0 T _Shape_Shape_name\n",
      "00000000000023e0 T _Shape_Shape_perimeter\n",
      "0000000000002020 T _Shape_clear_error\n",
      "00000000000021a0 T _Shape_error\n",
      "0000000000004108 short Shape_error_\n",
      "0000000000004248 short __ZL12Shape_error_$tlv$init\n",
      "0000000000002f50 unsigned short Shape::Shape()\n",
      "0000000000003050 unsigned short Shape::~Shape()\n",
      "0000000000003030 unsigned short Shape::~Shape()\n",
      "0000000000002f70 unsigned short Shape::~Shape()\n",
      "0000000000002b80 unsigned short Circle::Circle(double)\n",
      "0000000000002bb0 unsigned short Circle::Circle(double)\n",
      "0000000000002fa0 unsigned short Circle::~Circle()\n",
      "0000000000002f80 unsigned short Circle::~Circle()\n",
      "0000000000003030 unsigned short Circle::~Circle()\n",
      "0000000000002fd0 unsigned short Circle::area() const\n",
      "0000000000003010 unsigned short Circle::name() const\n",
      "0000000000002ff0 unsigned short Circle::perimeter() const\n",
      "0000000000003810 unsigned short std::__1::__shared_ptr_pointer<Circle const*, std::__1::default_delete<Circle const>, std::__1::allocator<Circle const> >::__get_deleter(std::type_info const&) const\n",
      "00000000000022b0 unsigned short std::__1::shared_ptr<Shape>::~shared_ptr()\n",
      "0000000000002b40 unsigned short std::__1::shared_ptr<Shape>::~shared_ptr()\n",
      "0000000000002af0 unsigned short std::__1::shared_ptr<Shape const>::shared_ptr<Circle const>(Circle const*, std::__1::enable_if<is_convertible<Circle const*, Shape const*>::value, std::__1::shared_ptr<Shape const>::__nat>::type)\n",
      "0000000000003080 unsigned short std::__1::shared_ptr<Shape const>::shared_ptr<Circle const>(Circle const*, std::__1::enable_if<is_convertible<Circle const*, Shape const*>::value, std::__1::shared_ptr<Shape const>::__nat>::type)\n",
      "0000000000002b20 T std::__1::char_traits<char>::assign(char&, char const&)\n",
      "0000000000003740 unsigned short std::__1::__shared_ptr_pointer<Circle const*, std::__1::default_delete<Circle const>, std::__1::allocator<Circle const> >::__on_zero_shared()\n",
      "00000000000038a0 unsigned short std::__1::__shared_ptr_pointer<Circle const*, std::__1::default_delete<Circle const>, std::__1::allocator<Circle const> >::__on_zero_shared_weak()\n",
      "0000000000003710 unsigned short std::__1::__shared_ptr_pointer<Circle const*, std::__1::default_delete<Circle const>, std::__1::allocator<Circle const> >::~__shared_ptr_pointer()\n",
      "00000000000036f0 unsigned short std::__1::__shared_ptr_pointer<Circle const*, std::__1::default_delete<Circle const>, std::__1::allocator<Circle const> >::~__shared_ptr_pointer()\n",
      "0000000000003940 unsigned short std::__1::__shared_ptr_pointer<Circle const*, std::__1::default_delete<Circle const>, std::__1::allocator<Circle const> >::~__shared_ptr_pointer()\n",
      "0000000000003960 unsigned short __ZTHL12Shape_error_\n",
      "0000000000004178 D typeinfo for Shape\n",
      "0000000000004190 D typeinfo for Circle\n",
      "0000000000004238 D typeinfo for std::__1::default_delete<Circle const>\n",
      "0000000000004220 D typeinfo for std::__1::__shared_ptr_pointer<Circle const*, std::__1::default_delete<Circle const>, std::__1::allocator<Circle const> >\n",
      "0000000000003e18 S typeinfo name for Shape\n",
      "0000000000003e10 S typeinfo name for Circle\n",
      "0000000000003e80 S typeinfo name for std::__1::default_delete<Circle const>\n",
      "0000000000003e20 S typeinfo name for std::__1::__shared_ptr_pointer<Circle const*, std::__1::default_delete<Circle const>, std::__1::allocator<Circle const> >\n",
      "00000000000041a8 double vtable for Shape\n",
      "0000000000004140 double vtable for Circle\n",
      "00000000000041e0 double vtable for std::__1::__shared_ptr_pointer<Circle const*, std::__1::default_delete<Circle const>, std::__1::allocator<Circle const> >\n",
      "0000000000002180 unsigned short __ZTWL12Shape_error_\n",
      "00000000000023d0 unsigned short ___clang_call_terminate\n",
      "00000000000039b0 unsigned short ___cxx_global_var_init\n",
      "0000000000004120 short ___tls_guard\n",
      "0000000000004260 short ___tls_guard$tlv$init\n",
      "0000000000003960 unsigned short ___tls_init\n"
     ]
    }
   ],
   "source": [
    "%%sh\n",
    "nm -U libShape_c.dylib | c++filt"
   ]
  },
  {
   "cell_type": "code",
   "execution_count": 20,
   "metadata": {
    "scrolled": false
   },
   "outputs": [
    {
     "name": "stdout",
     "output_type": "stream",
     "text": [
      "# This code was generated by FFIG <http://ffig.org>.\r\n",
      "# Manual edits will be lost.\r\n",
      "\r\n",
      "import os\r\n",
      "from ctypes import *\r\n",
      "c_object_p = POINTER(c_void_p)\r\n",
      "\r\n",
      "class c_interop_string(c_char_p):\r\n",
      "\r\n",
      "  def __init__(self, p=None):\r\n",
      "    if p is None:\r\n",
      "      p = \"\"\r\n",
      "    if isinstance(p, str):\r\n",
      "      p = p.encode(\"utf8\")\r\n",
      "    super(c_char_p, self).__init__(p)\r\n",
      "\r\n",
      "  def __str__(self):\r\n",
      "    return self.value\r\n",
      "\r\n",
      "  @property\r\n",
      "  def value(self):\r\n",
      "    if super(c_char_p, self).value is None:\r\n",
      "      return None\r\n",
      "    return super(c_char_p, self).value.decode(\"utf8\")\r\n",
      "\r\n",
      "  @classmethod\r\n",
      "  def from_param(cls, param):\r\n",
      "    if isinstance(param, str):\r\n",
      "      return cls(param)\r\n",
      "    if isinstance(param, bytes):\r\n",
      "      return cls(param)\r\n",
      "    raise TypeError(\"Cannot convert '{}' to '{}'\".format(type(param).__name__, cls.__name__))\r\n",
      "\r\n",
      "  @staticmethod\r\n",
      "  def to_python_string(x, *args):\r\n",
      "    return x.value\r\n",
      "\r\n",
      "\r\n",
      "class Shape_error(Exception):\r\n",
      "    def __init__(self):\r\n",
      "        self.value = conf.lib.Shape_error()\r\n",
      "        conf.lib.Shape_clear_error()\r\n",
      "\r\n",
      "    def __str__(self):\r\n",
      "        return self.value\r\n",
      "\r\n",
      "class Shape:\r\n",
      "  \r\n",
      "  def area(self) -> 'float':\r\n",
      "    rv = c_double()\r\n",
      "    rc = conf.lib.Shape_Shape_area(self , byref(rv))\r\n",
      "    if rc == 0:\r\n",
      "      return rv.value\r\n",
      "    raise Shape_error()\r\n",
      "  \r\n",
      "  def perimeter(self) -> 'float':\r\n",
      "    rv = c_double()\r\n",
      "    rc = conf.lib.Shape_Shape_perimeter(self , byref(rv))\r\n",
      "    if rc == 0:\r\n",
      "      return rv.value\r\n",
      "    raise Shape_error()\r\n",
      "  \r\n",
      "  def name(self) -> 'str':\r\n",
      "    rv = c_interop_string()\r\n",
      "    rc = conf.lib.Shape_Shape_name(self , byref(rv))\r\n",
      "    if rc == 0:\r\n",
      "      return rv.value\r\n",
      "    raise Shape_error()\r\n",
      "  \r\n",
      "  def from_param(self):\r\n",
      "    return self.ptr\r\n",
      "\r\n",
      "  def __del__(self):\r\n",
      "    conf.lib.Shape_Shape_dispose(self)\r\n",
      "\r\n",
      "class Circle(Shape): \r\n",
      "  def __init__(self, radius: 'float'=None, _p=None) -> 'Circle':\r\n",
      "    if _p:\r\n",
      "      self.ptr = _p\r\n",
      "    else:\r\n",
      "      self.ptr = c_object_p()\r\n",
      "      rc = conf.lib.Shape_Circle_create(radius, byref(self.ptr))\r\n",
      "      if rc != 0:\r\n",
      "        raise Shape_error()\r\n",
      "\r\n",
      "\r\n",
      "\r\n",
      "methodList = [\r\n",
      "  (\"Shape_error\",\r\n",
      "  [],\r\n",
      "  c_interop_string,\r\n",
      "  c_interop_string.to_python_string),\r\n",
      "\r\n",
      "  (\"Shape_clear_error\",\r\n",
      "  [],\r\n",
      "  None),\r\n",
      "  \r\n",
      "  (\"Shape_Shape_dispose\",\r\n",
      "  [Shape],\r\n",
      "  None),\r\n",
      "  (\"Shape_Circle_create\",\r\n",
      "  [c_double, POINTER(c_object_p)],\r\n",
      "  c_int),\r\n",
      "  (\"Shape_Shape_area\",\r\n",
      "  [Shape, POINTER(c_double)],\r\n",
      "  c_int),\r\n",
      "  (\"Shape_Shape_perimeter\",\r\n",
      "  [Shape, POINTER(c_double)],\r\n",
      "  c_int),\r\n",
      "  (\"Shape_Shape_name\",\r\n",
      "  [Shape, POINTER(c_interop_string)],\r\n",
      "  c_int)\r\n",
      "]\r\n",
      "\r\n",
      "# library loading and method registrations\r\n",
      "# based on clang python bindings approach\r\n",
      "\r\n",
      "def register_method(lib, item):\r\n",
      "  func = getattr(lib, item[0])\r\n",
      "\r\n",
      "  if len(item) >= 2:\r\n",
      "    func.argtypes = item[1]\r\n",
      "\r\n",
      "  if len(item) >= 3:\r\n",
      "    func.restype = item[2]\r\n",
      "\r\n",
      "  if len(item) == 4:\r\n",
      "    func.errcheck = item[3]\r\n",
      "\r\n",
      "class CachedProperty(object):\r\n",
      "\r\n",
      "    def __init__(self, wrapped):\r\n",
      "        self.wrapped = wrapped\r\n",
      "        try:\r\n",
      "            self.__doc__ = wrapped.__doc__\r\n",
      "        except:\r\n",
      "            pass\r\n",
      "\r\n",
      "    def __get__(self, instance, instance_type=None):\r\n",
      "        if instance is None:\r\n",
      "            return self\r\n",
      "\r\n",
      "        value = self.wrapped(instance)\r\n",
      "        setattr(instance, self.wrapped.__name__, value)\r\n",
      "\r\n",
      "        return value\r\n",
      "\r\n",
      "class Config:\r\n",
      "    library_path = None\r\n",
      "    loaded = False\r\n",
      "\r\n",
      "    @staticmethod\r\n",
      "    def set_library_path(path):\r\n",
      "        if Config.loaded:\r\n",
      "            raise Exception(\"library path is already set.\")\r\n",
      "        Config.library_path = path\r\n",
      "\r\n",
      "    @CachedProperty\r\n",
      "    def lib(self):\r\n",
      "        lib = self._get_library()\r\n",
      "        for m in methodList:\r\n",
      "          register_method(lib,m)\r\n",
      "        Config.loaded = True\r\n",
      "        return lib\r\n",
      "\r\n",
      "    def _get_filename(self):\r\n",
      "        import platform\r\n",
      "        name = platform.system()\r\n",
      "\r\n",
      "        if name == 'Darwin':\r\n",
      "            file = 'libShape_c.dylib'\r\n",
      "        elif name == 'Windows':\r\n",
      "            file = 'Shape_c.dll'\r\n",
      "        else:\r\n",
      "            file = 'libShape_c.so'\r\n",
      "        return file\r\n",
      "\r\n",
      "    def _get_filepath(self):\r\n",
      "        filename = self._get_filename()\r\n",
      "        if not Config.library_path:\r\n",
      "            return filename\r\n",
      "        return os.path.join(Config.library_path, filename)\r\n",
      "\r\n",
      "    def _get_library(self):\r\n",
      "        try:\r\n",
      "            # Use user-specified library path.\r\n",
      "            if Config.library_path:\r\n",
      "                library = cdll.LoadLibrary(self._get_filepath())\r\n",
      "            else:\r\n",
      "                # Use local file\r\n",
      "                try:\r\n",
      "                    this_file_dir = os.path.abspath(os.path.dirname(__file__))\r\n",
      "                    library = cdll.LoadLibrary(os.path.join(this_file_dir, self._get_filename()))\r\n",
      "                except:\r\n",
      "                    # Use system library path (last).\r\n",
      "                    library = cdll.LoadLibrary(self._get_filename())\r\n",
      "        except OSError as e:\r\n",
      "            msg = str(e) + \". To provide a path to Shape dylib use Config.set_library_path()\"\r\n",
      "            raise Exception(msg)\r\n",
      "\r\n",
      "        return library\r\n",
      "\r\n",
      "conf = Config()\r\n"
     ]
    }
   ],
   "source": [
    "cat Shape/_py3.py"
   ]
  },
  {
   "cell_type": "code",
   "execution_count": 21,
   "metadata": {},
   "outputs": [
    {
     "name": "stdout",
     "output_type": "stream",
     "text": [
      "A Circle with radius 8 has area 201.06176\n"
     ]
    }
   ],
   "source": [
    "%%python2\n",
    "import Shape\n",
    "Shape.Config.set_library_path(\".\")\n",
    "c = Shape.Circle(8)\n",
    "\n",
    "print(\"A {} with radius {} has area {}\".format(c.name(), 8, c.area()))"
   ]
  },
  {
   "cell_type": "code",
   "execution_count": 22,
   "metadata": {
    "slideshow": {
     "slide_type": "slide"
    }
   },
   "outputs": [
    {
     "name": "stdout",
     "output_type": "stream",
     "text": [
      "A Circle with radius 8 has area 201.06176\n"
     ]
    }
   ],
   "source": [
    "%%python3\n",
    "import Shape\n",
    "Shape.Config.set_library_path(\".\")\n",
    "c = Shape.Circle(8)\n",
    "\n",
    "print(\"A {} with radius {} has area {}\".format(c.name(), 8, c.area()))"
   ]
  },
  {
   "cell_type": "code",
   "execution_count": 23,
   "metadata": {
    "slideshow": {
     "slide_type": "slide"
    }
   },
   "outputs": [
    {
     "name": "stdout",
     "output_type": "stream",
     "text": [
      "A Circle with radius 8 has area 201.06176\n"
     ]
    }
   ],
   "source": [
    "%%script pypy\n",
    "import Shape\n",
    "Shape.Config.set_library_path(\".\")\n",
    "c = Shape.Circle(8)\n",
    "\n",
    "print(\"A {} with radius {} has area {}\".format(c.name(), 8, c.area()))"
   ]
  },
  {
   "cell_type": "code",
   "execution_count": 24,
   "metadata": {
    "slideshow": {
     "slide_type": "slide"
    }
   },
   "outputs": [
    {
     "name": "stdout",
     "output_type": "stream",
     "text": [
      "A Circle with radius 8 has area 201.06176\n"
     ]
    }
   ],
   "source": [
    "%%script /opt/intel/intelpython35/bin/python\n",
    "import Shape\n",
    "Shape.Config.set_library_path(\".\")\n",
    "c = Shape.Circle(8)\n",
    "\n",
    "print(\"A {} with radius {} has area {}\".format(c.name(), 8, c.area()))"
   ]
  },
  {
   "cell_type": "code",
   "execution_count": 25,
   "metadata": {
    "collapsed": true
   },
   "outputs": [],
   "source": [
    "from Shape import *"
   ]
  },
  {
   "cell_type": "code",
   "execution_count": 26,
   "metadata": {},
   "outputs": [
    {
     "name": "stdout",
     "output_type": "stream",
     "text": [
      "Circle radius \"-8.000000\" must be non-negative.\n"
     ]
    }
   ],
   "source": [
    "try:\n",
    "    c = Circle(-8)\n",
    "except Exception as e:\n",
    "    print(e)"
   ]
  },
  {
   "cell_type": "markdown",
   "metadata": {},
   "source": [
    "## FFIG needs you!"
   ]
  },
  {
   "cell_type": "markdown",
   "metadata": {
    "collapsed": true
   },
   "source": [
    "FFIG is MIT-licensed and hosted on GitHub.\n",
    "\n",
    "Contributions, issues and feedback are very welcome."
   ]
  }
 ],
 "metadata": {
  "kernelspec": {
   "display_name": "Python 2",
   "language": "python",
   "name": "python2"
  },
  "language_info": {
   "codemirror_mode": {
    "name": "ipython",
    "version": 2
   },
   "file_extension": ".py",
   "mimetype": "text/x-python",
   "name": "python",
   "nbconvert_exporter": "python",
   "pygments_lexer": "ipython2",
   "version": "2.7.13"
  }
 },
 "nbformat": 4,
 "nbformat_minor": 1
}
