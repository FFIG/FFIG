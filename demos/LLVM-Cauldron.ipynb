{
 "cells": [
  {
   "cell_type": "markdown",
   "metadata": {
    "slideshow": {
     "slide_type": "slide"
    }
   },
   "source": [
    "# LLVM Cauldron - Wuthering Bytes 2016-09-08\n",
    "\n",
    "# Generating Python & Ruby bindings from C++\n",
    "\n",
    "### Jonathan B Coe\n",
    "### jbcoe@me.com\n",
    "\n",
    "## https://github.com/jbcoe/C_API_generation\n",
    "## https://github.com/jbcoe/clang_cpp_code_model"
   ]
  },
  {
   "cell_type": "markdown",
   "metadata": {
    "slideshow": {
     "slide_type": "slide"
    }
   },
   "source": [
    "Write a C++ class out to a file in the current working directory"
   ]
  },
  {
   "cell_type": "code",
   "execution_count": 2,
   "metadata": {
    "collapsed": false,
    "slideshow": {
     "slide_type": "fragment"
    }
   },
   "outputs": [],
   "source": [
    "outputfile = \"Shape.h\""
   ]
  },
  {
   "cell_type": "code",
   "execution_count": 3,
   "metadata": {
    "collapsed": false,
    "slideshow": {
     "slide_type": "fragment"
    }
   },
   "outputs": [
    {
     "name": "stdout",
     "output_type": "stream",
     "text": [
      "Overwriting Shape.h\n"
     ]
    }
   ],
   "source": [
    "%%file $outputfile\n",
    "#include <stdexcept>\n",
    "#include <string>\n",
    "\n",
    "struct Shape\n",
    "{\n",
    "  virtual ~Shape() = default;\n",
    "  virtual double area() const = 0;\n",
    "  virtual double perimeter() const = 0;\n",
    "  virtual const char* name() const = 0;\n",
    "} __attribute__((annotate(\"GENERATE_C_API\")));\n",
    "\n",
    "static const double pi = 4.0;\n",
    "\n",
    "class Circle : public Shape\n",
    "{\n",
    "  const double radius_;\n",
    "\n",
    "public:\n",
    "  double area() const override\n",
    "  {\n",
    "    return pi * radius_ * radius_;\n",
    "  }\n",
    "\n",
    "  double perimeter() const override\n",
    "  {\n",
    "    return 2 * pi * radius_;\n",
    "  }\n",
    "\n",
    "  const char* name() const override\n",
    "  {\n",
    "    return \"Circle\";\n",
    "  }\n",
    "\n",
    "  Circle(double radius) : radius_(radius)\n",
    "  {\n",
    "    if ( radius < 0 ) \n",
    "    { \n",
    "      std::string s = \"Circle radius \\\"\" + std::to_string(radius_) + \"\\\" must be non-negative.\";\n",
    "      throw std::runtime_error(s);\n",
    "    }\n",
    "  }\n",
    "};"
   ]
  },
  {
   "cell_type": "markdown",
   "metadata": {
    "slideshow": {
     "slide_type": "slide"
    }
   },
   "source": [
    "Compile our header to check it's valid C++"
   ]
  },
  {
   "cell_type": "code",
   "execution_count": 4,
   "metadata": {
    "collapsed": false,
    "slideshow": {
     "slide_type": "fragment"
    }
   },
   "outputs": [],
   "source": [
    "%%sh\n",
    "clang++ -x c++ -fsyntax-only -std=c++14 Shape.h "
   ]
  },
  {
   "cell_type": "markdown",
   "metadata": {
    "slideshow": {
     "slide_type": "slide"
    }
   },
   "source": [
    "Read the code using libclang"
   ]
  },
  {
   "cell_type": "code",
   "execution_count": 5,
   "metadata": {
    "collapsed": true,
    "slideshow": {
     "slide_type": "fragment"
    }
   },
   "outputs": [],
   "source": [
    "import clang.cindex\n",
    "\n",
    "index = clang.cindex.Index.create()\n",
    "translation_unit = index.parse(outputfile, ['-x', 'c++', '-std=c++14'])"
   ]
  },
  {
   "cell_type": "code",
   "execution_count": 6,
   "metadata": {
    "collapsed": false,
    "slideshow": {
     "slide_type": "fragment"
    }
   },
   "outputs": [
    {
     "name": "stdout",
     "output_type": "stream",
     "text": [
      "Shape.h (TRANSLATION_UNIT)\n",
      "  +--Shape (STRUCT_DECL)\n",
      "  |  +--GENERATE_C_API (ANNOTATE_ATTR)\n",
      "  |  +--~Shape (DESTRUCTOR)\n",
      "  |  |  +-- (COMPOUND_STMT)\n",
      "  |  +--area (CXX_METHOD)\n",
      "  |  +--perimeter (CXX_METHOD)\n",
      "  |  +--name (CXX_METHOD)\n",
      "  +--pi (VAR_DECL)\n",
      "  |  +-- (FLOATING_LITERAL)\n",
      "  +--Circle (CLASS_DECL)\n",
      "     +--struct Shape (CXX_BASE_SPECIFIER)\n",
      "     |  +--struct Shape (TYPE_REF)\n",
      "     +--radius_ (FIELD_DECL)\n",
      "     +-- (CXX_ACCESS_SPEC_DECL)\n",
      "     +--area (CXX_METHOD)\n",
      "     |  +-- (CXX_OVERRIDE_ATTR)\n",
      "     |  +-- (COMPOUND_STMT)\n",
      "     |     +-- (RETURN_STMT)\n",
      "     |        +-- (BINARY_OPERATOR)\n",
      "     |           +-- (BINARY_OPERATOR)\n",
      "     |           |  +--pi (UNEXPOSED_EXPR)\n",
      "     |           |  |  +--pi (DECL_REF_EXPR)\n",
      "     |           |  +--radius_ (UNEXPOSED_EXPR)\n",
      "     |           |     +--radius_ (MEMBER_REF_EXPR)\n",
      "     |           +--radius_ (UNEXPOSED_EXPR)\n",
      "     |              +--radius_ (MEMBER_REF_EXPR)\n",
      "     +--perimeter (CXX_METHOD)\n",
      "     |  +-- (CXX_OVERRIDE_ATTR)\n",
      "     |  +-- (COMPOUND_STMT)\n",
      "     |     +-- (RETURN_STMT)\n",
      "     |        +-- (BINARY_OPERATOR)\n",
      "     |           +-- (BINARY_OPERATOR)\n",
      "     |           |  +-- (UNEXPOSED_EXPR)\n",
      "     |           |  |  +-- (INTEGER_LITERAL)\n",
      "     |           |  +--pi (UNEXPOSED_EXPR)\n",
      "     |           |     +--pi (DECL_REF_EXPR)\n",
      "     |           +--radius_ (UNEXPOSED_EXPR)\n",
      "     |              +--radius_ (MEMBER_REF_EXPR)\n",
      "     +--name (CXX_METHOD)\n",
      "     |  +-- (CXX_OVERRIDE_ATTR)\n",
      "     |  +-- (COMPOUND_STMT)\n",
      "     |     +-- (RETURN_STMT)\n",
      "     |        +-- (UNEXPOSED_EXPR)\n",
      "     |           +--\"Circle\" (STRING_LITERAL)\n",
      "     +--Circle (CONSTRUCTOR)\n",
      "        +--radius (PARM_DECL)\n",
      "        +--radius_ (MEMBER_REF)\n",
      "        +--radius (UNEXPOSED_EXPR)\n",
      "        |  +--radius (DECL_REF_EXPR)\n",
      "        +-- (COMPOUND_STMT)\n",
      "           +-- (IF_STMT)\n",
      "              +-- (BINARY_OPERATOR)\n",
      "              |  +--radius (UNEXPOSED_EXPR)\n",
      "              |  |  +--radius (DECL_REF_EXPR)\n",
      "              |  +-- (UNEXPOSED_EXPR)\n",
      "              |     +-- (INTEGER_LITERAL)\n",
      "              +-- (COMPOUND_STMT)\n",
      "                 +-- (DECL_STMT)\n",
      "                 |  +--s (VAR_DECL)\n",
      "                 |     +--std (NAMESPACE_REF)\n",
      "                 |     +--string (TYPE_REF)\n",
      "                 |     +-- (UNEXPOSED_EXPR)\n",
      "                 |        +-- (CALL_EXPR)\n",
      "                 |           +-- (UNEXPOSED_EXPR)\n",
      "                 |              +-- (UNEXPOSED_EXPR)\n",
      "                 |                 +--operator+ (CALL_EXPR)\n",
      "                 |                    +-- (UNEXPOSED_EXPR)\n",
      "                 |                    |  +-- (UNEXPOSED_EXPR)\n",
      "                 |                    |     +--operator+ (CALL_EXPR)\n",
      "                 |                    |        +-- (UNEXPOSED_EXPR)\n",
      "                 |                    |        |  +--\"Circle radius \\\"\" (STRING_LITERAL)\n",
      "                 |                    |        +--operator+ (UNEXPOSED_EXPR)\n",
      "                 |                    |        |  +--operator+ (DECL_REF_EXPR)\n",
      "                 |                    |        +-- (UNEXPOSED_EXPR)\n",
      "                 |                    |           +-- (UNEXPOSED_EXPR)\n",
      "                 |                    |              +--to_string (CALL_EXPR)\n",
      "                 |                    |                 +--to_string (UNEXPOSED_EXPR)\n",
      "                 |                    |                 |  +--to_string (DECL_REF_EXPR)\n",
      "                 |                    |                 |     +--std (NAMESPACE_REF)\n",
      "                 |                    |                 +--radius_ (UNEXPOSED_EXPR)\n",
      "                 |                    |                    +--radius_ (MEMBER_REF_EXPR)\n",
      "                 |                    +--operator+ (UNEXPOSED_EXPR)\n",
      "                 |                    |  +--operator+ (DECL_REF_EXPR)\n",
      "                 |                    +-- (UNEXPOSED_EXPR)\n",
      "                 |                       +--\"\\\" must be non-negative.\" (STRING_LITERAL)\n",
      "                 +-- (UNEXPOSED_EXPR)\n",
      "                    +-- (CXX_THROW_EXPR)\n",
      "                       +-- (CALL_EXPR)\n",
      "                          +-- (UNEXPOSED_EXPR)\n",
      "                             +-- (UNEXPOSED_EXPR)\n",
      "                                +-- (CXX_FUNCTIONAL_CAST_EXPR)\n",
      "                                   +--std (NAMESPACE_REF)\n",
      "                                   +--class std::runtime_error (TYPE_REF)\n",
      "                                   +-- (UNEXPOSED_EXPR)\n",
      "                                      +--runtime_error (CALL_EXPR)\n",
      "                                         +--s (UNEXPOSED_EXPR)\n",
      "                                            +--s (DECL_REF_EXPR)\n"
     ]
    }
   ],
   "source": [
    "import asciitree\n",
    "\n",
    "def node_children(node):\n",
    "    return (c for c in node.get_children() if c.location.file.name == outputfile)\n",
    "\n",
    "print asciitree.draw_tree(translation_unit.cursor,\n",
    "  lambda n: [c for c in node_children(n)],\n",
    "  lambda n: \"%s (%s)\" % (n.spelling or n.displayname, str(n.kind).split(\".\")[1]))\n"
   ]
  },
  {
   "cell_type": "markdown",
   "metadata": {
    "slideshow": {
     "slide_type": "slide"
    }
   },
   "source": [
    "Turn the AST into some easy to manipulate Python classes"
   ]
  },
  {
   "cell_type": "code",
   "execution_count": 7,
   "metadata": {
    "collapsed": false,
    "slideshow": {
     "slide_type": "fragment"
    }
   },
   "outputs": [],
   "source": [
    "import sys\n",
    "sys.path.insert(0,'../externals/clang_cpp_code_model')\n",
    "import cppmodel"
   ]
  },
  {
   "cell_type": "code",
   "execution_count": 8,
   "metadata": {
    "collapsed": false,
    "slideshow": {
     "slide_type": "fragment"
    }
   },
   "outputs": [],
   "source": [
    "model = cppmodel.Model(translation_unit)"
   ]
  },
  {
   "cell_type": "code",
   "execution_count": 9,
   "metadata": {
    "collapsed": false,
    "slideshow": {
     "slide_type": "fragment"
    }
   },
   "outputs": [
    {
     "data": {
      "text/plain": [
       "['to_wstring', 'operator\"\"s', 'operator\"\"s', 'operator\"\"s', 'operator\"\"s']"
      ]
     },
     "execution_count": 9,
     "metadata": {},
     "output_type": "execute_result"
    }
   ],
   "source": [
    "[f.name for f in model.functions][-5:]"
   ]
  },
  {
   "cell_type": "code",
   "execution_count": 10,
   "metadata": {
    "collapsed": false,
    "slideshow": {
     "slide_type": "fragment"
    }
   },
   "outputs": [
    {
     "data": {
      "text/plain": [
       "['__basic_string_common', 'basic_string', 'basic_string', 'Shape', 'Circle']"
      ]
     },
     "execution_count": 10,
     "metadata": {},
     "output_type": "execute_result"
    }
   ],
   "source": [
    "[c.name for c in model.classes][-5:]"
   ]
  },
  {
   "cell_type": "code",
   "execution_count": 11,
   "metadata": {
    "collapsed": false,
    "slideshow": {
     "slide_type": "fragment"
    }
   },
   "outputs": [],
   "source": [
    "shape_class = [c for c in model.classes if c.name=='Shape'][0]"
   ]
  },
  {
   "cell_type": "code",
   "execution_count": 12,
   "metadata": {
    "collapsed": false,
    "slideshow": {
     "slide_type": "fragment"
    }
   },
   "outputs": [
    {
     "data": {
      "text/plain": [
       "['Shape::area', 'Shape::perimeter', 'Shape::name']"
      ]
     },
     "execution_count": 12,
     "metadata": {},
     "output_type": "execute_result"
    }
   ],
   "source": [
    "[\"{}::{}\".format(shape_class.name,m.name) for m in shape_class.methods]"
   ]
  },
  {
   "cell_type": "markdown",
   "metadata": {
    "slideshow": {
     "slide_type": "slide"
    }
   },
   "source": [
    "Look at the templates the generator uses"
   ]
  },
  {
   "cell_type": "code",
   "execution_count": 13,
   "metadata": {
    "collapsed": false,
    "slideshow": {
     "slide_type": "fragment"
    }
   },
   "outputs": [
    {
     "name": "stdout",
     "output_type": "stream",
     "text": [
      "{\r\n",
      "  \"name\" : \"{{class.name}}\"{% if class.methods %},\r\n",
      "  \"methods\" : [{% for method in class.methods %}\r\n",
      "    {\r\n",
      "      \"name\" : \"{{method.name}}\",\r\n",
      "      \"return_type\" : \"{{method.return_type}}\"\r\n",
      "    }{% if not forloop.last %},{% endif %}{% endfor %}\r\n",
      "  ]{% endif %}\r\n",
      "}\r\n"
     ]
    }
   ],
   "source": [
    "%cat ../templates/json.tmpl"
   ]
  },
  {
   "cell_type": "markdown",
   "metadata": {
    "slideshow": {
     "slide_type": "slide"
    }
   },
   "source": [
    "Run the code generator"
   ]
  },
  {
   "cell_type": "code",
   "execution_count": 14,
   "metadata": {
    "collapsed": false,
    "slideshow": {
     "slide_type": "fragment"
    }
   },
   "outputs": [],
   "source": [
    "%%sh\n",
    "export PYTHONPATH=../externals/clang_cpp_code_model:$PYTHONPATH\n",
    "../generate.py Shape.h ../templates/ . "
   ]
  },
  {
   "cell_type": "markdown",
   "metadata": {
    "slideshow": {
     "slide_type": "fragment"
    }
   },
   "source": [
    "See what it created"
   ]
  },
  {
   "cell_type": "code",
   "execution_count": 15,
   "metadata": {
    "collapsed": false,
    "slideshow": {
     "slide_type": "fragment"
    }
   },
   "outputs": [
    {
     "name": "stdout",
     "output_type": "stream",
     "text": [
      "CMakeCache.txt       Shape.json           Shape_cpp.h\r\n",
      "\u001b[34mCMakeFiles\u001b[m\u001b[m/          Shape.py             Shape_mocks.h\r\n",
      "CMakeLists.txt       Shape.pyc            \u001b[34m__pycache__\u001b[m\u001b[m/\r\n",
      "LLVM-Cauldron.ipynb  Shape.rb             cmake_install.cmake\r\n",
      "Makefile             Shape_c.cpp          \u001b[31mlibShape_c.dylib\u001b[m\u001b[m*\r\n",
      "Shape.h              Shape_c.h\r\n"
     ]
    }
   ],
   "source": [
    "%ls"
   ]
  },
  {
   "cell_type": "code",
   "execution_count": 16,
   "metadata": {
    "collapsed": false,
    "slideshow": {
     "slide_type": "slide"
    }
   },
   "outputs": [
    {
     "name": "stdout",
     "output_type": "stream",
     "text": [
      "{\r\n",
      "  \"name\" : \"Shape\",\r\n",
      "  \"methods\" : [\r\n",
      "    {\r\n",
      "      \"name\" : \"area\",\r\n",
      "      \"return_type\" : \"double\"\r\n",
      "    },\r\n",
      "    {\r\n",
      "      \"name\" : \"perimeter\",\r\n",
      "      \"return_type\" : \"double\"\r\n",
      "    },\r\n",
      "    {\r\n",
      "      \"name\" : \"name\",\r\n",
      "      \"return_type\" : \"const char *\"\r\n",
      "    }\r\n",
      "  ]\r\n",
      "}\r\n"
     ]
    }
   ],
   "source": [
    "%cat Shape.json"
   ]
  },
  {
   "cell_type": "markdown",
   "metadata": {
    "slideshow": {
     "slide_type": "slide"
    }
   },
   "source": [
    "Build some bindings with the generated code."
   ]
  },
  {
   "cell_type": "code",
   "execution_count": 17,
   "metadata": {
    "collapsed": false,
    "slideshow": {
     "slide_type": "fragment"
    }
   },
   "outputs": [
    {
     "name": "stdout",
     "output_type": "stream",
     "text": [
      "Overwriting CMakeLists.txt\n"
     ]
    }
   ],
   "source": [
    "%%file CMakeLists.txt\n",
    "\n",
    "cmake_minimum_required(VERSION 3.0)\n",
    "set(CMAKE_CXX_STANDARD 14)\n",
    "add_library(Shape_c SHARED Shape_c.cpp)"
   ]
  },
  {
   "cell_type": "code",
   "execution_count": 18,
   "metadata": {
    "collapsed": false,
    "slideshow": {
     "slide_type": "fragment"
    }
   },
   "outputs": [
    {
     "name": "stdout",
     "output_type": "stream",
     "text": [
      "-- Configuring done\n",
      "-- Generating done\n",
      "-- Build files have been written to: /Users/jon/DEV/C_APICodeGen/demos\n",
      "Scanning dependencies of target Shape_c\n",
      "[ 50%] Building CXX object CMakeFiles/Shape_c.dir/Shape_c.cpp.o\n",
      "[100%] Linking CXX shared library libShape_c.dylib\n",
      "[100%] Built target Shape_c\n"
     ]
    }
   ],
   "source": [
    "%%sh\n",
    "cmake . \n",
    "cmake --build ."
   ]
  },
  {
   "cell_type": "code",
   "execution_count": 19,
   "metadata": {
    "collapsed": false,
    "slideshow": {
     "slide_type": "slide"
    }
   },
   "outputs": [
    {
     "name": "stdout",
     "output_type": "stream",
     "text": [
      "A Circle with radius 8 has area 256.0\n"
     ]
    }
   ],
   "source": [
    "%%python2\n",
    "import Shape\n",
    "Shape.Config.set_library_path(\".\")\n",
    "c = Shape.Circle(8)\n",
    "\n",
    "print \"A {} with radius {} has area {}\".format(c.name(), 8, c.area())"
   ]
  },
  {
   "cell_type": "code",
   "execution_count": 20,
   "metadata": {
    "collapsed": false,
    "slideshow": {
     "slide_type": "slide"
    }
   },
   "outputs": [
    {
     "name": "stdout",
     "output_type": "stream",
     "text": [
      "A Circle with radius 8 has area 256.0\n"
     ]
    }
   ],
   "source": [
    "%%script pypy\n",
    "import Shape\n",
    "Shape.Config.set_library_path(\".\")\n",
    "c = Shape.Circle(8)\n",
    "\n",
    "print \"A {} with radius {} has area {}\".format(c.name(), 8, c.area())"
   ]
  },
  {
   "cell_type": "code",
   "execution_count": 21,
   "metadata": {
    "collapsed": false,
    "slideshow": {
     "slide_type": "slide"
    }
   },
   "outputs": [
    {
     "name": "stdout",
     "output_type": "stream",
     "text": [
      "A Circle with radius 8 has area 256.0\n"
     ]
    }
   ],
   "source": [
    "%%ruby\n",
    "load \"Shape.rb\"\n",
    "c = Circle.new(8)\n",
    "\n",
    "puts(\"A #{c.name()} with radius #{8} has area #{c.area()}\")"
   ]
  }
 ],
 "metadata": {
  "kernelspec": {
   "display_name": "Python 2",
   "language": "python",
   "name": "python2"
  },
  "language_info": {
   "codemirror_mode": {
    "name": "ipython",
    "version": 2
   },
   "file_extension": ".py",
   "mimetype": "text/x-python",
   "name": "python",
   "nbconvert_exporter": "python",
   "pygments_lexer": "ipython2",
   "version": "2.7.12"
  }
 },
 "nbformat": 4,
 "nbformat_minor": 1
}
