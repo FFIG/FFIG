{
 "cells": [
  {
   "cell_type": "markdown",
   "metadata": {},
   "source": [
    "# LLVM Cauldron - Wuthering Bytes 2016-09-08\n",
    "\n",
    "# Generating Python & Ruby bindings from C++\n",
    "\n",
    "### Jonathan B Coe\n",
    "### jbcoe@me.com\n",
    "\n",
    "## https://github.com/jbcoe/C_API_generation\n",
    "## https://github.com/jbcoe/clang_cpp_code_model"
   ]
  },
  {
   "cell_type": "markdown",
   "metadata": {},
   "source": [
    "Write a C++ class out to a file in the current working directory"
   ]
  },
  {
   "cell_type": "code",
   "execution_count": null,
   "metadata": {
    "collapsed": false
   },
   "outputs": [],
   "source": [
    "outputfile = \"Shape.h\""
   ]
  },
  {
   "cell_type": "code",
   "execution_count": null,
   "metadata": {
    "collapsed": false
   },
   "outputs": [],
   "source": [
    "%%file $outputfile\n",
    "#include <cmath>\n",
    "#include <stdexcept>\n",
    "#include <string>\n",
    "\n",
    "struct Shape\n",
    "{\n",
    "  virtual ~Shape()\n",
    "  {\n",
    "  }\n",
    "  virtual double area() const = 0;\n",
    "  virtual double perimeter() const = 0;\n",
    "  virtual const char* name() const = 0;\n",
    "} __attribute__((annotate(\"GENERATE_C_API\")));\n",
    "\n",
    "static const double pi = 3.14159265359;\n",
    "\n",
    "class Circle : public Shape\n",
    "{\n",
    "  const double radius_;\n",
    "\n",
    "public:\n",
    "  double area() const override\n",
    "  {\n",
    "    return pi * radius_ * radius_;\n",
    "  }\n",
    "\n",
    "  double perimeter() const override\n",
    "  {\n",
    "    return 2 * pi * radius_;\n",
    "  }\n",
    "\n",
    "  const char* name() const override\n",
    "  {\n",
    "    return \"Circle\";\n",
    "  }\n",
    "\n",
    "  Circle(double radius) : radius_(radius)\n",
    "  {\n",
    "    if ( radius < 0 ) \n",
    "    { \n",
    "      std::string s = \"Circle radius \\\"\" + std::to_string(radius_) + \"\\\" must be non-negative.\";\n",
    "      throw std::runtime_error(s);\n",
    "    }\n",
    "  }\n",
    "};"
   ]
  },
  {
   "cell_type": "markdown",
   "metadata": {},
   "source": [
    "Compile our header to check it's valid C++"
   ]
  },
  {
   "cell_type": "code",
   "execution_count": null,
   "metadata": {
    "collapsed": false
   },
   "outputs": [],
   "source": [
    "%%sh\n",
    "clang++-3.8 -x c++ -fsyntax-only -std=c++14 Shape.h "
   ]
  },
  {
   "cell_type": "markdown",
   "metadata": {},
   "source": [
    "Read the code using libclang"
   ]
  },
  {
   "cell_type": "code",
   "execution_count": null,
   "metadata": {
    "collapsed": true
   },
   "outputs": [],
   "source": [
    "import clang.cindex\n",
    "\n",
    "index = clang.cindex.Index.create()\n",
    "translation_unit = index.parse(outputfile, ['-x', 'c++', '-std=c++14'])"
   ]
  },
  {
   "cell_type": "code",
   "execution_count": null,
   "metadata": {
    "collapsed": false
   },
   "outputs": [],
   "source": [
    "import asciitree\n",
    "\n",
    "def node_children(node):\n",
    "    return (c for c in node.get_children() if c.location.file.name == outputfile)\n",
    "\n",
    "print asciitree.draw_tree(translation_unit.cursor,\n",
    "  lambda n: [c for c in node_children(n)],\n",
    "  lambda n: \"%s (%s)\" % (n.spelling or n.displayname, str(n.kind).split(\".\")[1]))\n"
   ]
  },
  {
   "cell_type": "markdown",
   "metadata": {},
   "source": [
    "Turn the AST into some easy to manipulate Python classes"
   ]
  },
  {
   "cell_type": "code",
   "execution_count": null,
   "metadata": {
    "collapsed": false
   },
   "outputs": [],
   "source": [
    "import sys\n",
    "sys.path.insert(0,'../externals/clang_cpp_code_model')\n",
    "import cppmodel"
   ]
  },
  {
   "cell_type": "code",
   "execution_count": null,
   "metadata": {
    "collapsed": false
   },
   "outputs": [],
   "source": [
    "model = cppmodel.Model(translation_unit)"
   ]
  },
  {
   "cell_type": "code",
   "execution_count": null,
   "metadata": {
    "collapsed": false
   },
   "outputs": [],
   "source": [
    "[f.name for f in model.functions]"
   ]
  },
  {
   "cell_type": "code",
   "execution_count": null,
   "metadata": {
    "collapsed": false
   },
   "outputs": [],
   "source": [
    "[c.name for c in model.classes]"
   ]
  },
  {
   "cell_type": "code",
   "execution_count": null,
   "metadata": {
    "collapsed": false
   },
   "outputs": [],
   "source": [
    "shape_class = [c for c in model.classes if c.name=='Shape'][0]"
   ]
  },
  {
   "cell_type": "code",
   "execution_count": null,
   "metadata": {
    "collapsed": false
   },
   "outputs": [],
   "source": [
    "[\"{}::{}\".format(shape_class.name,m.name) for m in shape_class.methods]"
   ]
  },
  {
   "cell_type": "markdown",
   "metadata": {},
   "source": [
    "Look at the templates the generator uses"
   ]
  },
  {
   "cell_type": "code",
   "execution_count": null,
   "metadata": {
    "collapsed": false
   },
   "outputs": [],
   "source": [
    "%cat ../templates/json.tmpl"
   ]
  },
  {
   "cell_type": "markdown",
   "metadata": {},
   "source": [
    "Run the code generator"
   ]
  },
  {
   "cell_type": "code",
   "execution_count": null,
   "metadata": {
    "collapsed": false
   },
   "outputs": [],
   "source": [
    "%%sh\n",
    "export PYTHONPATH=../externals/clang_cpp_code_model:$PYTHONPATH\n",
    "../generate.py Shape.h ../templates/ . "
   ]
  },
  {
   "cell_type": "markdown",
   "metadata": {},
   "source": [
    "See what it created"
   ]
  },
  {
   "cell_type": "code",
   "execution_count": null,
   "metadata": {
    "collapsed": false
   },
   "outputs": [],
   "source": [
    "%ls"
   ]
  },
  {
   "cell_type": "markdown",
   "metadata": {},
   "source": [
    "Build some bindings with the generated code."
   ]
  },
  {
   "cell_type": "code",
   "execution_count": null,
   "metadata": {
    "collapsed": false
   },
   "outputs": [],
   "source": [
    "%%file CMakeLists.txt\n",
    "\n",
    "cmake_minimum_required(VERSION 3.0)\n",
    "set(CMAKE_CXX_STANDARD 14)\n",
    "set(CMAKE_CXX_COMPILER /usr/local/bin/clang++-3.8)\n",
    "add_library(Shape_c SHARED Shape_c.cpp)"
   ]
  },
  {
   "cell_type": "code",
   "execution_count": null,
   "metadata": {
    "collapsed": false
   },
   "outputs": [],
   "source": [
    "%%sh\n",
    "cmake . \n",
    "cmake --build ."
   ]
  },
  {
   "cell_type": "code",
   "execution_count": null,
   "metadata": {
    "collapsed": false
   },
   "outputs": [],
   "source": [
    "%%python2\n",
    "import Shape\n",
    "Shape.Config.set_library_path(\"/Users/jon/DEV/C_APICodeGen/demos/\")\n",
    "c = Shape.Circle(8)\n",
    "\n",
    "print \"A {} with radius {} has area {}\".format(c.name(), 8, c.area())"
   ]
  },
  {
   "cell_type": "code",
   "execution_count": null,
   "metadata": {
    "collapsed": false
   },
   "outputs": [],
   "source": [
    "%%script pypy\n",
    "import Shape\n",
    "Shape.Config.set_library_path(\"/Users/jon/DEV/C_APICodeGen/demos/\")\n",
    "c = Shape.Circle(8)\n",
    "\n",
    "print \"A {} with radius {} has area {}\".format(c.name(), 8, c.area())"
   ]
  },
  {
   "cell_type": "code",
   "execution_count": null,
   "metadata": {
    "collapsed": false
   },
   "outputs": [],
   "source": [
    "%%ruby\n",
    "load \"Shape.rb\"\n",
    "c = Circle.new(8)\n",
    "\n",
    "puts(\"A #{c.name()} with radius #{8} has area #{c.area()}\")"
   ]
  }
 ],
 "metadata": {
  "kernelspec": {
   "display_name": "Python 2",
   "language": "python",
   "name": "python2"
  },
  "language_info": {
   "codemirror_mode": {
    "name": "ipython",
    "version": 2
   },
   "file_extension": ".py",
   "mimetype": "text/x-python",
   "name": "python",
   "nbconvert_exporter": "python",
   "pygments_lexer": "ipython2",
   "version": "2.7.12"
  }
 },
 "nbformat": 4,
 "nbformat_minor": 1
}
